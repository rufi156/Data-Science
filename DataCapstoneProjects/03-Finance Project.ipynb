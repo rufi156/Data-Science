{
 "cells": [
  {
   "cell_type": "markdown",
   "metadata": {},
   "source": [
    "# Finance Data Project \n",
    "\n",
    "In this data project we will focus on exploratory data analysis of stock prices. Keep in mind, this project is just meant to practice your visualization and pandas skills, it is not meant to be a robust financial analysis or be taken as financial advice.\n",
    "____\n",
    "** NOTE: This project is extremely challenging because it will introduce a lot of new concepts and have you looking things up on your own (we'll point you in the right direction) to try to solve the tasks issued. Feel free to just go through the solutions lecture notebook and video as a \"walkthrough\" project if you don't want to have to look things up yourself. You'll still learn a lot that way! **\n",
    "____\n",
    "We'll focus on bank stocks and see how they progressed throughout the [financial crisis](https://en.wikipedia.org/wiki/Financial_crisis_of_2007%E2%80%9308) all the way to early 2016."
   ]
  },
  {
   "cell_type": "markdown",
   "metadata": {},
   "source": [
    "## Get the Data\n",
    "\n",
    "In this section we will learn how to use pandas to directly read data from Google finance using pandas!\n",
    "\n",
    "First we need to start with the proper imports, which we've already laid out for you here.\n",
    "\n",
    "*Note: [You'll need to install pandas-datareader for this to work!](https://github.com/pydata/pandas-datareader) Pandas datareader allows you to [read stock information directly from the internet](http://pandas.pydata.org/pandas-docs/stable/remote_data.html) Use these links for install guidance (**pip install pandas-datareader**), or just follow along with the video lecture.*\n",
    "\n",
    "### The Imports\n"
   ]
  },
  {
   "cell_type": "code",
   "execution_count": 1,
   "metadata": {},
   "outputs": [],
   "source": [
    "from pandas_datareader import data, wb\n",
    "import pandas as pd\n",
    "import numpy as np\n",
    "import seaborn as sns\n",
    "import datetime\n",
    "%matplotlib inline"
   ]
  },
  {
   "cell_type": "markdown",
   "metadata": {},
   "source": [
    "## Data\n",
    "\n",
    "We need to get data using pandas datareader. We will get stock information for the following banks:\n",
    "*  Bank of America\n",
    "* CitiGroup\n",
    "* Goldman Sachs\n",
    "* JPMorgan Chase\n",
    "* Morgan Stanley\n",
    "* Wells Fargo\n",
    "\n",
    "** Figure out how to get the stock data from Jan 1st 2006 to Jan 1st 2016 for each of these banks. Set each bank to be a separate dataframe, with the variable name for that bank being its ticker symbol. This will involve a few steps:**\n",
    "1. Use datetime to set start and end datetime objects.\n",
    "2. Figure out the ticker symbol for each bank.\n",
    "2. Figure out how to use datareader to grab info on the stock.\n",
    "\n",
    "** Use [this documentation page](https://pandas-datareader.readthedocs.io/en/latest/remote_data.html) for hints and instructions (it should just be a matter of replacing certain values. Use google finance as a source, for example:**\n",
    "    \n",
    "    # Bank of America\n",
    "    BAC = data.DataReader(\"BAC\", 'google', start, end)\n",
    "\n",
    "### WARNING: MAKE SURE TO CHECK THE LINK ABOVE FOR THE LATEST WORKING API. \"google\" MAY NOT ALWAYS WORK. \n",
    "------------\n",
    "### We also provide pickle file in the article lecture right before the video lectures."
   ]
  },
  {
   "cell_type": "code",
   "execution_count": 2,
   "metadata": {},
   "outputs": [],
   "source": [
    "start = datetime.datetime(2006, 1, 1)\n",
    "end = datetime.datetime(2016, 1, 1)"
   ]
  },
  {
   "cell_type": "markdown",
   "metadata": {},
   "source": [
    "** Create a list of the ticker symbols (as strings) in alphabetical order. Call this list: tickers**"
   ]
  },
  {
   "cell_type": "code",
   "execution_count": 3,
   "metadata": {},
   "outputs": [
    {
     "data": {
      "text/plain": [
       "['BAC', 'C', 'GS', 'JPM', 'MS', 'WFC']"
      ]
     },
     "execution_count": 3,
     "metadata": {},
     "output_type": "execute_result"
    }
   ],
   "source": [
    "tickers = 'BAC C GS JPM MS WFC'.split()\n",
    "tickers.sort()\n",
    "tickers"
   ]
  },
  {
   "cell_type": "code",
   "execution_count": 4,
   "metadata": {},
   "outputs": [],
   "source": [
    "for tick in tickers:\n",
    "    globals()[tick] = data.DataReader(tick, 'stooq', start=start, end=end)"
   ]
  },
  {
   "cell_type": "code",
   "execution_count": 5,
   "metadata": {},
   "outputs": [
    {
     "data": {
      "text/html": [
       "<div>\n",
       "<style scoped>\n",
       "    .dataframe tbody tr th:only-of-type {\n",
       "        vertical-align: middle;\n",
       "    }\n",
       "\n",
       "    .dataframe tbody tr th {\n",
       "        vertical-align: top;\n",
       "    }\n",
       "\n",
       "    .dataframe thead th {\n",
       "        text-align: right;\n",
       "    }\n",
       "</style>\n",
       "<table border=\"1\" class=\"dataframe\">\n",
       "  <thead>\n",
       "    <tr style=\"text-align: right;\">\n",
       "      <th></th>\n",
       "      <th>Open</th>\n",
       "      <th>High</th>\n",
       "      <th>Low</th>\n",
       "      <th>Close</th>\n",
       "      <th>Volume</th>\n",
       "    </tr>\n",
       "    <tr>\n",
       "      <th>Date</th>\n",
       "      <th></th>\n",
       "      <th></th>\n",
       "      <th></th>\n",
       "      <th></th>\n",
       "      <th></th>\n",
       "    </tr>\n",
       "  </thead>\n",
       "  <tbody>\n",
       "    <tr>\n",
       "      <th>2006-01-17</th>\n",
       "      <td>39.653</td>\n",
       "      <td>39.813</td>\n",
       "      <td>39.304</td>\n",
       "      <td>39.576</td>\n",
       "      <td>16722446.0</td>\n",
       "    </tr>\n",
       "    <tr>\n",
       "      <th>2006-01-13</th>\n",
       "      <td>40.030</td>\n",
       "      <td>40.179</td>\n",
       "      <td>39.898</td>\n",
       "      <td>40.002</td>\n",
       "      <td>12354725.0</td>\n",
       "    </tr>\n",
       "    <tr>\n",
       "      <th>2006-01-12</th>\n",
       "      <td>40.370</td>\n",
       "      <td>40.379</td>\n",
       "      <td>39.925</td>\n",
       "      <td>40.002</td>\n",
       "      <td>11931912.0</td>\n",
       "    </tr>\n",
       "    <tr>\n",
       "      <th>2006-01-11</th>\n",
       "      <td>40.231</td>\n",
       "      <td>40.395</td>\n",
       "      <td>39.960</td>\n",
       "      <td>40.267</td>\n",
       "      <td>16878387.0</td>\n",
       "    </tr>\n",
       "    <tr>\n",
       "      <th>2006-01-10</th>\n",
       "      <td>40.527</td>\n",
       "      <td>40.623</td>\n",
       "      <td>40.073</td>\n",
       "      <td>40.362</td>\n",
       "      <td>17899758.0</td>\n",
       "    </tr>\n",
       "    <tr>\n",
       "      <th>2006-01-09</th>\n",
       "      <td>40.806</td>\n",
       "      <td>41.025</td>\n",
       "      <td>40.492</td>\n",
       "      <td>40.702</td>\n",
       "      <td>17882700.0</td>\n",
       "    </tr>\n",
       "    <tr>\n",
       "      <th>2006-01-06</th>\n",
       "      <td>40.875</td>\n",
       "      <td>40.971</td>\n",
       "      <td>40.485</td>\n",
       "      <td>40.675</td>\n",
       "      <td>14419805.0</td>\n",
       "    </tr>\n",
       "    <tr>\n",
       "      <th>2006-01-05</th>\n",
       "      <td>40.684</td>\n",
       "      <td>40.903</td>\n",
       "      <td>40.458</td>\n",
       "      <td>40.737</td>\n",
       "      <td>16971119.0</td>\n",
       "    </tr>\n",
       "    <tr>\n",
       "      <th>2006-01-04</th>\n",
       "      <td>41.051</td>\n",
       "      <td>41.263</td>\n",
       "      <td>40.570</td>\n",
       "      <td>40.684</td>\n",
       "      <td>20331205.0</td>\n",
       "    </tr>\n",
       "    <tr>\n",
       "      <th>2006-01-03</th>\n",
       "      <td>40.981</td>\n",
       "      <td>41.205</td>\n",
       "      <td>40.308</td>\n",
       "      <td>41.120</td>\n",
       "      <td>18658143.0</td>\n",
       "    </tr>\n",
       "  </tbody>\n",
       "</table>\n",
       "</div>"
      ],
      "text/plain": [
       "              Open    High     Low   Close      Volume\n",
       "Date                                                  \n",
       "2006-01-17  39.653  39.813  39.304  39.576  16722446.0\n",
       "2006-01-13  40.030  40.179  39.898  40.002  12354725.0\n",
       "2006-01-12  40.370  40.379  39.925  40.002  11931912.0\n",
       "2006-01-11  40.231  40.395  39.960  40.267  16878387.0\n",
       "2006-01-10  40.527  40.623  40.073  40.362  17899758.0\n",
       "2006-01-09  40.806  41.025  40.492  40.702  17882700.0\n",
       "2006-01-06  40.875  40.971  40.485  40.675  14419805.0\n",
       "2006-01-05  40.684  40.903  40.458  40.737  16971119.0\n",
       "2006-01-04  41.051  41.263  40.570  40.684  20331205.0\n",
       "2006-01-03  40.981  41.205  40.308  41.120  18658143.0"
      ]
     },
     "execution_count": 5,
     "metadata": {},
     "output_type": "execute_result"
    }
   ],
   "source": [
    "BAC[-10:]"
   ]
  },
  {
   "cell_type": "code",
   "execution_count": 6,
   "metadata": {},
   "outputs": [
    {
     "data": {
      "text/plain": [
       "['BAC', 'C', 'GS', 'JPM', 'MS', 'WFC']"
      ]
     },
     "execution_count": 6,
     "metadata": {},
     "output_type": "execute_result"
    }
   ],
   "source": [
    "tickers"
   ]
  },
  {
   "cell_type": "markdown",
   "metadata": {},
   "source": [
    "** Use pd.concat to concatenate the bank dataframes together to a single data frame called bank_stocks. Set the keys argument equal to the tickers list. Also pay attention to what axis you concatenate on.**"
   ]
  },
  {
   "cell_type": "code",
   "execution_count": 7,
   "metadata": {},
   "outputs": [],
   "source": [
    "bank_stocks = pd.concat([BAC, C, GS, JPM, MS, WFC], keys=tickers, axis=1)"
   ]
  },
  {
   "cell_type": "markdown",
   "metadata": {},
   "source": [
    "** Set the column name levels (this is filled out for you):**"
   ]
  },
  {
   "cell_type": "code",
   "execution_count": 8,
   "metadata": {},
   "outputs": [],
   "source": [
    "bank_stocks.columns.names = ['Bank Ticker','Stock Info']"
   ]
  },
  {
   "cell_type": "markdown",
   "metadata": {},
   "source": [
    "** Check the head of the bank_stocks dataframe.**"
   ]
  },
  {
   "cell_type": "code",
   "execution_count": 122,
   "metadata": {},
   "outputs": [
    {
     "data": {
      "text/html": [
       "<div>\n",
       "<style scoped>\n",
       "    .dataframe tbody tr th:only-of-type {\n",
       "        vertical-align: middle;\n",
       "    }\n",
       "\n",
       "    .dataframe tbody tr th {\n",
       "        vertical-align: top;\n",
       "    }\n",
       "\n",
       "    .dataframe thead tr th {\n",
       "        text-align: left;\n",
       "    }\n",
       "\n",
       "    .dataframe thead tr:last-of-type th {\n",
       "        text-align: right;\n",
       "    }\n",
       "</style>\n",
       "<table border=\"1\" class=\"dataframe\">\n",
       "  <thead>\n",
       "    <tr>\n",
       "      <th>Bank Ticker</th>\n",
       "      <th colspan=\"5\" halign=\"left\">BAC</th>\n",
       "      <th colspan=\"5\" halign=\"left\">C</th>\n",
       "      <th>...</th>\n",
       "      <th colspan=\"5\" halign=\"left\">MS</th>\n",
       "      <th colspan=\"5\" halign=\"left\">WFC</th>\n",
       "    </tr>\n",
       "    <tr>\n",
       "      <th>Stock Info</th>\n",
       "      <th>Open</th>\n",
       "      <th>High</th>\n",
       "      <th>Low</th>\n",
       "      <th>Close</th>\n",
       "      <th>Volume</th>\n",
       "      <th>Open</th>\n",
       "      <th>High</th>\n",
       "      <th>Low</th>\n",
       "      <th>Close</th>\n",
       "      <th>Volume</th>\n",
       "      <th>...</th>\n",
       "      <th>Open</th>\n",
       "      <th>High</th>\n",
       "      <th>Low</th>\n",
       "      <th>Close</th>\n",
       "      <th>Volume</th>\n",
       "      <th>Open</th>\n",
       "      <th>High</th>\n",
       "      <th>Low</th>\n",
       "      <th>Close</th>\n",
       "      <th>Volume</th>\n",
       "    </tr>\n",
       "    <tr>\n",
       "      <th>Date</th>\n",
       "      <th></th>\n",
       "      <th></th>\n",
       "      <th></th>\n",
       "      <th></th>\n",
       "      <th></th>\n",
       "      <th></th>\n",
       "      <th></th>\n",
       "      <th></th>\n",
       "      <th></th>\n",
       "      <th></th>\n",
       "      <th></th>\n",
       "      <th></th>\n",
       "      <th></th>\n",
       "      <th></th>\n",
       "      <th></th>\n",
       "      <th></th>\n",
       "      <th></th>\n",
       "      <th></th>\n",
       "      <th></th>\n",
       "      <th></th>\n",
       "      <th></th>\n",
       "    </tr>\n",
       "  </thead>\n",
       "  <tbody>\n",
       "    <tr>\n",
       "      <th>2006-01-03</th>\n",
       "      <td>40.981</td>\n",
       "      <td>41.205</td>\n",
       "      <td>40.308</td>\n",
       "      <td>41.120</td>\n",
       "      <td>18658143.0</td>\n",
       "      <td>431.01</td>\n",
       "      <td>434.32</td>\n",
       "      <td>423.15</td>\n",
       "      <td>433.55</td>\n",
       "      <td>1748134.0</td>\n",
       "      <td>...</td>\n",
       "      <td>39.536</td>\n",
       "      <td>40.445</td>\n",
       "      <td>39.233</td>\n",
       "      <td>40.320</td>\n",
       "      <td>6454836.0</td>\n",
       "      <td>23.520</td>\n",
       "      <td>23.801</td>\n",
       "      <td>23.223</td>\n",
       "      <td>23.743</td>\n",
       "      <td>14801667.0</td>\n",
       "    </tr>\n",
       "    <tr>\n",
       "      <th>2006-01-04</th>\n",
       "      <td>41.051</td>\n",
       "      <td>41.263</td>\n",
       "      <td>40.570</td>\n",
       "      <td>40.684</td>\n",
       "      <td>20331205.0</td>\n",
       "      <td>429.79</td>\n",
       "      <td>431.88</td>\n",
       "      <td>425.26</td>\n",
       "      <td>425.53</td>\n",
       "      <td>2127119.0</td>\n",
       "      <td>...</td>\n",
       "      <td>40.595</td>\n",
       "      <td>40.994</td>\n",
       "      <td>40.352</td>\n",
       "      <td>40.352</td>\n",
       "      <td>9576975.0</td>\n",
       "      <td>23.665</td>\n",
       "      <td>23.680</td>\n",
       "      <td>23.339</td>\n",
       "      <td>23.467</td>\n",
       "      <td>14604966.0</td>\n",
       "    </tr>\n",
       "    <tr>\n",
       "      <th>2006-01-05</th>\n",
       "      <td>40.684</td>\n",
       "      <td>40.903</td>\n",
       "      <td>40.458</td>\n",
       "      <td>40.737</td>\n",
       "      <td>16971119.0</td>\n",
       "      <td>426.06</td>\n",
       "      <td>429.05</td>\n",
       "      <td>425.71</td>\n",
       "      <td>427.62</td>\n",
       "      <td>1290703.0</td>\n",
       "      <td>...</td>\n",
       "      <td>40.352</td>\n",
       "      <td>40.518</td>\n",
       "      <td>40.117</td>\n",
       "      <td>40.462</td>\n",
       "      <td>6936221.0</td>\n",
       "      <td>23.444</td>\n",
       "      <td>23.482</td>\n",
       "      <td>23.301</td>\n",
       "      <td>23.444</td>\n",
       "      <td>13612309.0</td>\n",
       "    </tr>\n",
       "    <tr>\n",
       "      <th>2006-01-06</th>\n",
       "      <td>40.875</td>\n",
       "      <td>40.971</td>\n",
       "      <td>40.485</td>\n",
       "      <td>40.675</td>\n",
       "      <td>14419805.0</td>\n",
       "      <td>429.95</td>\n",
       "      <td>430.10</td>\n",
       "      <td>423.96</td>\n",
       "      <td>427.62</td>\n",
       "      <td>1557821.0</td>\n",
       "      <td>...</td>\n",
       "      <td>40.642</td>\n",
       "      <td>40.693</td>\n",
       "      <td>40.144</td>\n",
       "      <td>40.502</td>\n",
       "      <td>8270878.0</td>\n",
       "      <td>23.507</td>\n",
       "      <td>23.645</td>\n",
       "      <td>23.363</td>\n",
       "      <td>23.576</td>\n",
       "      <td>11291370.0</td>\n",
       "    </tr>\n",
       "    <tr>\n",
       "      <th>2006-01-09</th>\n",
       "      <td>40.806</td>\n",
       "      <td>41.025</td>\n",
       "      <td>40.492</td>\n",
       "      <td>40.702</td>\n",
       "      <td>17882700.0</td>\n",
       "      <td>427.47</td>\n",
       "      <td>428.70</td>\n",
       "      <td>424.82</td>\n",
       "      <td>425.62</td>\n",
       "      <td>1910873.0</td>\n",
       "      <td>...</td>\n",
       "      <td>40.541</td>\n",
       "      <td>41.002</td>\n",
       "      <td>40.533</td>\n",
       "      <td>40.926</td>\n",
       "      <td>4975275.0</td>\n",
       "      <td>23.576</td>\n",
       "      <td>23.680</td>\n",
       "      <td>23.482</td>\n",
       "      <td>23.576</td>\n",
       "      <td>7550515.0</td>\n",
       "    </tr>\n",
       "  </tbody>\n",
       "</table>\n",
       "<p>5 rows × 30 columns</p>\n",
       "</div>"
      ],
      "text/plain": [
       "Bank Ticker     BAC                                           C          \\\n",
       "Stock Info     Open    High     Low   Close      Volume    Open    High   \n",
       "Date                                                                      \n",
       "2006-01-03   40.981  41.205  40.308  41.120  18658143.0  431.01  434.32   \n",
       "2006-01-04   41.051  41.263  40.570  40.684  20331205.0  429.79  431.88   \n",
       "2006-01-05   40.684  40.903  40.458  40.737  16971119.0  426.06  429.05   \n",
       "2006-01-06   40.875  40.971  40.485  40.675  14419805.0  429.95  430.10   \n",
       "2006-01-09   40.806  41.025  40.492  40.702  17882700.0  427.47  428.70   \n",
       "\n",
       "Bank Ticker                             ...      MS                          \\\n",
       "Stock Info      Low   Close     Volume  ...    Open    High     Low   Close   \n",
       "Date                                    ...                                   \n",
       "2006-01-03   423.15  433.55  1748134.0  ...  39.536  40.445  39.233  40.320   \n",
       "2006-01-04   425.26  425.53  2127119.0  ...  40.595  40.994  40.352  40.352   \n",
       "2006-01-05   425.71  427.62  1290703.0  ...  40.352  40.518  40.117  40.462   \n",
       "2006-01-06   423.96  427.62  1557821.0  ...  40.642  40.693  40.144  40.502   \n",
       "2006-01-09   424.82  425.62  1910873.0  ...  40.541  41.002  40.533  40.926   \n",
       "\n",
       "Bank Ticker                WFC                                      \n",
       "Stock Info      Volume    Open    High     Low   Close      Volume  \n",
       "Date                                                                \n",
       "2006-01-03   6454836.0  23.520  23.801  23.223  23.743  14801667.0  \n",
       "2006-01-04   9576975.0  23.665  23.680  23.339  23.467  14604966.0  \n",
       "2006-01-05   6936221.0  23.444  23.482  23.301  23.444  13612309.0  \n",
       "2006-01-06   8270878.0  23.507  23.645  23.363  23.576  11291370.0  \n",
       "2006-01-09   4975275.0  23.576  23.680  23.482  23.576   7550515.0  \n",
       "\n",
       "[5 rows x 30 columns]"
      ]
     },
     "execution_count": 122,
     "metadata": {},
     "output_type": "execute_result"
    }
   ],
   "source": [
    "bank_stocks.head()"
   ]
  },
  {
   "cell_type": "code",
   "execution_count": 9,
   "metadata": {},
   "outputs": [
    {
     "data": {
      "text/html": [
       "<div>\n",
       "<style scoped>\n",
       "    .dataframe tbody tr th:only-of-type {\n",
       "        vertical-align: middle;\n",
       "    }\n",
       "\n",
       "    .dataframe tbody tr th {\n",
       "        vertical-align: top;\n",
       "    }\n",
       "\n",
       "    .dataframe thead tr th {\n",
       "        text-align: left;\n",
       "    }\n",
       "\n",
       "    .dataframe thead tr:last-of-type th {\n",
       "        text-align: right;\n",
       "    }\n",
       "</style>\n",
       "<table border=\"1\" class=\"dataframe\">\n",
       "  <thead>\n",
       "    <tr>\n",
       "      <th>Bank Ticker</th>\n",
       "      <th colspan=\"5\" halign=\"left\">BAC</th>\n",
       "      <th colspan=\"5\" halign=\"left\">C</th>\n",
       "      <th>...</th>\n",
       "      <th colspan=\"5\" halign=\"left\">MS</th>\n",
       "      <th colspan=\"5\" halign=\"left\">WFC</th>\n",
       "    </tr>\n",
       "    <tr>\n",
       "      <th>Stock Info</th>\n",
       "      <th>Open</th>\n",
       "      <th>High</th>\n",
       "      <th>Low</th>\n",
       "      <th>Close</th>\n",
       "      <th>Volume</th>\n",
       "      <th>Open</th>\n",
       "      <th>High</th>\n",
       "      <th>Low</th>\n",
       "      <th>Close</th>\n",
       "      <th>Volume</th>\n",
       "      <th>...</th>\n",
       "      <th>Open</th>\n",
       "      <th>High</th>\n",
       "      <th>Low</th>\n",
       "      <th>Close</th>\n",
       "      <th>Volume</th>\n",
       "      <th>Open</th>\n",
       "      <th>High</th>\n",
       "      <th>Low</th>\n",
       "      <th>Close</th>\n",
       "      <th>Volume</th>\n",
       "    </tr>\n",
       "    <tr>\n",
       "      <th>Date</th>\n",
       "      <th></th>\n",
       "      <th></th>\n",
       "      <th></th>\n",
       "      <th></th>\n",
       "      <th></th>\n",
       "      <th></th>\n",
       "      <th></th>\n",
       "      <th></th>\n",
       "      <th></th>\n",
       "      <th></th>\n",
       "      <th></th>\n",
       "      <th></th>\n",
       "      <th></th>\n",
       "      <th></th>\n",
       "      <th></th>\n",
       "      <th></th>\n",
       "      <th></th>\n",
       "      <th></th>\n",
       "      <th></th>\n",
       "      <th></th>\n",
       "      <th></th>\n",
       "    </tr>\n",
       "  </thead>\n",
       "  <tbody>\n",
       "    <tr>\n",
       "      <th>2006-01-03</th>\n",
       "      <td>46.92</td>\n",
       "      <td>47.18</td>\n",
       "      <td>46.15</td>\n",
       "      <td>47.08</td>\n",
       "      <td>16296700</td>\n",
       "      <td>490.0</td>\n",
       "      <td>493.8</td>\n",
       "      <td>481.1</td>\n",
       "      <td>492.9</td>\n",
       "      <td>1537660</td>\n",
       "      <td>...</td>\n",
       "      <td>57.17</td>\n",
       "      <td>58.49</td>\n",
       "      <td>56.74</td>\n",
       "      <td>58.31</td>\n",
       "      <td>5377000</td>\n",
       "      <td>31.60</td>\n",
       "      <td>31.98</td>\n",
       "      <td>31.20</td>\n",
       "      <td>31.90</td>\n",
       "      <td>11016400</td>\n",
       "    </tr>\n",
       "    <tr>\n",
       "      <th>2006-01-04</th>\n",
       "      <td>47.00</td>\n",
       "      <td>47.24</td>\n",
       "      <td>46.45</td>\n",
       "      <td>46.58</td>\n",
       "      <td>17757900</td>\n",
       "      <td>488.6</td>\n",
       "      <td>491.0</td>\n",
       "      <td>483.5</td>\n",
       "      <td>483.8</td>\n",
       "      <td>1871020</td>\n",
       "      <td>...</td>\n",
       "      <td>58.70</td>\n",
       "      <td>59.28</td>\n",
       "      <td>58.35</td>\n",
       "      <td>58.35</td>\n",
       "      <td>7977800</td>\n",
       "      <td>31.80</td>\n",
       "      <td>31.82</td>\n",
       "      <td>31.36</td>\n",
       "      <td>31.53</td>\n",
       "      <td>10871000</td>\n",
       "    </tr>\n",
       "    <tr>\n",
       "      <th>2006-01-05</th>\n",
       "      <td>46.58</td>\n",
       "      <td>46.83</td>\n",
       "      <td>46.32</td>\n",
       "      <td>46.64</td>\n",
       "      <td>14970900</td>\n",
       "      <td>484.4</td>\n",
       "      <td>487.8</td>\n",
       "      <td>484.0</td>\n",
       "      <td>486.2</td>\n",
       "      <td>1143160</td>\n",
       "      <td>...</td>\n",
       "      <td>58.55</td>\n",
       "      <td>58.59</td>\n",
       "      <td>58.02</td>\n",
       "      <td>58.51</td>\n",
       "      <td>5778000</td>\n",
       "      <td>31.50</td>\n",
       "      <td>31.56</td>\n",
       "      <td>31.31</td>\n",
       "      <td>31.50</td>\n",
       "      <td>10158000</td>\n",
       "    </tr>\n",
       "    <tr>\n",
       "      <th>2006-01-06</th>\n",
       "      <td>46.80</td>\n",
       "      <td>46.91</td>\n",
       "      <td>46.35</td>\n",
       "      <td>46.57</td>\n",
       "      <td>12599800</td>\n",
       "      <td>488.8</td>\n",
       "      <td>489.0</td>\n",
       "      <td>482.0</td>\n",
       "      <td>486.2</td>\n",
       "      <td>1370250</td>\n",
       "      <td>...</td>\n",
       "      <td>58.77</td>\n",
       "      <td>58.85</td>\n",
       "      <td>58.05</td>\n",
       "      <td>58.57</td>\n",
       "      <td>6889800</td>\n",
       "      <td>31.58</td>\n",
       "      <td>31.78</td>\n",
       "      <td>31.38</td>\n",
       "      <td>31.68</td>\n",
       "      <td>8403800</td>\n",
       "    </tr>\n",
       "    <tr>\n",
       "      <th>2006-01-09</th>\n",
       "      <td>46.72</td>\n",
       "      <td>46.97</td>\n",
       "      <td>46.36</td>\n",
       "      <td>46.60</td>\n",
       "      <td>15620000</td>\n",
       "      <td>486.0</td>\n",
       "      <td>487.4</td>\n",
       "      <td>483.0</td>\n",
       "      <td>483.9</td>\n",
       "      <td>1680740</td>\n",
       "      <td>...</td>\n",
       "      <td>58.63</td>\n",
       "      <td>59.29</td>\n",
       "      <td>58.62</td>\n",
       "      <td>59.19</td>\n",
       "      <td>4144500</td>\n",
       "      <td>31.68</td>\n",
       "      <td>31.82</td>\n",
       "      <td>31.56</td>\n",
       "      <td>31.68</td>\n",
       "      <td>5619600</td>\n",
       "    </tr>\n",
       "  </tbody>\n",
       "</table>\n",
       "<p>5 rows × 30 columns</p>\n",
       "</div>"
      ],
      "text/plain": [
       "Bank Ticker    BAC                                     C                       \\\n",
       "Stock Info    Open   High    Low  Close    Volume   Open   High    Low  Close   \n",
       "Date                                                                            \n",
       "2006-01-03   46.92  47.18  46.15  47.08  16296700  490.0  493.8  481.1  492.9   \n",
       "2006-01-04   47.00  47.24  46.45  46.58  17757900  488.6  491.0  483.5  483.8   \n",
       "2006-01-05   46.58  46.83  46.32  46.64  14970900  484.4  487.8  484.0  486.2   \n",
       "2006-01-06   46.80  46.91  46.35  46.57  12599800  488.8  489.0  482.0  486.2   \n",
       "2006-01-09   46.72  46.97  46.36  46.60  15620000  486.0  487.4  483.0  483.9   \n",
       "\n",
       "Bank Ticker           ...     MS                                  WFC         \\\n",
       "Stock Info    Volume  ...   Open   High    Low  Close   Volume   Open   High   \n",
       "Date                  ...                                                      \n",
       "2006-01-03   1537660  ...  57.17  58.49  56.74  58.31  5377000  31.60  31.98   \n",
       "2006-01-04   1871020  ...  58.70  59.28  58.35  58.35  7977800  31.80  31.82   \n",
       "2006-01-05   1143160  ...  58.55  58.59  58.02  58.51  5778000  31.50  31.56   \n",
       "2006-01-06   1370250  ...  58.77  58.85  58.05  58.57  6889800  31.58  31.78   \n",
       "2006-01-09   1680740  ...  58.63  59.29  58.62  59.19  4144500  31.68  31.82   \n",
       "\n",
       "Bank Ticker                          \n",
       "Stock Info     Low  Close    Volume  \n",
       "Date                                 \n",
       "2006-01-03   31.20  31.90  11016400  \n",
       "2006-01-04   31.36  31.53  10871000  \n",
       "2006-01-05   31.31  31.50  10158000  \n",
       "2006-01-06   31.38  31.68   8403800  \n",
       "2006-01-09   31.56  31.68   5619600  \n",
       "\n",
       "[5 rows x 30 columns]"
      ]
     },
     "execution_count": 9,
     "metadata": {},
     "output_type": "execute_result"
    }
   ],
   "source": [
    "#hax to avoid diff data\n",
    "bank_stocks = pd.read_pickle('all_banks')\n",
    "bank_stocks.head()"
   ]
  },
  {
   "cell_type": "markdown",
   "metadata": {},
   "source": [
    "# EDA\n",
    "\n",
    "Let's explore the data a bit! Before continuing, I encourage you to check out the documentation on [Multi-Level Indexing](http://pandas.pydata.org/pandas-docs/stable/advanced.html) and [Using .xs](http://pandas.pydata.org/pandas-docs/stable/generated/pandas.DataFrame.xs.html).\n",
    "Reference the solutions if you can not figure out how to use .xs(), since that will be a major part of this project.\n",
    "\n",
    "** What is the max Close price for each bank's stock throughout the time period?**"
   ]
  },
  {
   "cell_type": "code",
   "execution_count": 10,
   "metadata": {},
   "outputs": [
    {
     "data": {
      "text/plain": [
       "Bank Ticker\n",
       "BAC     54.90\n",
       "C      564.10\n",
       "GS     247.92\n",
       "JPM     70.08\n",
       "MS      89.30\n",
       "WFC     58.52\n",
       "dtype: float64"
      ]
     },
     "execution_count": 10,
     "metadata": {},
     "output_type": "execute_result"
    }
   ],
   "source": [
    "bank_stocks.xs('Close', level=1, axis=1).max()"
   ]
  },
  {
   "cell_type": "markdown",
   "metadata": {},
   "source": [
    "** Create a new empty DataFrame called returns. This dataframe will contain the returns for each bank's stock. returns are typically defined by:**\n",
    "\n",
    "$$r_t = \\frac{p_t - p_{t-1}}{p_{t-1}} = \\frac{p_t}{p_{t-1}} - 1$$"
   ]
  },
  {
   "cell_type": "code",
   "execution_count": 125,
   "metadata": {},
   "outputs": [],
   "source": [
    "returns = pd.DataFrame()"
   ]
  },
  {
   "cell_type": "markdown",
   "metadata": {},
   "source": [
    "** We can use pandas pct_change() method on the Close column to create a column representing this return value. Create a for loop that goes and for each Bank Stock Ticker creates this returns column and set's it as a column in the returns DataFrame.**"
   ]
  },
  {
   "cell_type": "code",
   "execution_count": 11,
   "metadata": {},
   "outputs": [
    {
     "data": {
      "text/html": [
       "<div>\n",
       "<style scoped>\n",
       "    .dataframe tbody tr th:only-of-type {\n",
       "        vertical-align: middle;\n",
       "    }\n",
       "\n",
       "    .dataframe tbody tr th {\n",
       "        vertical-align: top;\n",
       "    }\n",
       "\n",
       "    .dataframe thead th {\n",
       "        text-align: right;\n",
       "    }\n",
       "</style>\n",
       "<table border=\"1\" class=\"dataframe\">\n",
       "  <thead>\n",
       "    <tr style=\"text-align: right;\">\n",
       "      <th>Bank Ticker</th>\n",
       "      <th>BAC</th>\n",
       "      <th>C</th>\n",
       "      <th>GS</th>\n",
       "      <th>JPM</th>\n",
       "      <th>MS</th>\n",
       "      <th>WFC</th>\n",
       "    </tr>\n",
       "    <tr>\n",
       "      <th>Date</th>\n",
       "      <th></th>\n",
       "      <th></th>\n",
       "      <th></th>\n",
       "      <th></th>\n",
       "      <th></th>\n",
       "      <th></th>\n",
       "    </tr>\n",
       "  </thead>\n",
       "  <tbody>\n",
       "    <tr>\n",
       "      <th>2006-01-03</th>\n",
       "      <td>NaN</td>\n",
       "      <td>NaN</td>\n",
       "      <td>NaN</td>\n",
       "      <td>NaN</td>\n",
       "      <td>NaN</td>\n",
       "      <td>NaN</td>\n",
       "    </tr>\n",
       "    <tr>\n",
       "      <th>2006-01-04</th>\n",
       "      <td>-0.010620</td>\n",
       "      <td>-0.018462</td>\n",
       "      <td>-0.013812</td>\n",
       "      <td>-0.014183</td>\n",
       "      <td>0.000686</td>\n",
       "      <td>-0.011599</td>\n",
       "    </tr>\n",
       "    <tr>\n",
       "      <th>2006-01-05</th>\n",
       "      <td>0.001288</td>\n",
       "      <td>0.004961</td>\n",
       "      <td>-0.000393</td>\n",
       "      <td>0.003029</td>\n",
       "      <td>0.002742</td>\n",
       "      <td>-0.000951</td>\n",
       "    </tr>\n",
       "    <tr>\n",
       "      <th>2006-01-06</th>\n",
       "      <td>-0.001501</td>\n",
       "      <td>0.000000</td>\n",
       "      <td>0.014169</td>\n",
       "      <td>0.007046</td>\n",
       "      <td>0.001025</td>\n",
       "      <td>0.005714</td>\n",
       "    </tr>\n",
       "    <tr>\n",
       "      <th>2006-01-09</th>\n",
       "      <td>0.000644</td>\n",
       "      <td>-0.004731</td>\n",
       "      <td>0.012030</td>\n",
       "      <td>0.016242</td>\n",
       "      <td>0.010586</td>\n",
       "      <td>0.000000</td>\n",
       "    </tr>\n",
       "    <tr>\n",
       "      <th>...</th>\n",
       "      <td>...</td>\n",
       "      <td>...</td>\n",
       "      <td>...</td>\n",
       "      <td>...</td>\n",
       "      <td>...</td>\n",
       "      <td>...</td>\n",
       "    </tr>\n",
       "    <tr>\n",
       "      <th>2015-12-24</th>\n",
       "      <td>-0.004037</td>\n",
       "      <td>0.001520</td>\n",
       "      <td>-0.002624</td>\n",
       "      <td>-0.001948</td>\n",
       "      <td>-0.003681</td>\n",
       "      <td>-0.003997</td>\n",
       "    </tr>\n",
       "    <tr>\n",
       "      <th>2015-12-28</th>\n",
       "      <td>-0.008107</td>\n",
       "      <td>-0.006261</td>\n",
       "      <td>-0.004658</td>\n",
       "      <td>-0.003303</td>\n",
       "      <td>-0.009544</td>\n",
       "      <td>-0.002554</td>\n",
       "    </tr>\n",
       "    <tr>\n",
       "      <th>2015-12-29</th>\n",
       "      <td>0.008757</td>\n",
       "      <td>0.011455</td>\n",
       "      <td>0.010516</td>\n",
       "      <td>0.010395</td>\n",
       "      <td>0.011812</td>\n",
       "      <td>0.011156</td>\n",
       "    </tr>\n",
       "    <tr>\n",
       "      <th>2015-12-30</th>\n",
       "      <td>-0.013310</td>\n",
       "      <td>-0.012835</td>\n",
       "      <td>-0.008282</td>\n",
       "      <td>-0.007157</td>\n",
       "      <td>-0.009831</td>\n",
       "      <td>-0.007235</td>\n",
       "    </tr>\n",
       "    <tr>\n",
       "      <th>2015-12-31</th>\n",
       "      <td>-0.012903</td>\n",
       "      <td>-0.010516</td>\n",
       "      <td>-0.009780</td>\n",
       "      <td>-0.008410</td>\n",
       "      <td>-0.013031</td>\n",
       "      <td>-0.009656</td>\n",
       "    </tr>\n",
       "  </tbody>\n",
       "</table>\n",
       "<p>2517 rows × 6 columns</p>\n",
       "</div>"
      ],
      "text/plain": [
       "Bank Ticker       BAC         C        GS       JPM        MS       WFC\n",
       "Date                                                                   \n",
       "2006-01-03        NaN       NaN       NaN       NaN       NaN       NaN\n",
       "2006-01-04  -0.010620 -0.018462 -0.013812 -0.014183  0.000686 -0.011599\n",
       "2006-01-05   0.001288  0.004961 -0.000393  0.003029  0.002742 -0.000951\n",
       "2006-01-06  -0.001501  0.000000  0.014169  0.007046  0.001025  0.005714\n",
       "2006-01-09   0.000644 -0.004731  0.012030  0.016242  0.010586  0.000000\n",
       "...               ...       ...       ...       ...       ...       ...\n",
       "2015-12-24  -0.004037  0.001520 -0.002624 -0.001948 -0.003681 -0.003997\n",
       "2015-12-28  -0.008107 -0.006261 -0.004658 -0.003303 -0.009544 -0.002554\n",
       "2015-12-29   0.008757  0.011455  0.010516  0.010395  0.011812  0.011156\n",
       "2015-12-30  -0.013310 -0.012835 -0.008282 -0.007157 -0.009831 -0.007235\n",
       "2015-12-31  -0.012903 -0.010516 -0.009780 -0.008410 -0.013031 -0.009656\n",
       "\n",
       "[2517 rows x 6 columns]"
      ]
     },
     "execution_count": 11,
     "metadata": {},
     "output_type": "execute_result"
    }
   ],
   "source": [
    "temp_returns = bank_stocks.xs('Close', level=1, axis=1).pct_change()\n",
    "temp_returns"
   ]
  },
  {
   "cell_type": "markdown",
   "metadata": {},
   "source": [
    "** Create a pairplot using seaborn of the returns dataframe. What stock stands out to you? Can you figure out why?**"
   ]
  },
  {
   "cell_type": "code",
   "execution_count": 12,
   "metadata": {},
   "outputs": [
    {
     "data": {
      "text/plain": [
       "<seaborn.axisgrid.PairGrid at 0x1c45ca66220>"
      ]
     },
     "execution_count": 12,
     "metadata": {},
     "output_type": "execute_result"
    },
    {
     "data": {
      "image/png": "[encoded data removed]",
      "text/plain": [
       "<Figure size 1080x1080 with 42 Axes>"
      ]
     },
     "metadata": {},
     "output_type": "display_data"
    }
   ],
   "source": [
    "sns.set_style('whitegrid')\n",
    "sns.pairplot(temp_returns)"
   ]
  },
  {
   "cell_type": "markdown",
   "metadata": {},
   "source": [
    "citigroup stock crash https://en.wikipedia.org/wiki/Citigroup#Collapse_and_US_government_intervention_(2008)"
   ]
  },
  {
   "cell_type": "markdown",
   "metadata": {},
   "source": [
    "** Using this returns DataFrame, figure out on what dates each bank stock had the best and worst single day returns. You should notice that 4 of the banks share the same day for the worst drop, did anything significant happen that day?**"
   ]
  },
  {
   "cell_type": "code",
   "execution_count": 13,
   "metadata": {},
   "outputs": [
    {
     "data": {
      "text/plain": [
       "Bank Ticker\n",
       "BAC   2009-04-09\n",
       "C     2011-05-09\n",
       "GS    2008-11-24\n",
       "JPM   2009-01-21\n",
       "MS    2008-10-13\n",
       "WFC   2008-07-16\n",
       "dtype: datetime64[ns]"
      ]
     },
     "execution_count": 13,
     "metadata": {},
     "output_type": "execute_result"
    }
   ],
   "source": [
    "temp_returns.idxmax()"
   ]
  },
  {
   "cell_type": "code",
   "execution_count": 136,
   "metadata": {},
   "outputs": [
    {
     "data": {
      "text/plain": [
       "Bank Ticker\n",
       "BAC   2009-01-20\n",
       "C     2011-05-06\n",
       "GS    2009-01-20\n",
       "JPM   2009-01-20\n",
       "MS    2008-10-09\n",
       "WFC   2009-01-20\n",
       "dtype: datetime64[ns]"
      ]
     },
     "execution_count": 136,
     "metadata": {},
     "output_type": "execute_result"
    }
   ],
   "source": [
    "temp_returns.idxmin()"
   ]
  },
  {
   "cell_type": "markdown",
   "metadata": {},
   "source": [
    "** You should have noticed that Citigroup's largest drop and biggest gain were very close to one another, did anythign significant happen in that time frame? **"
   ]
  },
  {
   "cell_type": "markdown",
   "metadata": {},
   "source": [
    "stock split https://www.stocksplithistory.com/citigroup/"
   ]
  },
  {
   "cell_type": "markdown",
   "metadata": {},
   "source": [
    "** Take a look at the standard deviation of the returns, which stock would you classify as the riskiest over the entire time period? Which would you classify as the riskiest for the year 2015?**"
   ]
  },
  {
   "cell_type": "code",
   "execution_count": 137,
   "metadata": {},
   "outputs": [
    {
     "data": {
      "text/plain": [
       "Bank Ticker\n",
       "BAC    0.036650\n",
       "C      0.179969\n",
       "GS     0.025346\n",
       "JPM    0.027656\n",
       "MS     0.037820\n",
       "WFC    0.030233\n",
       "dtype: float64"
      ]
     },
     "execution_count": 137,
     "metadata": {},
     "output_type": "execute_result"
    }
   ],
   "source": [
    "temp_returns.std()"
   ]
  },
  {
   "cell_type": "code",
   "execution_count": 152,
   "metadata": {},
   "outputs": [
    {
     "data": {
      "text/plain": [
       "Bank Ticker\n",
       "BAC    0.016163\n",
       "C      0.015289\n",
       "GS     0.014046\n",
       "JPM    0.014017\n",
       "MS     0.016249\n",
       "WFC    0.012591\n",
       "dtype: float64"
      ]
     },
     "execution_count": 152,
     "metadata": {},
     "output_type": "execute_result"
    }
   ],
   "source": [
    "temp_returns.loc['2015'].std()"
   ]
  },
  {
   "cell_type": "markdown",
   "metadata": {},
   "source": [
    "** Create a distplot using seaborn of the 2015 returns for Morgan Stanley **"
   ]
  },
  {
   "cell_type": "code",
   "execution_count": 253,
   "metadata": {},
   "outputs": [
    {
     "name": "stderr",
     "output_type": "stream",
     "text": [
      "C:\\Users\\rrkar\\anaconda3\\lib\\site-packages\\seaborn\\distributions.py:2551: FutureWarning:\n",
      "\n",
      "`distplot` is a deprecated function and will be removed in a future version. Please adapt your code to use either `displot` (a figure-level function with similar flexibility) or `histplot` (an axes-level function for histograms).\n",
      "\n"
     ]
    },
    {
     "data": {
      "text/plain": [
       "<AxesSubplot:xlabel='MS', ylabel='Density'>"
      ]
     },
     "execution_count": 253,
     "metadata": {},
     "output_type": "execute_result"
    },
    {
     "data": {
      "image/png": "[encoded data removed]",
      "text/plain": [
       "<Figure size 432x288 with 1 Axes>"
      ]
     },
     "metadata": {},
     "output_type": "display_data"
    }
   ],
   "source": [
    "sns.set_style('whitegrid')\n",
    "sns.distplot(temp_returns['MS'].loc['2015'], bins=50)"
   ]
  },
  {
   "cell_type": "markdown",
   "metadata": {},
   "source": [
    "** Create a distplot using seaborn of the 2008 returns for CitiGroup **"
   ]
  },
  {
   "cell_type": "code",
   "execution_count": 174,
   "metadata": {},
   "outputs": [
    {
     "name": "stderr",
     "output_type": "stream",
     "text": [
      "C:\\Users\\rrkar\\anaconda3\\lib\\site-packages\\seaborn\\distributions.py:2551: FutureWarning: `distplot` is a deprecated function and will be removed in a future version. Please adapt your code to use either `displot` (a figure-level function with similar flexibility) or `histplot` (an axes-level function for histograms).\n",
      "  warnings.warn(msg, FutureWarning)\n"
     ]
    },
    {
     "data": {
      "text/plain": [
       "<AxesSubplot:xlabel='C', ylabel='Density'>"
      ]
     },
     "execution_count": 174,
     "metadata": {},
     "output_type": "execute_result"
    },
    {
     "data": {
      "image/png": "[encoded data removed]",
      "text/plain": [
       "<Figure size 432x288 with 1 Axes>"
      ]
     },
     "metadata": {},
     "output_type": "display_data"
    }
   ],
   "source": [
    "sns.set_style('whitegrid')\n",
    "sns.distplot(temp_returns.loc['2008']['C'])"
   ]
  },
  {
   "cell_type": "markdown",
   "metadata": {},
   "source": [
    "____\n",
    "# More Visualization\n",
    "\n",
    "A lot of this project will focus on visualizations. Feel free to use any of your preferred visualization libraries to try to recreate the described plots below, seaborn, matplotlib, plotly and cufflinks, or just pandas.\n",
    "\n",
    "### Imports"
   ]
  },
  {
   "cell_type": "code",
   "execution_count": 14,
   "metadata": {},
   "outputs": [
    {
     "data": {
      "text/html": [
       "        <script type=\"text/javascript\">\n",
       "        window.PlotlyConfig = {MathJaxConfig: 'local'};\n",
       "        if (window.MathJax) {MathJax.Hub.Config({SVG: {font: \"STIX-Web\"}});}\n",
       "        if (typeof require !== 'undefined') {\n",
       "        require.undef(\"plotly\");\n",
       "        requirejs.config({\n",
       "            paths: {\n",
       "                'plotly': ['https://cdn.plot.ly/plotly-latest.min']\n",
       "            }\n",
       "        });\n",
       "        require(['plotly'], function(Plotly) {\n",
       "            window._Plotly = Plotly;\n",
       "        });\n",
       "        }\n",
       "        </script>\n",
       "        "
      ]
     },
     "metadata": {},
     "output_type": "display_data"
    }
   ],
   "source": [
    "import matplotlib.pyplot as plt\n",
    "import seaborn as sns\n",
    "sns.set_style('whitegrid')\n",
    "%matplotlib inline\n",
    "\n",
    "# Optional Plotly Method Imports\n",
    "import plotly\n",
    "import cufflinks as cf\n",
    "cf.go_offline()"
   ]
  },
  {
   "cell_type": "markdown",
   "metadata": {},
   "source": [
    "** Create a line plot showing Close price for each bank for the entire index of time. (Hint: Try using a for loop, or use [.xs](http://pandas.pydata.org/pandas-docs/stable/generated/pandas.DataFrame.xs.html) to get a cross section of the data.)**"
   ]
  },
  {
   "cell_type": "code",
   "execution_count": 205,
   "metadata": {},
   "outputs": [
    {
     "data": {
      "text/plain": [
       "<AxesSubplot:xlabel='Date'>"
      ]
     },
     "execution_count": 205,
     "metadata": {},
     "output_type": "execute_result"
    },
    {
     "data": {
      "image/png": "[encoded data removed]",
      "text/plain": [
       "<Figure size 1080x432 with 1 Axes>"
      ]
     },
     "metadata": {
      "needs_background": "light"
     },
     "output_type": "display_data"
    }
   ],
   "source": [
    "bank_stocks.xs('Close', level=1, axis=1).plot(figsize=(15,6))"
   ]
  },
  {
   "cell_type": "markdown",
   "metadata": {},
   "source": [
    "## Moving Averages\n",
    "\n",
    "Let's analyze the moving averages for these stocks in the year 2008. \n",
    "\n",
    "** Plot the rolling 30 day average against the Close Price for Bank Of America's stock for the year 2008**"
   ]
  },
  {
   "cell_type": "code",
   "execution_count": 255,
   "metadata": {},
   "outputs": [
    {
     "data": {
      "text/plain": [
       "<matplotlib.legend.Legend at 0x154049156a0>"
      ]
     },
     "execution_count": 255,
     "metadata": {},
     "output_type": "execute_result"
    },
    {
     "data": {
      "image/png": "[encoded data removed]",
      "text/plain": [
       "<Figure size 1080x360 with 1 Axes>"
      ]
     },
     "metadata": {},
     "output_type": "display_data"
    }
   ],
   "source": [
    "plt.figure(figsize=(15,5))\n",
    "sns.lineplot(data=bank_stocks.loc['2008'].xs('Close', level=1, axis=1)['BAC'], label='BAC Close')\n",
    "sns.lineplot(data=bank_stocks.loc['2008'].xs('Close', level=1, axis=1)['BAC'].rolling('30d').mean(), label='BAC roll avg')\n",
    "plt.legend()"
   ]
  },
  {
   "cell_type": "markdown",
   "metadata": {},
   "source": [
    "** Create a heatmap of the correlation between the stocks Close Price.**"
   ]
  },
  {
   "cell_type": "code",
   "execution_count": 242,
   "metadata": {},
   "outputs": [
    {
     "data": {
      "text/plain": [
       "<AxesSubplot:xlabel='Bank Ticker', ylabel='Bank Ticker'>"
      ]
     },
     "execution_count": 242,
     "metadata": {},
     "output_type": "execute_result"
    },
    {
     "data": {
      "image/png": "[encoded data removed]",
      "text/plain": [
       "<Figure size 432x288 with 2 Axes>"
      ]
     },
     "metadata": {
      "needs_background": "light"
     },
     "output_type": "display_data"
    }
   ],
   "source": [
    "sns.heatmap(bank_stocks.xs('Close', 1,1).corr(), annot=True, cmap='coolwarm')"
   ]
  },
  {
   "cell_type": "markdown",
   "metadata": {},
   "source": [
    "** Optional: Use seaborn's clustermap to cluster the correlations together:**"
   ]
  },
  {
   "cell_type": "code",
   "execution_count": 245,
   "metadata": {},
   "outputs": [
    {
     "data": {
      "text/plain": [
       "<seaborn.matrix.ClusterGrid at 0x15403edda00>"
      ]
     },
     "execution_count": 245,
     "metadata": {},
     "output_type": "execute_result"
    },
    {
     "data": {
      "image/png": "[encoded data removed]",
      "text/plain": [
       "<Figure size 720x720 with 4 Axes>"
      ]
     },
     "metadata": {
      "needs_background": "light"
     },
     "output_type": "display_data"
    }
   ],
   "source": [
    "sns.clustermap(bank_stocks.xs('Close', 1,1).corr(), annot=True, cmap='coolwarm')"
   ]
  },
  {
   "cell_type": "markdown",
   "metadata": {},
   "source": [
    "# Part 2 (Optional)\n",
    "\n",
    "In this second part of the project we will rely on the cufflinks library to create some Technical Analysis plots. This part of the project is experimental due to its heavy reliance on the cuffinks project, so feel free to skip it if any functionality is broken in the future."
   ]
  },
  {
   "cell_type": "markdown",
   "metadata": {
    "collapsed": true
   },
   "source": [
    "** Use .iplot(kind='candle) to create a candle plot of Bank of America's stock from Jan 1st 2015 to Jan 1st 2016.**"
   ]
  },
  {
   "cell_type": "code",
   "execution_count": 26,
   "metadata": {},
   "outputs": [
    {
     "data": {
      "application/vnd.plotly.v1+json": {
       "config": {
        "linkText": "Export to plot.ly",
        "plotlyServerURL": "https://plot.ly",
        "showLink": true
       },
       "data": [
        {
         "close": [
          15.177,
          15.377,
          15.581,
          15.447000000000001,
          15.574000000000002,
          15.638,
          15.402000000000001,
          15.304,
          15.116,
          15.6,
          16.008,
          15.708,
          15.15,
          15.088,
          15.513,
          15.419,
          15.504000000000001,
          15.82,
          16.052,
          15.6,
          15.887,
          16.017,
          15.675999999999998,
          15.719000000000001,
          15.683,
          15.709000000000001,
          15.709000000000001,
          15.87,
          15.907,
          16.044,
          15.667,
          15.675999999999998,
          15.469000000000001,
          15.619000000000002,
          15.963,
          16.052,
          15.897,
          16.142,
          15.565999999999999,
          15.297,
          15.449000000000002,
          15.343,
          15.091,
          15.369000000000002,
          15.54,
          14.749,
          14.845999999999998,
          14.856,
          14.534,
          14.298,
          14.571,
          14.515999999999998,
          14.495999999999999,
          14.561,
          14.065,
          13.957,
          13.957,
          14.01,
          14.162,
          14.162,
          14.112,
          14.112,
          13.831,
          13.984000000000002,
          14.01,
          13.806,
          13.912,
          14.29,
          13.984000000000002,
          14.136,
          14.001,
          14.119000000000002,
          13.992,
          14.265,
          14.686,
          14.665999999999999,
          14.350999999999999,
          14.425,
          14.425,
          14.298,
          14.534,
          14.075,
          14.332,
          14.257,
          13.966,
          14.645,
          14.664000000000001,
          14.737,
          14.397,
          13.679,
          13.705,
          14.433,
          14.989,
          15.652999999999999,
          15.855,
          15.929,
          15.864,
          15.797,
          15.704,
          15.948,
          16.172,
          15.91,
          15.966,
          16.02,
          15.956,
          15.929,
          16.029,
          16.252,
          16.277,
          16.029,
          15.84,
          16.046,
          16.296,
          16.538,
          16.206,
          16.242,
          16.223,
          16.09,
          15.847999999999999,
          15.355,
          15.257,
          14.970999999999998,
          14.773,
          14.569,
          14.960999999999999,
          15.185,
          15.265,
          15.434000000000001,
          15.257,
          15.14,
          15.604000000000001,
          15.57,
          15.679,
          15.84,
          15.663,
          15.392999999999999,
          15.577,
          15.57,
          15.73,
          15.663,
          15.679,
          15.679,
          15.769,
          15.517000000000001,
          15.309000000000001,
          15.407,
          15.04,
          15.177,
          14.944,
          14.794,
          14.747,
          14.899000000000001,
          14.960999999999999,
          14.747,
          14.970999999999998,
          14.952,
          14.960999999999999,
          14.989,
          14.755999999999998,
          14.610999999999999,
          14.765,
          14.719000000000001,
          14.684000000000001,
          14.738,
          14.700999999999999,
          14.515,
          14.56,
          14.610999999999999,
          14.693,
          14.399000000000001,
          14.238,
          14.283,
          13.985999999999999,
          13.905999999999999,
          13.978,
          14.020999999999999,
          14.068,
          13.853,
          13.915,
          13.905999999999999,
          14.113,
          13.978,
          14.138,
          14.120999999999999,
          14.05,
          14.04,
          13.95,
          13.818,
          13.862,
          13.889000000000001,
          13.773,
          13.754000000000001,
          13.87,
          13.681,
          13.783,
          13.773,
          13.95,
          14.05,
          14.155,
          13.95,
          14.283,
          14.382,
          14.415,
          14.382,
          14.352,
          14.328,
          14.113,
          14.45,
          14.495,
          14.299000000000001,
          14.155,
          14.290999999999999,
          14.265999999999998,
          14.087,
          14.290999999999999,
          14.692,
          14.595,
          14.434000000000001,
          14.595,
          14.442,
          14.522,
          14.815999999999999,
          14.799000000000001,
          14.850999999999999,
          14.575999999999999,
          14.628,
          14.569,
          14.692,
          14.228,
          14.069,
          14.155,
          13.775,
          13.498,
          13.745999999999999,
          13.544,
          13.925,
          14.122,
          14.014000000000001,
          14.333,
          13.729000000000001,
          13.595,
          13.700999999999999,
          13.544,
          14.290999999999999,
          14.655,
          14.859000000000002,
          15.129000000000001,
          15.402999999999999,
          15.094000000000001,
          15.017999999999999,
          15.488,
          15.949000000000002
         ],
         "high": [
          15.394,
          15.548,
          15.648,
          15.539000000000001,
          15.675,
          15.638,
          15.427999999999999,
          15.357999999999999,
          15.565999999999999,
          16.079,
          16.035,
          15.774000000000001,
          15.231,
          15.387,
          15.7,
          15.675,
          15.745,
          16.052,
          16.079,
          16.026,
          16.134,
          16.017,
          15.812000000000001,
          15.735999999999999,
          15.804,
          15.804,
          15.945,
          16.035,
          16.052,
          16.069000000000003,
          15.828,
          15.700999999999999,
          15.565999999999999,
          15.854000000000001,
          16.178,
          16.134,
          16.259,
          16.267,
          15.619000000000002,
          15.565999999999999,
          15.522,
          15.412,
          15.449000000000002,
          15.683,
          15.565999999999999,
          14.811,
          14.883,
          14.883,
          14.571,
          14.647,
          14.647,
          14.578,
          14.647,
          14.639000000000001,
          14.315,
          14.017999999999999,
          14.047,
          14.227,
          14.190999999999999,
          14.325,
          14.227,
          14.199000000000002,
          13.831,
          14.065,
          14.027999999999999,
          13.966,
          14.227,
          14.407,
          14.047,
          14.257,
          14.01,
          14.162,
          14.128,
          14.821,
          14.739,
          14.739,
          14.45,
          14.443,
          14.487,
          14.802999999999999,
          14.534,
          14.265,
          14.561,
          14.265,
          14.389000000000001,
          14.673,
          14.737,
          14.745999999999999,
          14.397,
          14.532,
          14.324000000000002,
          14.935,
          15.417,
          15.855,
          16.046,
          15.966,
          15.864,
          15.855,
          15.823,
          16.11,
          16.18,
          16.198,
          16.119,
          16.18,
          16.070999999999998,
          16.11,
          16.189,
          16.397000000000002,
          16.314,
          16.037,
          15.937999999999999,
          16.342,
          16.522000000000002,
          16.566,
          16.287,
          16.342,
          16.277,
          16.198,
          16.002,
          15.374,
          15.283,
          15.097000000000001,
          14.989,
          14.793,
          15.177,
          15.247,
          15.425999999999998,
          15.517000000000001,
          15.355,
          15.464,
          15.704,
          15.797,
          15.855,
          15.883,
          15.713,
          15.585999999999999,
          15.595,
          15.769,
          15.74,
          15.687000000000001,
          15.76,
          15.847999999999999,
          15.797,
          15.552999999999999,
          15.535,
          15.552999999999999,
          15.22,
          15.257,
          14.979000000000001,
          14.87,
          14.899000000000001,
          14.952,
          14.970999999999998,
          14.952,
          15.013,
          14.970999999999998,
          15.058,
          14.997,
          14.784,
          14.765,
          14.827,
          14.765,
          14.729000000000001,
          14.827,
          14.710999999999999,
          14.595,
          14.738,
          14.843,
          14.700999999999999,
          14.434000000000001,
          14.343,
          14.333,
          14.04,
          14.085999999999999,
          14.078,
          14.120999999999999,
          14.147,
          13.978,
          14.020999999999999,
          14.078,
          14.248,
          14.164000000000001,
          14.257,
          14.173,
          14.113,
          14.085999999999999,
          14.068,
          13.985999999999999,
          13.940999999999999,
          13.96,
          13.818,
          13.87,
          13.95,
          13.843,
          13.889000000000001,
          13.985999999999999,
          14.120999999999999,
          14.193,
          14.238,
          14.273,
          14.390999999999998,
          14.407,
          14.495,
          14.434000000000001,
          14.487,
          14.443,
          14.415,
          14.595,
          14.853,
          14.325,
          14.283,
          14.390999999999998,
          14.283,
          14.147,
          14.645,
          14.7,
          14.745,
          14.542,
          14.637,
          14.595,
          14.754000000000001,
          14.859000000000002,
          14.959000000000001,
          14.905999999999999,
          14.655,
          14.807,
          14.7,
          14.924000000000001,
          14.333,
          14.257,
          14.193,
          13.802999999999999,
          13.785,
          13.802999999999999,
          14.014000000000001,
          14.069,
          14.193,
          14.425,
          14.425,
          13.870999999999999,
          13.925,
          13.719000000000001,
          14.040999999999999,
          14.449000000000002,
          15.047,
          15.175,
          15.488,
          15.448,
          15.305,
          15.538,
          15.865,
          16.062
         ],
         "low": [
          15.177,
          15.367,
          15.477,
          15.312000000000001,
          15.53,
          15.419,
          15.196,
          15.124,
          15.116,
          15.6,
          15.539000000000001,
          15.322000000000001,
          14.879000000000001,
          15.004000000000001,
          15.295,
          15.212,
          15.447000000000001,
          15.725999999999999,
          15.675,
          15.557,
          15.828,
          15.719000000000001,
          15.667,
          15.582,
          15.659,
          15.514000000000001,
          15.700999999999999,
          15.821,
          15.845999999999998,
          15.675999999999998,
          15.591,
          15.297,
          15.369000000000002,
          15.600999999999999,
          15.897,
          15.794,
          15.794,
          15.972000000000001,
          15.314,
          15.252,
          15.279000000000002,
          15.173,
          15.072000000000001,
          15.261,
          14.796,
          14.657,
          14.694,
          14.612,
          14.390999999999998,
          14.298,
          14.477,
          14.370999999999999,
          14.415,
          14.136,
          13.984000000000002,
          13.849,
          13.876,
          13.937999999999999,
          13.948,
          14.001,
          14.001,
          13.885,
          13.157,
          13.814,
          13.777999999999999,
          13.713,
          13.831,
          14.218,
          13.849,
          14.01,
          13.894,
          14.001,
          13.937999999999999,
          14.190999999999999,
          14.467,
          14.399000000000001,
          14.298,
          14.298,
          14.218,
          14.237,
          14.298,
          13.937999999999999,
          14.272,
          14.001,
          13.857999999999999,
          14.504000000000001,
          14.522,
          14.423,
          13.75,
          13.671,
          13.087,
          14.433,
          14.989,
          15.633,
          15.823,
          15.74,
          15.720999999999998,
          15.633,
          15.257,
          15.883,
          16.011,
          15.779000000000002,
          15.929,
          15.956,
          15.873,
          15.815,
          16.011,
          16.18,
          16.062,
          15.779000000000002,
          15.687000000000001,
          15.992,
          16.206,
          16.163,
          16.154,
          16.206,
          16.037,
          16.011,
          15.679,
          15.115,
          15.15,
          14.935,
          14.745999999999999,
          14.542,
          14.645,
          14.979000000000001,
          15.14,
          15.319,
          15.107000000000001,
          15.115,
          15.552999999999999,
          15.552999999999999,
          15.642999999999999,
          15.74,
          15.552999999999999,
          15.345999999999998,
          15.434000000000001,
          15.509,
          15.57,
          15.464,
          15.561,
          15.633,
          15.561,
          15.238,
          15.283,
          15.210999999999999,
          14.989,
          15.003,
          14.747,
          14.719000000000001,
          14.719000000000001,
          14.818,
          14.784,
          14.684000000000001,
          14.935,
          14.800999999999998,
          14.860999999999999,
          14.818,
          14.577,
          14.57,
          14.700999999999999,
          14.619000000000002,
          14.610999999999999,
          14.684000000000001,
          14.495,
          14.382,
          14.372,
          14.595,
          14.407,
          14.228,
          14.113,
          13.915,
          13.853,
          13.905999999999999,
          13.95,
          14.013,
          13.843,
          13.790999999999999,
          13.905999999999999,
          13.853,
          13.924000000000001,
          13.934000000000001,
          14.04,
          14.068,
          13.940999999999999,
          13.88,
          13.853,
          13.81,
          13.709000000000001,
          13.790999999999999,
          13.629000000000001,
          13.744000000000002,
          13.763,
          13.648,
          13.639000000000001,
          13.763,
          13.95,
          14.05,
          13.978,
          13.95,
          14.219000000000001,
          14.265999999999998,
          14.164000000000001,
          14.248,
          14.21,
          14.183,
          14.113,
          14.407,
          14.443,
          14.078,
          14.085999999999999,
          14.219000000000001,
          14.005,
          13.915999999999999,
          14.164000000000001,
          14.542,
          14.475999999999999,
          14.343,
          14.265999999999998,
          14.325,
          14.466,
          14.585,
          14.735999999999999,
          14.585,
          14.442,
          14.569,
          14.475999999999999,
          14.449000000000002,
          14.164000000000001,
          14.032,
          13.907,
          13.470999999999998,
          13.498,
          13.544,
          13.526,
          13.793,
          13.985999999999999,
          14.014000000000001,
          13.745999999999999,
          13.498,
          13.544,
          13.335999999999999,
          13.498,
          14.050999999999998,
          14.542,
          14.842,
          15.103,
          15.234000000000002,
          15.027999999999999,
          14.95,
          15.402999999999999,
          15.752
         ],
         "open": [
          15.341,
          15.513,
          15.557,
          15.53,
          15.618,
          15.477,
          15.377,
          15.312000000000001,
          15.504000000000001,
          16.052,
          15.917,
          15.349,
          15.116,
          15.304,
          15.467,
          15.427999999999999,
          15.683,
          16.044,
          15.725999999999999,
          15.945,
          16.125,
          15.755999999999998,
          15.719000000000001,
          15.700999999999999,
          15.745999999999999,
          15.522,
          15.845999999999998,
          16.017,
          15.989,
          15.675999999999998,
          15.735999999999999,
          15.402999999999999,
          15.402999999999999,
          15.812000000000001,
          16.178,
          15.854000000000001,
          16.212,
          16.044,
          15.314,
          15.558,
          15.297,
          15.198,
          15.449000000000002,
          15.429,
          14.796,
          14.749,
          14.856,
          14.647,
          14.390999999999998,
          14.62,
          14.534,
          14.390999999999998,
          14.639000000000001,
          14.218,
          14.181,
          13.894,
          14.027999999999999,
          14.162,
          14.136,
          14.190999999999999,
          14.102,
          13.894,
          13.561,
          13.957,
          13.984000000000002,
          13.937999999999999,
          14.199000000000002,
          14.282,
          13.975,
          14.027999999999999,
          13.931,
          14.092,
          14.102,
          14.647,
          14.703,
          14.425,
          14.360999999999999,
          14.380999999999998,
          14.272,
          14.720999999999998,
          14.350999999999999,
          14.199000000000002,
          14.360999999999999,
          14.227,
          14.297,
          14.637,
          14.7,
          14.683,
          14.171,
          14.522,
          13.463,
          14.522,
          15.407,
          15.73,
          15.883,
          15.787,
          15.75,
          15.74,
          15.797,
          16.002,
          16.02,
          16.062,
          16.054000000000002,
          16.070999999999998,
          15.948,
          16.054000000000002,
          16.163,
          16.314,
          16.09,
          15.948,
          15.83,
          16.314,
          16.484,
          16.163,
          16.233,
          16.269000000000002,
          16.1,
          16.054000000000002,
          15.713,
          15.177,
          15.22,
          15.058,
          14.818,
          14.718,
          15.15,
          15.04,
          15.384,
          15.464,
          15.309000000000001,
          15.355,
          15.67,
          15.75,
          15.713,
          15.74,
          15.561,
          15.493,
          15.552999999999999,
          15.769,
          15.652999999999999,
          15.535,
          15.642999999999999,
          15.805,
          15.585999999999999,
          15.283,
          15.474,
          15.275,
          15.124,
          15.05,
          14.765,
          14.818,
          14.89,
          14.944,
          14.800999999999998,
          14.952,
          14.944,
          14.935,
          14.997,
          14.818,
          14.577,
          14.765,
          14.774000000000001,
          14.693,
          14.710999999999999,
          14.700999999999999,
          14.585999999999999,
          14.505,
          14.619000000000002,
          14.674000000000001,
          14.425,
          14.299000000000001,
          14.299000000000001,
          13.940999999999999,
          13.924000000000001,
          13.969000000000001,
          14.04,
          14.05,
          13.897,
          13.940999999999999,
          13.96,
          14.04,
          13.978,
          14.030999999999999,
          14.193,
          14.095,
          14.020999999999999,
          13.969000000000001,
          13.87,
          13.889000000000001,
          13.754000000000001,
          13.790999999999999,
          13.783,
          13.853,
          13.783,
          13.834000000000001,
          13.754000000000001,
          13.969000000000001,
          14.059000000000001,
          14.129000000000001,
          14.020999999999999,
          14.265999999999998,
          14.308,
          14.362,
          14.399000000000001,
          14.372,
          14.343,
          14.228,
          14.333,
          14.585999999999999,
          14.665,
          14.228,
          14.265999999999998,
          14.273,
          14.069,
          14.06,
          14.628,
          14.585,
          14.495,
          14.542,
          14.382,
          14.442,
          14.745,
          14.727,
          14.897,
          14.618,
          14.550999999999998,
          14.754000000000001,
          14.569,
          14.522,
          14.238,
          14.069,
          13.907,
          13.604000000000001,
          13.569,
          13.640999999999998,
          14.005,
          13.855,
          14.005,
          14.290999999999999,
          13.855,
          13.613,
          13.89,
          13.508,
          13.89,
          14.257,
          14.987,
          15.165,
          15.488,
          15.289000000000001,
          15.270999999999999,
          15.520999999999999,
          15.85,
          16.029
         ],
         "showlegend": false,
         "type": "candlestick",
         "x": [
          "2015-12-31",
          "2015-12-30",
          "2015-12-29",
          "2015-12-28",
          "2015-12-24",
          "2015-12-23",
          "2015-12-22",
          "2015-12-21",
          "2015-12-18",
          "2015-12-17",
          "2015-12-16",
          "2015-12-15",
          "2015-12-14",
          "2015-12-11",
          "2015-12-10",
          "2015-12-09",
          "2015-12-08",
          "2015-12-07",
          "2015-12-04",
          "2015-12-03",
          "2015-12-02",
          "2015-12-01",
          "2015-11-30",
          "2015-11-27",
          "2015-11-25",
          "2015-11-24",
          "2015-11-23",
          "2015-11-20",
          "2015-11-19",
          "2015-11-18",
          "2015-11-17",
          "2015-11-16",
          "2015-11-13",
          "2015-11-12",
          "2015-11-11",
          "2015-11-10",
          "2015-11-09",
          "2015-11-06",
          "2015-11-05",
          "2015-11-04",
          "2015-11-03",
          "2015-11-02",
          "2015-10-30",
          "2015-10-29",
          "2015-10-28",
          "2015-10-27",
          "2015-10-26",
          "2015-10-23",
          "2015-10-22",
          "2015-10-21",
          "2015-10-20",
          "2015-10-19",
          "2015-10-16",
          "2015-10-15",
          "2015-10-14",
          "2015-10-13",
          "2015-10-12",
          "2015-10-09",
          "2015-10-08",
          "2015-10-07",
          "2015-10-06",
          "2015-10-05",
          "2015-10-02",
          "2015-10-01",
          "2015-09-30",
          "2015-09-29",
          "2015-09-28",
          "2015-09-25",
          "2015-09-24",
          "2015-09-23",
          "2015-09-22",
          "2015-09-21",
          "2015-09-18",
          "2015-09-17",
          "2015-09-16",
          "2015-09-15",
          "2015-09-14",
          "2015-09-11",
          "2015-09-10",
          "2015-09-09",
          "2015-09-08",
          "2015-09-04",
          "2015-09-03",
          "2015-09-02",
          "2015-09-01",
          "2015-08-31",
          "2015-08-28",
          "2015-08-27",
          "2015-08-26",
          "2015-08-25",
          "2015-08-24",
          "2015-08-21",
          "2015-08-20",
          "2015-08-19",
          "2015-08-18",
          "2015-08-17",
          "2015-08-14",
          "2015-08-13",
          "2015-08-12",
          "2015-08-11",
          "2015-08-10",
          "2015-08-07",
          "2015-08-06",
          "2015-08-05",
          "2015-08-04",
          "2015-08-03",
          "2015-07-31",
          "2015-07-30",
          "2015-07-29",
          "2015-07-28",
          "2015-07-27",
          "2015-07-24",
          "2015-07-23",
          "2015-07-22",
          "2015-07-21",
          "2015-07-20",
          "2015-07-17",
          "2015-07-16",
          "2015-07-15",
          "2015-07-14",
          "2015-07-13",
          "2015-07-10",
          "2015-07-09",
          "2015-07-08",
          "2015-07-07",
          "2015-07-06",
          "2015-07-02",
          "2015-07-01",
          "2015-06-30",
          "2015-06-29",
          "2015-06-26",
          "2015-06-25",
          "2015-06-24",
          "2015-06-23",
          "2015-06-22",
          "2015-06-19",
          "2015-06-18",
          "2015-06-17",
          "2015-06-16",
          "2015-06-15",
          "2015-06-12",
          "2015-06-11",
          "2015-06-10",
          "2015-06-09",
          "2015-06-08",
          "2015-06-05",
          "2015-06-04",
          "2015-06-03",
          "2015-06-02",
          "2015-06-01",
          "2015-05-29",
          "2015-05-28",
          "2015-05-27",
          "2015-05-26",
          "2015-05-22",
          "2015-05-21",
          "2015-05-20",
          "2015-05-19",
          "2015-05-18",
          "2015-05-15",
          "2015-05-14",
          "2015-05-13",
          "2015-05-12",
          "2015-05-11",
          "2015-05-08",
          "2015-05-07",
          "2015-05-06",
          "2015-05-05",
          "2015-05-04",
          "2015-05-01",
          "2015-04-30",
          "2015-04-29",
          "2015-04-28",
          "2015-04-27",
          "2015-04-24",
          "2015-04-23",
          "2015-04-22",
          "2015-04-21",
          "2015-04-20",
          "2015-04-17",
          "2015-04-16",
          "2015-04-15",
          "2015-04-14",
          "2015-04-13",
          "2015-04-10",
          "2015-04-09",
          "2015-04-08",
          "2015-04-07",
          "2015-04-06",
          "2015-04-02",
          "2015-04-01",
          "2015-03-31",
          "2015-03-30",
          "2015-03-27",
          "2015-03-26",
          "2015-03-25",
          "2015-03-24",
          "2015-03-23",
          "2015-03-20",
          "2015-03-19",
          "2015-03-18",
          "2015-03-17",
          "2015-03-16",
          "2015-03-13",
          "2015-03-12",
          "2015-03-11",
          "2015-03-10",
          "2015-03-09",
          "2015-03-06",
          "2015-03-05",
          "2015-03-04",
          "2015-03-03",
          "2015-03-02",
          "2015-02-27",
          "2015-02-26",
          "2015-02-25",
          "2015-02-24",
          "2015-02-23",
          "2015-02-20",
          "2015-02-19",
          "2015-02-18",
          "2015-02-17",
          "2015-02-13",
          "2015-02-12",
          "2015-02-11",
          "2015-02-10",
          "2015-02-09",
          "2015-02-06",
          "2015-02-05",
          "2015-02-04",
          "2015-02-03",
          "2015-02-02",
          "2015-01-30",
          "2015-01-29",
          "2015-01-28",
          "2015-01-27",
          "2015-01-26",
          "2015-01-23",
          "2015-01-22",
          "2015-01-21",
          "2015-01-20",
          "2015-01-16",
          "2015-01-15",
          "2015-01-14",
          "2015-01-13",
          "2015-01-12",
          "2015-01-09",
          "2015-01-08",
          "2015-01-07",
          "2015-01-06",
          "2015-01-05",
          "2015-01-02"
         ],
         "yaxis": "y2"
        }
       ],
       "layout": {
        "legend": {
         "bgcolor": "#F5F6F9",
         "font": {
          "color": "#4D5663"
         }
        },
        "paper_bgcolor": "#F5F6F9",
        "plot_bgcolor": "#F5F6F9",
        "template": {
         "data": {
          "bar": [
           {
            "error_x": {
             "color": "#2a3f5f"
            },
            "error_y": {
             "color": "#2a3f5f"
            },
            "marker": {
             "line": {
              "color": "#E5ECF6",
              "width": 0.5
             }
            },
            "type": "bar"
           }
          ],
          "barpolar": [
           {
            "marker": {
             "line": {
              "color": "#E5ECF6",
              "width": 0.5
             }
            },
            "type": "barpolar"
           }
          ],
          "carpet": [
           {
            "aaxis": {
             "endlinecolor": "#2a3f5f",
             "gridcolor": "white",
             "linecolor": "white",
             "minorgridcolor": "white",
             "startlinecolor": "#2a3f5f"
            },
            "baxis": {
             "endlinecolor": "#2a3f5f",
             "gridcolor": "white",
             "linecolor": "white",
             "minorgridcolor": "white",
             "startlinecolor": "#2a3f5f"
            },
            "type": "carpet"
           }
          ],
          "choropleth": [
           {
            "colorbar": {
             "outlinewidth": 0,
             "ticks": ""
            },
            "type": "choropleth"
           }
          ],
          "contour": [
           {
            "colorbar": {
             "outlinewidth": 0,
             "ticks": ""
            },
            "colorscale": [
             [
              0,
              "#0d0887"
             ],
             [
              0.1111111111111111,
              "#46039f"
             ],
             [
              0.2222222222222222,
              "#7201a8"
             ],
             [
              0.3333333333333333,
              "#9c179e"
             ],
             [
              0.4444444444444444,
              "#bd3786"
             ],
             [
              0.5555555555555556,
              "#d8576b"
             ],
             [
              0.6666666666666666,
              "#ed7953"
             ],
             [
              0.7777777777777778,
              "#fb9f3a"
             ],
             [
              0.8888888888888888,
              "#fdca26"
             ],
             [
              1,
              "#f0f921"
             ]
            ],
            "type": "contour"
           }
          ],
          "contourcarpet": [
           {
            "colorbar": {
             "outlinewidth": 0,
             "ticks": ""
            },
            "type": "contourcarpet"
           }
          ],
          "heatmap": [
           {
            "colorbar": {
             "outlinewidth": 0,
             "ticks": ""
            },
            "colorscale": [
             [
              0,
              "#0d0887"
             ],
             [
              0.1111111111111111,
              "#46039f"
             ],
             [
              0.2222222222222222,
              "#7201a8"
             ],
             [
              0.3333333333333333,
              "#9c179e"
             ],
             [
              0.4444444444444444,
              "#bd3786"
             ],
             [
              0.5555555555555556,
              "#d8576b"
             ],
             [
              0.6666666666666666,
              "#ed7953"
             ],
             [
              0.7777777777777778,
              "#fb9f3a"
             ],
             [
              0.8888888888888888,
              "#fdca26"
             ],
             [
              1,
              "#f0f921"
             ]
            ],
            "type": "heatmap"
           }
          ],
          "heatmapgl": [
           {
            "colorbar": {
             "outlinewidth": 0,
             "ticks": ""
            },
            "colorscale": [
             [
              0,
              "#0d0887"
             ],
             [
              0.1111111111111111,
              "#46039f"
             ],
             [
              0.2222222222222222,
              "#7201a8"
             ],
             [
              0.3333333333333333,
              "#9c179e"
             ],
             [
              0.4444444444444444,
              "#bd3786"
             ],
             [
              0.5555555555555556,
              "#d8576b"
             ],
             [
              0.6666666666666666,
              "#ed7953"
             ],
             [
              0.7777777777777778,
              "#fb9f3a"
             ],
             [
              0.8888888888888888,
              "#fdca26"
             ],
             [
              1,
              "#f0f921"
             ]
            ],
            "type": "heatmapgl"
           }
          ],
          "histogram": [
           {
            "marker": {
             "colorbar": {
              "outlinewidth": 0,
              "ticks": ""
             }
            },
            "type": "histogram"
           }
          ],
          "histogram2d": [
           {
            "colorbar": {
             "outlinewidth": 0,
             "ticks": ""
            },
            "colorscale": [
             [
              0,
              "#0d0887"
             ],
             [
              0.1111111111111111,
              "#46039f"
             ],
             [
              0.2222222222222222,
              "#7201a8"
             ],
             [
              0.3333333333333333,
              "#9c179e"
             ],
             [
              0.4444444444444444,
              "#bd3786"
             ],
             [
              0.5555555555555556,
              "#d8576b"
             ],
             [
              0.6666666666666666,
              "#ed7953"
             ],
             [
              0.7777777777777778,
              "#fb9f3a"
             ],
             [
              0.8888888888888888,
              "#fdca26"
             ],
             [
              1,
              "#f0f921"
             ]
            ],
            "type": "histogram2d"
           }
          ],
          "histogram2dcontour": [
           {
            "colorbar": {
             "outlinewidth": 0,
             "ticks": ""
            },
            "colorscale": [
             [
              0,
              "#0d0887"
             ],
             [
              0.1111111111111111,
              "#46039f"
             ],
             [
              0.2222222222222222,
              "#7201a8"
             ],
             [
              0.3333333333333333,
              "#9c179e"
             ],
             [
              0.4444444444444444,
              "#bd3786"
             ],
             [
              0.5555555555555556,
              "#d8576b"
             ],
             [
              0.6666666666666666,
              "#ed7953"
             ],
             [
              0.7777777777777778,
              "#fb9f3a"
             ],
             [
              0.8888888888888888,
              "#fdca26"
             ],
             [
              1,
              "#f0f921"
             ]
            ],
            "type": "histogram2dcontour"
           }
          ],
          "mesh3d": [
           {
            "colorbar": {
             "outlinewidth": 0,
             "ticks": ""
            },
            "type": "mesh3d"
           }
          ],
          "parcoords": [
           {
            "line": {
             "colorbar": {
              "outlinewidth": 0,
              "ticks": ""
             }
            },
            "type": "parcoords"
           }
          ],
          "pie": [
           {
            "automargin": true,
            "type": "pie"
           }
          ],
          "scatter": [
           {
            "marker": {
             "colorbar": {
              "outlinewidth": 0,
              "ticks": ""
             }
            },
            "type": "scatter"
           }
          ],
          "scatter3d": [
           {
            "line": {
             "colorbar": {
              "outlinewidth": 0,
              "ticks": ""
             }
            },
            "marker": {
             "colorbar": {
              "outlinewidth": 0,
              "ticks": ""
             }
            },
            "type": "scatter3d"
           }
          ],
          "scattercarpet": [
           {
            "marker": {
             "colorbar": {
              "outlinewidth": 0,
              "ticks": ""
             }
            },
            "type": "scattercarpet"
           }
          ],
          "scattergeo": [
           {
            "marker": {
             "colorbar": {
              "outlinewidth": 0,
              "ticks": ""
             }
            },
            "type": "scattergeo"
           }
          ],
          "scattergl": [
           {
            "marker": {
             "colorbar": {
              "outlinewidth": 0,
              "ticks": ""
             }
            },
            "type": "scattergl"
           }
          ],
          "scattermapbox": [
           {
            "marker": {
             "colorbar": {
              "outlinewidth": 0,
              "ticks": ""
             }
            },
            "type": "scattermapbox"
           }
          ],
          "scatterpolar": [
           {
            "marker": {
             "colorbar": {
              "outlinewidth": 0,
              "ticks": ""
             }
            },
            "type": "scatterpolar"
           }
          ],
          "scatterpolargl": [
           {
            "marker": {
             "colorbar": {
              "outlinewidth": 0,
              "ticks": ""
             }
            },
            "type": "scatterpolargl"
           }
          ],
          "scatterternary": [
           {
            "marker": {
             "colorbar": {
              "outlinewidth": 0,
              "ticks": ""
             }
            },
            "type": "scatterternary"
           }
          ],
          "surface": [
           {
            "colorbar": {
             "outlinewidth": 0,
             "ticks": ""
            },
            "colorscale": [
             [
              0,
              "#0d0887"
             ],
             [
              0.1111111111111111,
              "#46039f"
             ],
             [
              0.2222222222222222,
              "#7201a8"
             ],
             [
              0.3333333333333333,
              "#9c179e"
             ],
             [
              0.4444444444444444,
              "#bd3786"
             ],
             [
              0.5555555555555556,
              "#d8576b"
             ],
             [
              0.6666666666666666,
              "#ed7953"
             ],
             [
              0.7777777777777778,
              "#fb9f3a"
             ],
             [
              0.8888888888888888,
              "#fdca26"
             ],
             [
              1,
              "#f0f921"
             ]
            ],
            "type": "surface"
           }
          ],
          "table": [
           {
            "cells": {
             "fill": {
              "color": "#EBF0F8"
             },
             "line": {
              "color": "white"
             }
            },
            "header": {
             "fill": {
              "color": "#C8D4E3"
             },
             "line": {
              "color": "white"
             }
            },
            "type": "table"
           }
          ]
         },
         "layout": {
          "annotationdefaults": {
           "arrowcolor": "#2a3f5f",
           "arrowhead": 0,
           "arrowwidth": 1
          },
          "autotypenumbers": "strict",
          "coloraxis": {
           "colorbar": {
            "outlinewidth": 0,
            "ticks": ""
           }
          },
          "colorscale": {
           "diverging": [
            [
             0,
             "#8e0152"
            ],
            [
             0.1,
             "#c51b7d"
            ],
            [
             0.2,
             "#de77ae"
            ],
            [
             0.3,
             "#f1b6da"
            ],
            [
             0.4,
             "#fde0ef"
            ],
            [
             0.5,
             "#f7f7f7"
            ],
            [
             0.6,
             "#e6f5d0"
            ],
            [
             0.7,
             "#b8e186"
            ],
            [
             0.8,
             "#7fbc41"
            ],
            [
             0.9,
             "#4d9221"
            ],
            [
             1,
             "#276419"
            ]
           ],
           "sequential": [
            [
             0,
             "#0d0887"
            ],
            [
             0.1111111111111111,
             "#46039f"
            ],
            [
             0.2222222222222222,
             "#7201a8"
            ],
            [
             0.3333333333333333,
             "#9c179e"
            ],
            [
             0.4444444444444444,
             "#bd3786"
            ],
            [
             0.5555555555555556,
             "#d8576b"
            ],
            [
             0.6666666666666666,
             "#ed7953"
            ],
            [
             0.7777777777777778,
             "#fb9f3a"
            ],
            [
             0.8888888888888888,
             "#fdca26"
            ],
            [
             1,
             "#f0f921"
            ]
           ],
           "sequentialminus": [
            [
             0,
             "#0d0887"
            ],
            [
             0.1111111111111111,
             "#46039f"
            ],
            [
             0.2222222222222222,
             "#7201a8"
            ],
            [
             0.3333333333333333,
             "#9c179e"
            ],
            [
             0.4444444444444444,
             "#bd3786"
            ],
            [
             0.5555555555555556,
             "#d8576b"
            ],
            [
             0.6666666666666666,
             "#ed7953"
            ],
            [
             0.7777777777777778,
             "#fb9f3a"
            ],
            [
             0.8888888888888888,
             "#fdca26"
            ],
            [
             1,
             "#f0f921"
            ]
           ]
          },
          "colorway": [
           "#636efa",
           "#EF553B",
           "#00cc96",
           "#ab63fa",
           "#FFA15A",
           "#19d3f3",
           "#FF6692",
           "#B6E880",
           "#FF97FF",
           "#FECB52"
          ],
          "font": {
           "color": "#2a3f5f"
          },
          "geo": {
           "bgcolor": "white",
           "lakecolor": "white",
           "landcolor": "#E5ECF6",
           "showlakes": true,
           "showland": true,
           "subunitcolor": "white"
          },
          "hoverlabel": {
           "align": "left"
          },
          "hovermode": "closest",
          "mapbox": {
           "style": "light"
          },
          "paper_bgcolor": "white",
          "plot_bgcolor": "#E5ECF6",
          "polar": {
           "angularaxis": {
            "gridcolor": "white",
            "linecolor": "white",
            "ticks": ""
           },
           "bgcolor": "#E5ECF6",
           "radialaxis": {
            "gridcolor": "white",
            "linecolor": "white",
            "ticks": ""
           }
          },
          "scene": {
           "xaxis": {
            "backgroundcolor": "#E5ECF6",
            "gridcolor": "white",
            "gridwidth": 2,
            "linecolor": "white",
            "showbackground": true,
            "ticks": "",
            "zerolinecolor": "white"
           },
           "yaxis": {
            "backgroundcolor": "#E5ECF6",
            "gridcolor": "white",
            "gridwidth": 2,
            "linecolor": "white",
            "showbackground": true,
            "ticks": "",
            "zerolinecolor": "white"
           },
           "zaxis": {
            "backgroundcolor": "#E5ECF6",
            "gridcolor": "white",
            "gridwidth": 2,
            "linecolor": "white",
            "showbackground": true,
            "ticks": "",
            "zerolinecolor": "white"
           }
          },
          "shapedefaults": {
           "line": {
            "color": "#2a3f5f"
           }
          },
          "ternary": {
           "aaxis": {
            "gridcolor": "white",
            "linecolor": "white",
            "ticks": ""
           },
           "baxis": {
            "gridcolor": "white",
            "linecolor": "white",
            "ticks": ""
           },
           "bgcolor": "#E5ECF6",
           "caxis": {
            "gridcolor": "white",
            "linecolor": "white",
            "ticks": ""
           }
          },
          "title": {
           "x": 0.05
          },
          "xaxis": {
           "automargin": true,
           "gridcolor": "white",
           "linecolor": "white",
           "ticks": "",
           "title": {
            "standoff": 15
           },
           "zerolinecolor": "white",
           "zerolinewidth": 2
          },
          "yaxis": {
           "automargin": true,
           "gridcolor": "white",
           "linecolor": "white",
           "ticks": "",
           "title": {
            "standoff": 15
           },
           "zerolinecolor": "white",
           "zerolinewidth": 2
          }
         }
        },
        "title": {
         "font": {
          "color": "#4D5663"
         }
        },
        "xaxis": {
         "gridcolor": "#E1E5ED",
         "rangeslider": {
          "visible": false
         },
         "showgrid": true,
         "tickfont": {
          "color": "#4D5663"
         },
         "title": {
          "font": {
           "color": "#4D5663"
          },
          "text": ""
         },
         "zerolinecolor": "#E1E5ED"
        },
        "yaxis": {
         "gridcolor": "#E1E5ED",
         "showgrid": true,
         "showticklabels": false,
         "tickfont": {
          "color": "#4D5663"
         },
         "title": {
          "font": {
           "color": "#4D5663"
          },
          "text": ""
         },
         "zerolinecolor": "#E1E5ED"
        },
        "yaxis2": {
         "gridcolor": "#E1E5ED",
         "showgrid": true,
         "tickfont": {
          "color": "#4D5663"
         },
         "title": {
          "font": {
           "color": "#4D5663"
          },
          "text": ""
         },
         "zerolinecolor": "#E1E5ED"
        }
       }
      },
      "text/html": [
       "<div>                            <div id=\"0946a771-474c-4108-8811-dcdcc69a539b\" class=\"plotly-graph-div\" style=\"height:525px; width:100%;\"></div>            <script type=\"text/javascript\">                require([\"plotly\"], function(Plotly) {                    window.PLOTLYENV=window.PLOTLYENV || {};\n",
       "                    window.PLOTLYENV.BASE_URL='https://plot.ly';                                    if (document.getElementById(\"0946a771-474c-4108-8811-dcdcc69a539b\")) {                    Plotly.newPlot(                        \"0946a771-474c-4108-8811-dcdcc69a539b\",                        [{\"close\": [15.177, 15.377, 15.581, 15.447000000000001, 15.574000000000002, 15.638, 15.402000000000001, 15.304, 15.116, 15.6, 16.008, 15.708, 15.15, 15.088, 15.513, 15.419, 15.504000000000001, 15.82, 16.052, 15.6, 15.887, 16.017, 15.675999999999998, 15.719000000000001, 15.683, 15.709000000000001, 15.709000000000001, 15.87, 15.907, 16.044, 15.667, 15.675999999999998, 15.469000000000001, 15.619000000000002, 15.963, 16.052, 15.897, 16.142, 15.565999999999999, 15.297, 15.449000000000002, 15.343, 15.091, 15.369000000000002, 15.54, 14.749, 14.845999999999998, 14.856, 14.534, 14.298, 14.571, 14.515999999999998, 14.495999999999999, 14.561, 14.065, 13.957, 13.957, 14.01, 14.162, 14.162, 14.112, 14.112, 13.831, 13.984000000000002, 14.01, 13.806, 13.912, 14.29, 13.984000000000002, 14.136, 14.001, 14.119000000000002, 13.992, 14.265, 14.686, 14.665999999999999, 14.350999999999999, 14.425, 14.425, 14.298, 14.534, 14.075, 14.332, 14.257, 13.966, 14.645, 14.664000000000001, 14.737, 14.397, 13.679, 13.705, 14.433, 14.989, 15.652999999999999, 15.855, 15.929, 15.864, 15.797, 15.704, 15.948, 16.172, 15.91, 15.966, 16.02, 15.956, 15.929, 16.029, 16.252, 16.277, 16.029, 15.84, 16.046, 16.296, 16.538, 16.206, 16.242, 16.223, 16.09, 15.847999999999999, 15.355, 15.257, 14.970999999999998, 14.773, 14.569, 14.960999999999999, 15.185, 15.265, 15.434000000000001, 15.257, 15.14, 15.604000000000001, 15.57, 15.679, 15.84, 15.663, 15.392999999999999, 15.577, 15.57, 15.73, 15.663, 15.679, 15.679, 15.769, 15.517000000000001, 15.309000000000001, 15.407, 15.04, 15.177, 14.944, 14.794, 14.747, 14.899000000000001, 14.960999999999999, 14.747, 14.970999999999998, 14.952, 14.960999999999999, 14.989, 14.755999999999998, 14.610999999999999, 14.765, 14.719000000000001, 14.684000000000001, 14.738, 14.700999999999999, 14.515, 14.56, 14.610999999999999, 14.693, 14.399000000000001, 14.238, 14.283, 13.985999999999999, 13.905999999999999, 13.978, 14.020999999999999, 14.068, 13.853, 13.915, 13.905999999999999, 14.113, 13.978, 14.138, 14.120999999999999, 14.05, 14.04, 13.95, 13.818, 13.862, 13.889000000000001, 13.773, 13.754000000000001, 13.87, 13.681, 13.783, 13.773, 13.95, 14.05, 14.155, 13.95, 14.283, 14.382, 14.415, 14.382, 14.352, 14.328, 14.113, 14.45, 14.495, 14.299000000000001, 14.155, 14.290999999999999, 14.265999999999998, 14.087, 14.290999999999999, 14.692, 14.595, 14.434000000000001, 14.595, 14.442, 14.522, 14.815999999999999, 14.799000000000001, 14.850999999999999, 14.575999999999999, 14.628, 14.569, 14.692, 14.228, 14.069, 14.155, 13.775, 13.498, 13.745999999999999, 13.544, 13.925, 14.122, 14.014000000000001, 14.333, 13.729000000000001, 13.595, 13.700999999999999, 13.544, 14.290999999999999, 14.655, 14.859000000000002, 15.129000000000001, 15.402999999999999, 15.094000000000001, 15.017999999999999, 15.488, 15.949000000000002], \"high\": [15.394, 15.548, 15.648, 15.539000000000001, 15.675, 15.638, 15.427999999999999, 15.357999999999999, 15.565999999999999, 16.079, 16.035, 15.774000000000001, 15.231, 15.387, 15.7, 15.675, 15.745, 16.052, 16.079, 16.026, 16.134, 16.017, 15.812000000000001, 15.735999999999999, 15.804, 15.804, 15.945, 16.035, 16.052, 16.069000000000003, 15.828, 15.700999999999999, 15.565999999999999, 15.854000000000001, 16.178, 16.134, 16.259, 16.267, 15.619000000000002, 15.565999999999999, 15.522, 15.412, 15.449000000000002, 15.683, 15.565999999999999, 14.811, 14.883, 14.883, 14.571, 14.647, 14.647, 14.578, 14.647, 14.639000000000001, 14.315, 14.017999999999999, 14.047, 14.227, 14.190999999999999, 14.325, 14.227, 14.199000000000002, 13.831, 14.065, 14.027999999999999, 13.966, 14.227, 14.407, 14.047, 14.257, 14.01, 14.162, 14.128, 14.821, 14.739, 14.739, 14.45, 14.443, 14.487, 14.802999999999999, 14.534, 14.265, 14.561, 14.265, 14.389000000000001, 14.673, 14.737, 14.745999999999999, 14.397, 14.532, 14.324000000000002, 14.935, 15.417, 15.855, 16.046, 15.966, 15.864, 15.855, 15.823, 16.11, 16.18, 16.198, 16.119, 16.18, 16.070999999999998, 16.11, 16.189, 16.397000000000002, 16.314, 16.037, 15.937999999999999, 16.342, 16.522000000000002, 16.566, 16.287, 16.342, 16.277, 16.198, 16.002, 15.374, 15.283, 15.097000000000001, 14.989, 14.793, 15.177, 15.247, 15.425999999999998, 15.517000000000001, 15.355, 15.464, 15.704, 15.797, 15.855, 15.883, 15.713, 15.585999999999999, 15.595, 15.769, 15.74, 15.687000000000001, 15.76, 15.847999999999999, 15.797, 15.552999999999999, 15.535, 15.552999999999999, 15.22, 15.257, 14.979000000000001, 14.87, 14.899000000000001, 14.952, 14.970999999999998, 14.952, 15.013, 14.970999999999998, 15.058, 14.997, 14.784, 14.765, 14.827, 14.765, 14.729000000000001, 14.827, 14.710999999999999, 14.595, 14.738, 14.843, 14.700999999999999, 14.434000000000001, 14.343, 14.333, 14.04, 14.085999999999999, 14.078, 14.120999999999999, 14.147, 13.978, 14.020999999999999, 14.078, 14.248, 14.164000000000001, 14.257, 14.173, 14.113, 14.085999999999999, 14.068, 13.985999999999999, 13.940999999999999, 13.96, 13.818, 13.87, 13.95, 13.843, 13.889000000000001, 13.985999999999999, 14.120999999999999, 14.193, 14.238, 14.273, 14.390999999999998, 14.407, 14.495, 14.434000000000001, 14.487, 14.443, 14.415, 14.595, 14.853, 14.325, 14.283, 14.390999999999998, 14.283, 14.147, 14.645, 14.7, 14.745, 14.542, 14.637, 14.595, 14.754000000000001, 14.859000000000002, 14.959000000000001, 14.905999999999999, 14.655, 14.807, 14.7, 14.924000000000001, 14.333, 14.257, 14.193, 13.802999999999999, 13.785, 13.802999999999999, 14.014000000000001, 14.069, 14.193, 14.425, 14.425, 13.870999999999999, 13.925, 13.719000000000001, 14.040999999999999, 14.449000000000002, 15.047, 15.175, 15.488, 15.448, 15.305, 15.538, 15.865, 16.062], \"low\": [15.177, 15.367, 15.477, 15.312000000000001, 15.53, 15.419, 15.196, 15.124, 15.116, 15.6, 15.539000000000001, 15.322000000000001, 14.879000000000001, 15.004000000000001, 15.295, 15.212, 15.447000000000001, 15.725999999999999, 15.675, 15.557, 15.828, 15.719000000000001, 15.667, 15.582, 15.659, 15.514000000000001, 15.700999999999999, 15.821, 15.845999999999998, 15.675999999999998, 15.591, 15.297, 15.369000000000002, 15.600999999999999, 15.897, 15.794, 15.794, 15.972000000000001, 15.314, 15.252, 15.279000000000002, 15.173, 15.072000000000001, 15.261, 14.796, 14.657, 14.694, 14.612, 14.390999999999998, 14.298, 14.477, 14.370999999999999, 14.415, 14.136, 13.984000000000002, 13.849, 13.876, 13.937999999999999, 13.948, 14.001, 14.001, 13.885, 13.157, 13.814, 13.777999999999999, 13.713, 13.831, 14.218, 13.849, 14.01, 13.894, 14.001, 13.937999999999999, 14.190999999999999, 14.467, 14.399000000000001, 14.298, 14.298, 14.218, 14.237, 14.298, 13.937999999999999, 14.272, 14.001, 13.857999999999999, 14.504000000000001, 14.522, 14.423, 13.75, 13.671, 13.087, 14.433, 14.989, 15.633, 15.823, 15.74, 15.720999999999998, 15.633, 15.257, 15.883, 16.011, 15.779000000000002, 15.929, 15.956, 15.873, 15.815, 16.011, 16.18, 16.062, 15.779000000000002, 15.687000000000001, 15.992, 16.206, 16.163, 16.154, 16.206, 16.037, 16.011, 15.679, 15.115, 15.15, 14.935, 14.745999999999999, 14.542, 14.645, 14.979000000000001, 15.14, 15.319, 15.107000000000001, 15.115, 15.552999999999999, 15.552999999999999, 15.642999999999999, 15.74, 15.552999999999999, 15.345999999999998, 15.434000000000001, 15.509, 15.57, 15.464, 15.561, 15.633, 15.561, 15.238, 15.283, 15.210999999999999, 14.989, 15.003, 14.747, 14.719000000000001, 14.719000000000001, 14.818, 14.784, 14.684000000000001, 14.935, 14.800999999999998, 14.860999999999999, 14.818, 14.577, 14.57, 14.700999999999999, 14.619000000000002, 14.610999999999999, 14.684000000000001, 14.495, 14.382, 14.372, 14.595, 14.407, 14.228, 14.113, 13.915, 13.853, 13.905999999999999, 13.95, 14.013, 13.843, 13.790999999999999, 13.905999999999999, 13.853, 13.924000000000001, 13.934000000000001, 14.04, 14.068, 13.940999999999999, 13.88, 13.853, 13.81, 13.709000000000001, 13.790999999999999, 13.629000000000001, 13.744000000000002, 13.763, 13.648, 13.639000000000001, 13.763, 13.95, 14.05, 13.978, 13.95, 14.219000000000001, 14.265999999999998, 14.164000000000001, 14.248, 14.21, 14.183, 14.113, 14.407, 14.443, 14.078, 14.085999999999999, 14.219000000000001, 14.005, 13.915999999999999, 14.164000000000001, 14.542, 14.475999999999999, 14.343, 14.265999999999998, 14.325, 14.466, 14.585, 14.735999999999999, 14.585, 14.442, 14.569, 14.475999999999999, 14.449000000000002, 14.164000000000001, 14.032, 13.907, 13.470999999999998, 13.498, 13.544, 13.526, 13.793, 13.985999999999999, 14.014000000000001, 13.745999999999999, 13.498, 13.544, 13.335999999999999, 13.498, 14.050999999999998, 14.542, 14.842, 15.103, 15.234000000000002, 15.027999999999999, 14.95, 15.402999999999999, 15.752], \"open\": [15.341, 15.513, 15.557, 15.53, 15.618, 15.477, 15.377, 15.312000000000001, 15.504000000000001, 16.052, 15.917, 15.349, 15.116, 15.304, 15.467, 15.427999999999999, 15.683, 16.044, 15.725999999999999, 15.945, 16.125, 15.755999999999998, 15.719000000000001, 15.700999999999999, 15.745999999999999, 15.522, 15.845999999999998, 16.017, 15.989, 15.675999999999998, 15.735999999999999, 15.402999999999999, 15.402999999999999, 15.812000000000001, 16.178, 15.854000000000001, 16.212, 16.044, 15.314, 15.558, 15.297, 15.198, 15.449000000000002, 15.429, 14.796, 14.749, 14.856, 14.647, 14.390999999999998, 14.62, 14.534, 14.390999999999998, 14.639000000000001, 14.218, 14.181, 13.894, 14.027999999999999, 14.162, 14.136, 14.190999999999999, 14.102, 13.894, 13.561, 13.957, 13.984000000000002, 13.937999999999999, 14.199000000000002, 14.282, 13.975, 14.027999999999999, 13.931, 14.092, 14.102, 14.647, 14.703, 14.425, 14.360999999999999, 14.380999999999998, 14.272, 14.720999999999998, 14.350999999999999, 14.199000000000002, 14.360999999999999, 14.227, 14.297, 14.637, 14.7, 14.683, 14.171, 14.522, 13.463, 14.522, 15.407, 15.73, 15.883, 15.787, 15.75, 15.74, 15.797, 16.002, 16.02, 16.062, 16.054000000000002, 16.070999999999998, 15.948, 16.054000000000002, 16.163, 16.314, 16.09, 15.948, 15.83, 16.314, 16.484, 16.163, 16.233, 16.269000000000002, 16.1, 16.054000000000002, 15.713, 15.177, 15.22, 15.058, 14.818, 14.718, 15.15, 15.04, 15.384, 15.464, 15.309000000000001, 15.355, 15.67, 15.75, 15.713, 15.74, 15.561, 15.493, 15.552999999999999, 15.769, 15.652999999999999, 15.535, 15.642999999999999, 15.805, 15.585999999999999, 15.283, 15.474, 15.275, 15.124, 15.05, 14.765, 14.818, 14.89, 14.944, 14.800999999999998, 14.952, 14.944, 14.935, 14.997, 14.818, 14.577, 14.765, 14.774000000000001, 14.693, 14.710999999999999, 14.700999999999999, 14.585999999999999, 14.505, 14.619000000000002, 14.674000000000001, 14.425, 14.299000000000001, 14.299000000000001, 13.940999999999999, 13.924000000000001, 13.969000000000001, 14.04, 14.05, 13.897, 13.940999999999999, 13.96, 14.04, 13.978, 14.030999999999999, 14.193, 14.095, 14.020999999999999, 13.969000000000001, 13.87, 13.889000000000001, 13.754000000000001, 13.790999999999999, 13.783, 13.853, 13.783, 13.834000000000001, 13.754000000000001, 13.969000000000001, 14.059000000000001, 14.129000000000001, 14.020999999999999, 14.265999999999998, 14.308, 14.362, 14.399000000000001, 14.372, 14.343, 14.228, 14.333, 14.585999999999999, 14.665, 14.228, 14.265999999999998, 14.273, 14.069, 14.06, 14.628, 14.585, 14.495, 14.542, 14.382, 14.442, 14.745, 14.727, 14.897, 14.618, 14.550999999999998, 14.754000000000001, 14.569, 14.522, 14.238, 14.069, 13.907, 13.604000000000001, 13.569, 13.640999999999998, 14.005, 13.855, 14.005, 14.290999999999999, 13.855, 13.613, 13.89, 13.508, 13.89, 14.257, 14.987, 15.165, 15.488, 15.289000000000001, 15.270999999999999, 15.520999999999999, 15.85, 16.029], \"showlegend\": false, \"type\": \"candlestick\", \"x\": [\"2015-12-31\", \"2015-12-30\", \"2015-12-29\", \"2015-12-28\", \"2015-12-24\", \"2015-12-23\", \"2015-12-22\", \"2015-12-21\", \"2015-12-18\", \"2015-12-17\", \"2015-12-16\", \"2015-12-15\", \"2015-12-14\", \"2015-12-11\", \"2015-12-10\", \"2015-12-09\", \"2015-12-08\", \"2015-12-07\", \"2015-12-04\", \"2015-12-03\", \"2015-12-02\", \"2015-12-01\", \"2015-11-30\", \"2015-11-27\", \"2015-11-25\", \"2015-11-24\", \"2015-11-23\", \"2015-11-20\", \"2015-11-19\", \"2015-11-18\", \"2015-11-17\", \"2015-11-16\", \"2015-11-13\", \"2015-11-12\", \"2015-11-11\", \"2015-11-10\", \"2015-11-09\", \"2015-11-06\", \"2015-11-05\", \"2015-11-04\", \"2015-11-03\", \"2015-11-02\", \"2015-10-30\", \"2015-10-29\", \"2015-10-28\", \"2015-10-27\", \"2015-10-26\", \"2015-10-23\", \"2015-10-22\", \"2015-10-21\", \"2015-10-20\", \"2015-10-19\", \"2015-10-16\", \"2015-10-15\", \"2015-10-14\", \"2015-10-13\", \"2015-10-12\", \"2015-10-09\", \"2015-10-08\", \"2015-10-07\", \"2015-10-06\", \"2015-10-05\", \"2015-10-02\", \"2015-10-01\", \"2015-09-30\", \"2015-09-29\", \"2015-09-28\", \"2015-09-25\", \"2015-09-24\", \"2015-09-23\", \"2015-09-22\", \"2015-09-21\", \"2015-09-18\", \"2015-09-17\", \"2015-09-16\", \"2015-09-15\", \"2015-09-14\", \"2015-09-11\", \"2015-09-10\", \"2015-09-09\", \"2015-09-08\", \"2015-09-04\", \"2015-09-03\", \"2015-09-02\", \"2015-09-01\", \"2015-08-31\", \"2015-08-28\", \"2015-08-27\", \"2015-08-26\", \"2015-08-25\", \"2015-08-24\", \"2015-08-21\", \"2015-08-20\", \"2015-08-19\", \"2015-08-18\", \"2015-08-17\", \"2015-08-14\", \"2015-08-13\", \"2015-08-12\", \"2015-08-11\", \"2015-08-10\", \"2015-08-07\", \"2015-08-06\", \"2015-08-05\", \"2015-08-04\", \"2015-08-03\", \"2015-07-31\", \"2015-07-30\", \"2015-07-29\", \"2015-07-28\", \"2015-07-27\", \"2015-07-24\", \"2015-07-23\", \"2015-07-22\", \"2015-07-21\", \"2015-07-20\", \"2015-07-17\", \"2015-07-16\", \"2015-07-15\", \"2015-07-14\", \"2015-07-13\", \"2015-07-10\", \"2015-07-09\", \"2015-07-08\", \"2015-07-07\", \"2015-07-06\", \"2015-07-02\", \"2015-07-01\", \"2015-06-30\", \"2015-06-29\", \"2015-06-26\", \"2015-06-25\", \"2015-06-24\", \"2015-06-23\", \"2015-06-22\", \"2015-06-19\", \"2015-06-18\", \"2015-06-17\", \"2015-06-16\", \"2015-06-15\", \"2015-06-12\", \"2015-06-11\", \"2015-06-10\", \"2015-06-09\", \"2015-06-08\", \"2015-06-05\", \"2015-06-04\", \"2015-06-03\", \"2015-06-02\", \"2015-06-01\", \"2015-05-29\", \"2015-05-28\", \"2015-05-27\", \"2015-05-26\", \"2015-05-22\", \"2015-05-21\", \"2015-05-20\", \"2015-05-19\", \"2015-05-18\", \"2015-05-15\", \"2015-05-14\", \"2015-05-13\", \"2015-05-12\", \"2015-05-11\", \"2015-05-08\", \"2015-05-07\", \"2015-05-06\", \"2015-05-05\", \"2015-05-04\", \"2015-05-01\", \"2015-04-30\", \"2015-04-29\", \"2015-04-28\", \"2015-04-27\", \"2015-04-24\", \"2015-04-23\", \"2015-04-22\", \"2015-04-21\", \"2015-04-20\", \"2015-04-17\", \"2015-04-16\", \"2015-04-15\", \"2015-04-14\", \"2015-04-13\", \"2015-04-10\", \"2015-04-09\", \"2015-04-08\", \"2015-04-07\", \"2015-04-06\", \"2015-04-02\", \"2015-04-01\", \"2015-03-31\", \"2015-03-30\", \"2015-03-27\", \"2015-03-26\", \"2015-03-25\", \"2015-03-24\", \"2015-03-23\", \"2015-03-20\", \"2015-03-19\", \"2015-03-18\", \"2015-03-17\", \"2015-03-16\", \"2015-03-13\", \"2015-03-12\", \"2015-03-11\", \"2015-03-10\", \"2015-03-09\", \"2015-03-06\", \"2015-03-05\", \"2015-03-04\", \"2015-03-03\", \"2015-03-02\", \"2015-02-27\", \"2015-02-26\", \"2015-02-25\", \"2015-02-24\", \"2015-02-23\", \"2015-02-20\", \"2015-02-19\", \"2015-02-18\", \"2015-02-17\", \"2015-02-13\", \"2015-02-12\", \"2015-02-11\", \"2015-02-10\", \"2015-02-09\", \"2015-02-06\", \"2015-02-05\", \"2015-02-04\", \"2015-02-03\", \"2015-02-02\", \"2015-01-30\", \"2015-01-29\", \"2015-01-28\", \"2015-01-27\", \"2015-01-26\", \"2015-01-23\", \"2015-01-22\", \"2015-01-21\", \"2015-01-20\", \"2015-01-16\", \"2015-01-15\", \"2015-01-14\", \"2015-01-13\", \"2015-01-12\", \"2015-01-09\", \"2015-01-08\", \"2015-01-07\", \"2015-01-06\", \"2015-01-05\", \"2015-01-02\"], \"yaxis\": \"y2\"}],                        {\"legend\": {\"bgcolor\": \"#F5F6F9\", \"font\": {\"color\": \"#4D5663\"}}, \"paper_bgcolor\": \"#F5F6F9\", \"plot_bgcolor\": \"#F5F6F9\", \"template\": {\"data\": {\"bar\": [{\"error_x\": {\"color\": \"#2a3f5f\"}, \"error_y\": {\"color\": \"#2a3f5f\"}, \"marker\": {\"line\": {\"color\": \"#E5ECF6\", \"width\": 0.5}}, \"type\": \"bar\"}], \"barpolar\": [{\"marker\": {\"line\": {\"color\": \"#E5ECF6\", \"width\": 0.5}}, \"type\": \"barpolar\"}], \"carpet\": [{\"aaxis\": {\"endlinecolor\": \"#2a3f5f\", \"gridcolor\": \"white\", \"linecolor\": \"white\", \"minorgridcolor\": \"white\", \"startlinecolor\": \"#2a3f5f\"}, \"baxis\": {\"endlinecolor\": \"#2a3f5f\", \"gridcolor\": \"white\", \"linecolor\": \"white\", \"minorgridcolor\": \"white\", \"startlinecolor\": \"#2a3f5f\"}, \"type\": \"carpet\"}], \"choropleth\": [{\"colorbar\": {\"outlinewidth\": 0, \"ticks\": \"\"}, \"type\": \"choropleth\"}], \"contour\": [{\"colorbar\": {\"outlinewidth\": 0, \"ticks\": \"\"}, \"colorscale\": [[0.0, \"#0d0887\"], [0.1111111111111111, \"#46039f\"], [0.2222222222222222, \"#7201a8\"], [0.3333333333333333, \"#9c179e\"], [0.4444444444444444, \"#bd3786\"], [0.5555555555555556, \"#d8576b\"], [0.6666666666666666, \"#ed7953\"], [0.7777777777777778, \"#fb9f3a\"], [0.8888888888888888, \"#fdca26\"], [1.0, \"#f0f921\"]], \"type\": \"contour\"}], \"contourcarpet\": [{\"colorbar\": {\"outlinewidth\": 0, \"ticks\": \"\"}, \"type\": \"contourcarpet\"}], \"heatmap\": [{\"colorbar\": {\"outlinewidth\": 0, \"ticks\": \"\"}, \"colorscale\": [[0.0, \"#0d0887\"], [0.1111111111111111, \"#46039f\"], [0.2222222222222222, \"#7201a8\"], [0.3333333333333333, \"#9c179e\"], [0.4444444444444444, \"#bd3786\"], [0.5555555555555556, \"#d8576b\"], [0.6666666666666666, \"#ed7953\"], [0.7777777777777778, \"#fb9f3a\"], [0.8888888888888888, \"#fdca26\"], [1.0, \"#f0f921\"]], \"type\": \"heatmap\"}], \"heatmapgl\": [{\"colorbar\": {\"outlinewidth\": 0, \"ticks\": \"\"}, \"colorscale\": [[0.0, \"#0d0887\"], [0.1111111111111111, \"#46039f\"], [0.2222222222222222, \"#7201a8\"], [0.3333333333333333, \"#9c179e\"], [0.4444444444444444, \"#bd3786\"], [0.5555555555555556, \"#d8576b\"], [0.6666666666666666, \"#ed7953\"], [0.7777777777777778, \"#fb9f3a\"], [0.8888888888888888, \"#fdca26\"], [1.0, \"#f0f921\"]], \"type\": \"heatmapgl\"}], \"histogram\": [{\"marker\": {\"colorbar\": {\"outlinewidth\": 0, \"ticks\": \"\"}}, \"type\": \"histogram\"}], \"histogram2d\": [{\"colorbar\": {\"outlinewidth\": 0, \"ticks\": \"\"}, \"colorscale\": [[0.0, \"#0d0887\"], [0.1111111111111111, \"#46039f\"], [0.2222222222222222, \"#7201a8\"], [0.3333333333333333, \"#9c179e\"], [0.4444444444444444, \"#bd3786\"], [0.5555555555555556, \"#d8576b\"], [0.6666666666666666, \"#ed7953\"], [0.7777777777777778, \"#fb9f3a\"], [0.8888888888888888, \"#fdca26\"], [1.0, \"#f0f921\"]], \"type\": \"histogram2d\"}], \"histogram2dcontour\": [{\"colorbar\": {\"outlinewidth\": 0, \"ticks\": \"\"}, \"colorscale\": [[0.0, \"#0d0887\"], [0.1111111111111111, \"#46039f\"], [0.2222222222222222, \"#7201a8\"], [0.3333333333333333, \"#9c179e\"], [0.4444444444444444, \"#bd3786\"], [0.5555555555555556, \"#d8576b\"], [0.6666666666666666, \"#ed7953\"], [0.7777777777777778, \"#fb9f3a\"], [0.8888888888888888, \"#fdca26\"], [1.0, \"#f0f921\"]], \"type\": \"histogram2dcontour\"}], \"mesh3d\": [{\"colorbar\": {\"outlinewidth\": 0, \"ticks\": \"\"}, \"type\": \"mesh3d\"}], \"parcoords\": [{\"line\": {\"colorbar\": {\"outlinewidth\": 0, \"ticks\": \"\"}}, \"type\": \"parcoords\"}], \"pie\": [{\"automargin\": true, \"type\": \"pie\"}], \"scatter\": [{\"marker\": {\"colorbar\": {\"outlinewidth\": 0, \"ticks\": \"\"}}, \"type\": \"scatter\"}], \"scatter3d\": [{\"line\": {\"colorbar\": {\"outlinewidth\": 0, \"ticks\": \"\"}}, \"marker\": {\"colorbar\": {\"outlinewidth\": 0, \"ticks\": \"\"}}, \"type\": \"scatter3d\"}], \"scattercarpet\": [{\"marker\": {\"colorbar\": {\"outlinewidth\": 0, \"ticks\": \"\"}}, \"type\": \"scattercarpet\"}], \"scattergeo\": [{\"marker\": {\"colorbar\": {\"outlinewidth\": 0, \"ticks\": \"\"}}, \"type\": \"scattergeo\"}], \"scattergl\": [{\"marker\": {\"colorbar\": {\"outlinewidth\": 0, \"ticks\": \"\"}}, \"type\": \"scattergl\"}], \"scattermapbox\": [{\"marker\": {\"colorbar\": {\"outlinewidth\": 0, \"ticks\": \"\"}}, \"type\": \"scattermapbox\"}], \"scatterpolar\": [{\"marker\": {\"colorbar\": {\"outlinewidth\": 0, \"ticks\": \"\"}}, \"type\": \"scatterpolar\"}], \"scatterpolargl\": [{\"marker\": {\"colorbar\": {\"outlinewidth\": 0, \"ticks\": \"\"}}, \"type\": \"scatterpolargl\"}], \"scatterternary\": [{\"marker\": {\"colorbar\": {\"outlinewidth\": 0, \"ticks\": \"\"}}, \"type\": \"scatterternary\"}], \"surface\": [{\"colorbar\": {\"outlinewidth\": 0, \"ticks\": \"\"}, \"colorscale\": [[0.0, \"#0d0887\"], [0.1111111111111111, \"#46039f\"], [0.2222222222222222, \"#7201a8\"], [0.3333333333333333, \"#9c179e\"], [0.4444444444444444, \"#bd3786\"], [0.5555555555555556, \"#d8576b\"], [0.6666666666666666, \"#ed7953\"], [0.7777777777777778, \"#fb9f3a\"], [0.8888888888888888, \"#fdca26\"], [1.0, \"#f0f921\"]], \"type\": \"surface\"}], \"table\": [{\"cells\": {\"fill\": {\"color\": \"#EBF0F8\"}, \"line\": {\"color\": \"white\"}}, \"header\": {\"fill\": {\"color\": \"#C8D4E3\"}, \"line\": {\"color\": \"white\"}}, \"type\": \"table\"}]}, \"layout\": {\"annotationdefaults\": {\"arrowcolor\": \"#2a3f5f\", \"arrowhead\": 0, \"arrowwidth\": 1}, \"autotypenumbers\": \"strict\", \"coloraxis\": {\"colorbar\": {\"outlinewidth\": 0, \"ticks\": \"\"}}, \"colorscale\": {\"diverging\": [[0, \"#8e0152\"], [0.1, \"#c51b7d\"], [0.2, \"#de77ae\"], [0.3, \"#f1b6da\"], [0.4, \"#fde0ef\"], [0.5, \"#f7f7f7\"], [0.6, \"#e6f5d0\"], [0.7, \"#b8e186\"], [0.8, \"#7fbc41\"], [0.9, \"#4d9221\"], [1, \"#276419\"]], \"sequential\": [[0.0, \"#0d0887\"], [0.1111111111111111, \"#46039f\"], [0.2222222222222222, \"#7201a8\"], [0.3333333333333333, \"#9c179e\"], [0.4444444444444444, \"#bd3786\"], [0.5555555555555556, \"#d8576b\"], [0.6666666666666666, \"#ed7953\"], [0.7777777777777778, \"#fb9f3a\"], [0.8888888888888888, \"#fdca26\"], [1.0, \"#f0f921\"]], \"sequentialminus\": [[0.0, \"#0d0887\"], [0.1111111111111111, \"#46039f\"], [0.2222222222222222, \"#7201a8\"], [0.3333333333333333, \"#9c179e\"], [0.4444444444444444, \"#bd3786\"], [0.5555555555555556, \"#d8576b\"], [0.6666666666666666, \"#ed7953\"], [0.7777777777777778, \"#fb9f3a\"], [0.8888888888888888, \"#fdca26\"], [1.0, \"#f0f921\"]]}, \"colorway\": [\"#636efa\", \"#EF553B\", \"#00cc96\", \"#ab63fa\", \"#FFA15A\", \"#19d3f3\", \"#FF6692\", \"#B6E880\", \"#FF97FF\", \"#FECB52\"], \"font\": {\"color\": \"#2a3f5f\"}, \"geo\": {\"bgcolor\": \"white\", \"lakecolor\": \"white\", \"landcolor\": \"#E5ECF6\", \"showlakes\": true, \"showland\": true, \"subunitcolor\": \"white\"}, \"hoverlabel\": {\"align\": \"left\"}, \"hovermode\": \"closest\", \"mapbox\": {\"style\": \"light\"}, \"paper_bgcolor\": \"white\", \"plot_bgcolor\": \"#E5ECF6\", \"polar\": {\"angularaxis\": {\"gridcolor\": \"white\", \"linecolor\": \"white\", \"ticks\": \"\"}, \"bgcolor\": \"#E5ECF6\", \"radialaxis\": {\"gridcolor\": \"white\", \"linecolor\": \"white\", \"ticks\": \"\"}}, \"scene\": {\"xaxis\": {\"backgroundcolor\": \"#E5ECF6\", \"gridcolor\": \"white\", \"gridwidth\": 2, \"linecolor\": \"white\", \"showbackground\": true, \"ticks\": \"\", \"zerolinecolor\": \"white\"}, \"yaxis\": {\"backgroundcolor\": \"#E5ECF6\", \"gridcolor\": \"white\", \"gridwidth\": 2, \"linecolor\": \"white\", \"showbackground\": true, \"ticks\": \"\", \"zerolinecolor\": \"white\"}, \"zaxis\": {\"backgroundcolor\": \"#E5ECF6\", \"gridcolor\": \"white\", \"gridwidth\": 2, \"linecolor\": \"white\", \"showbackground\": true, \"ticks\": \"\", \"zerolinecolor\": \"white\"}}, \"shapedefaults\": {\"line\": {\"color\": \"#2a3f5f\"}}, \"ternary\": {\"aaxis\": {\"gridcolor\": \"white\", \"linecolor\": \"white\", \"ticks\": \"\"}, \"baxis\": {\"gridcolor\": \"white\", \"linecolor\": \"white\", \"ticks\": \"\"}, \"bgcolor\": \"#E5ECF6\", \"caxis\": {\"gridcolor\": \"white\", \"linecolor\": \"white\", \"ticks\": \"\"}}, \"title\": {\"x\": 0.05}, \"xaxis\": {\"automargin\": true, \"gridcolor\": \"white\", \"linecolor\": \"white\", \"ticks\": \"\", \"title\": {\"standoff\": 15}, \"zerolinecolor\": \"white\", \"zerolinewidth\": 2}, \"yaxis\": {\"automargin\": true, \"gridcolor\": \"white\", \"linecolor\": \"white\", \"ticks\": \"\", \"title\": {\"standoff\": 15}, \"zerolinecolor\": \"white\", \"zerolinewidth\": 2}}}, \"title\": {\"font\": {\"color\": \"#4D5663\"}}, \"xaxis\": {\"gridcolor\": \"#E1E5ED\", \"rangeslider\": {\"visible\": false}, \"showgrid\": true, \"tickfont\": {\"color\": \"#4D5663\"}, \"title\": {\"font\": {\"color\": \"#4D5663\"}, \"text\": \"\"}, \"zerolinecolor\": \"#E1E5ED\"}, \"yaxis\": {\"gridcolor\": \"#E1E5ED\", \"showgrid\": true, \"showticklabels\": false, \"tickfont\": {\"color\": \"#4D5663\"}, \"title\": {\"font\": {\"color\": \"#4D5663\"}, \"text\": \"\"}, \"zerolinecolor\": \"#E1E5ED\"}, \"yaxis2\": {\"gridcolor\": \"#E1E5ED\", \"showgrid\": true, \"tickfont\": {\"color\": \"#4D5663\"}, \"title\": {\"font\": {\"color\": \"#4D5663\"}, \"text\": \"\"}, \"zerolinecolor\": \"#E1E5ED\"}},                        {\"showLink\": true, \"linkText\": \"Export to plot.ly\", \"plotlyServerURL\": \"https://plot.ly\", \"responsive\": true}                    ).then(function(){\n",
       "                            \n",
       "var gd = document.getElementById('0946a771-474c-4108-8811-dcdcc69a539b');\n",
       "var x = new MutationObserver(function (mutations, observer) {{\n",
       "        var display = window.getComputedStyle(gd).display;\n",
       "        if (!display || display === 'none') {{\n",
       "            console.log([gd, 'removed!']);\n",
       "            Plotly.purge(gd);\n",
       "            observer.disconnect();\n",
       "        }}\n",
       "}});\n",
       "\n",
       "// Listen for the removal of the full notebook cells\n",
       "var notebookContainer = gd.closest('#notebook-container');\n",
       "if (notebookContainer) {{\n",
       "    x.observe(notebookContainer, {childList: true});\n",
       "}}\n",
       "\n",
       "// Listen for the clearing of the current output cell\n",
       "var outputEl = gd.closest('.output');\n",
       "if (outputEl) {{\n",
       "    x.observe(outputEl, {childList: true});\n",
       "}}\n",
       "\n",
       "                        })                };                });            </script>        </div>"
      ]
     },
     "metadata": {},
     "output_type": "display_data"
    }
   ],
   "source": [
    "BAC[['Open', 'High', 'Low', 'Close']].loc['2016-01-01':'2015-01-01'].iplot(kind='candle')\n"
   ]
  },
  {
   "cell_type": "markdown",
   "metadata": {},
   "source": [
    "** Use .ta_plot(study='sma') to create a Simple Moving Averages plot of Morgan Stanley for the year 2015.**"
   ]
  },
  {
   "cell_type": "code",
   "execution_count": 30,
   "metadata": {},
   "outputs": [
    {
     "data": {
      "application/vnd.plotly.v1+json": {
       "config": {
        "linkText": "Export to plot.ly",
        "plotlyServerURL": "https://plot.ly",
        "showLink": true
       },
       "data": [
        {
         "line": {
          "color": "rgba(255, 153, 51, 1.0)",
          "dash": "solid",
          "shape": "linear",
          "width": 1.3
         },
         "mode": "lines",
         "name": "Close",
         "text": "",
         "type": "scatter",
         "x": [
          "2015-12-31",
          "2015-12-30",
          "2015-12-29",
          "2015-12-28",
          "2015-12-24",
          "2015-12-23",
          "2015-12-22",
          "2015-12-21",
          "2015-12-18",
          "2015-12-17",
          "2015-12-16",
          "2015-12-15",
          "2015-12-14",
          "2015-12-11",
          "2015-12-10",
          "2015-12-09",
          "2015-12-08",
          "2015-12-07",
          "2015-12-04",
          "2015-12-03",
          "2015-12-02",
          "2015-12-01",
          "2015-11-30",
          "2015-11-27",
          "2015-11-25",
          "2015-11-24",
          "2015-11-23",
          "2015-11-20",
          "2015-11-19",
          "2015-11-18",
          "2015-11-17",
          "2015-11-16",
          "2015-11-13",
          "2015-11-12",
          "2015-11-11",
          "2015-11-10",
          "2015-11-09",
          "2015-11-06",
          "2015-11-05",
          "2015-11-04",
          "2015-11-03",
          "2015-11-02",
          "2015-10-30",
          "2015-10-29",
          "2015-10-28",
          "2015-10-27",
          "2015-10-26",
          "2015-10-23",
          "2015-10-22",
          "2015-10-21",
          "2015-10-20",
          "2015-10-19",
          "2015-10-16",
          "2015-10-15",
          "2015-10-14",
          "2015-10-13",
          "2015-10-12",
          "2015-10-09",
          "2015-10-08",
          "2015-10-07",
          "2015-10-06",
          "2015-10-05",
          "2015-10-02",
          "2015-10-01",
          "2015-09-30",
          "2015-09-29",
          "2015-09-28",
          "2015-09-25",
          "2015-09-24",
          "2015-09-23",
          "2015-09-22",
          "2015-09-21",
          "2015-09-18",
          "2015-09-17",
          "2015-09-16",
          "2015-09-15",
          "2015-09-14",
          "2015-09-11",
          "2015-09-10",
          "2015-09-09",
          "2015-09-08",
          "2015-09-04",
          "2015-09-03",
          "2015-09-02",
          "2015-09-01",
          "2015-08-31",
          "2015-08-28",
          "2015-08-27",
          "2015-08-26",
          "2015-08-25",
          "2015-08-24",
          "2015-08-21",
          "2015-08-20",
          "2015-08-19",
          "2015-08-18",
          "2015-08-17",
          "2015-08-14",
          "2015-08-13",
          "2015-08-12",
          "2015-08-11",
          "2015-08-10",
          "2015-08-07",
          "2015-08-06",
          "2015-08-05",
          "2015-08-04",
          "2015-08-03",
          "2015-07-31",
          "2015-07-30",
          "2015-07-29",
          "2015-07-28",
          "2015-07-27",
          "2015-07-24",
          "2015-07-23",
          "2015-07-22",
          "2015-07-21",
          "2015-07-20",
          "2015-07-17",
          "2015-07-16",
          "2015-07-15",
          "2015-07-14",
          "2015-07-13",
          "2015-07-10",
          "2015-07-09",
          "2015-07-08",
          "2015-07-07",
          "2015-07-06",
          "2015-07-02",
          "2015-07-01",
          "2015-06-30",
          "2015-06-29",
          "2015-06-26",
          "2015-06-25",
          "2015-06-24",
          "2015-06-23",
          "2015-06-22",
          "2015-06-19",
          "2015-06-18",
          "2015-06-17",
          "2015-06-16",
          "2015-06-15",
          "2015-06-12",
          "2015-06-11",
          "2015-06-10",
          "2015-06-09",
          "2015-06-08",
          "2015-06-05",
          "2015-06-04",
          "2015-06-03",
          "2015-06-02",
          "2015-06-01",
          "2015-05-29",
          "2015-05-28",
          "2015-05-27",
          "2015-05-26",
          "2015-05-22",
          "2015-05-21",
          "2015-05-20",
          "2015-05-19",
          "2015-05-18",
          "2015-05-15",
          "2015-05-14",
          "2015-05-13",
          "2015-05-12",
          "2015-05-11",
          "2015-05-08",
          "2015-05-07",
          "2015-05-06",
          "2015-05-05",
          "2015-05-04",
          "2015-05-01",
          "2015-04-30",
          "2015-04-29",
          "2015-04-28",
          "2015-04-27",
          "2015-04-24",
          "2015-04-23",
          "2015-04-22",
          "2015-04-21",
          "2015-04-20",
          "2015-04-17",
          "2015-04-16",
          "2015-04-15",
          "2015-04-14",
          "2015-04-13",
          "2015-04-10",
          "2015-04-09",
          "2015-04-08",
          "2015-04-07",
          "2015-04-06",
          "2015-04-02",
          "2015-04-01",
          "2015-03-31",
          "2015-03-30",
          "2015-03-27",
          "2015-03-26",
          "2015-03-25",
          "2015-03-24",
          "2015-03-23",
          "2015-03-20",
          "2015-03-19",
          "2015-03-18",
          "2015-03-17",
          "2015-03-16",
          "2015-03-13",
          "2015-03-12",
          "2015-03-11",
          "2015-03-10",
          "2015-03-09",
          "2015-03-06",
          "2015-03-05",
          "2015-03-04",
          "2015-03-03",
          "2015-03-02",
          "2015-02-27",
          "2015-02-26",
          "2015-02-25",
          "2015-02-24",
          "2015-02-23",
          "2015-02-20",
          "2015-02-19",
          "2015-02-18",
          "2015-02-17",
          "2015-02-13",
          "2015-02-12",
          "2015-02-11",
          "2015-02-10",
          "2015-02-09",
          "2015-02-06",
          "2015-02-05",
          "2015-02-04",
          "2015-02-03",
          "2015-02-02",
          "2015-01-30",
          "2015-01-29",
          "2015-01-28",
          "2015-01-27",
          "2015-01-26",
          "2015-01-23",
          "2015-01-22",
          "2015-01-21",
          "2015-01-20",
          "2015-01-16",
          "2015-01-15",
          "2015-01-14",
          "2015-01-13",
          "2015-01-12",
          "2015-01-09",
          "2015-01-08",
          "2015-01-07",
          "2015-01-06",
          "2015-01-05",
          "2015-01-02"
         ],
         "y": [
          27.967,
          28.336,
          28.616,
          28.281999999999996,
          28.555999999999997,
          28.66,
          28.328000000000003,
          27.851999999999997,
          27.511,
          28.467,
          29.552,
          28.873,
          28.026,
          28.203000000000003,
          29.383000000000003,
          29.337,
          29.947,
          30.489,
          31.05,
          30.287,
          30.673000000000002,
          31.009,
          30.153000000000002,
          29.698,
          29.552,
          29.533,
          29.574,
          29.814,
          30.041,
          30.112,
          29.533,
          29.938000000000002,
          29.83,
          30.095,
          30.79,
          30.982,
          30.866,
          31.131999999999998,
          29.789,
          29.365,
          29.266,
          29.436999999999998,
          28.987,
          29.485,
          29.401999999999997,
          28.203000000000003,
          28.484,
          28.544,
          28.308000000000003,
          27.546999999999997,
          28.22,
          28.281999999999996,
          29.706,
          29.413,
          28.475,
          28.535,
          28.701999999999998,
          28.633000000000003,
          28.869,
          28.814,
          28.316999999999997,
          28.256,
          27.505,
          27.565,
          27.565,
          27.136,
          27.206,
          28.168000000000003,
          27.978,
          28.281999999999996,
          28.388,
          29.177,
          28.905,
          29.801,
          30.293000000000003,
          30.26,
          29.586,
          29.743000000000002,
          29.639,
          29.535999999999998,
          29.989,
          29.046,
          29.576999999999998,
          29.566999999999997,
          28.983,
          30.145,
          29.801,
          30.013,
          29.141,
          27.791999999999998,
          28.23,
          29.939,
          31.651,
          32.765,
          33.095,
          33.378,
          33.296,
          33.033,
          32.876,
          33.185,
          34.196999999999996,
          33.758,
          34.067,
          34.128,
          34.058,
          33.919000000000004,
          33.988,
          34.389,
          34.38,
          34.215,
          34.215,
          34.519,
          34.817,
          35.339,
          34.939,
          34.904,
          35.043,
          34.79,
          34.608000000000004,
          34.616,
          34.278,
          33.684,
          33.213,
          32.945,
          33.667,
          33.866,
          33.996,
          34.312,
          33.815,
          33.395,
          34.434,
          34.189,
          34.556999999999995,
          35.053000000000004,
          34.738,
          34.32,
          34.688,
          34.501999999999995,
          34.641,
          34.46,
          34.527,
          34.757,
          34.772,
          34.111,
          34.076,
          34.249,
          33.736,
          34.005,
          33.578,
          33.63,
          33.299,
          33.76,
          33.667,
          32.945,
          33.272,
          33.161,
          33.411,
          33.727,
          33.411,
          32.997,
          33.246,
          32.937,
          32.881,
          33.347,
          33.028,
          32.724000000000004,
          32.295,
          32.644,
          33.045,
          32.698,
          32.524,
          32.681,
          32.295,
          32.167,
          32.433,
          32.451,
          32.294000000000004,
          31.905,
          32.086999999999996,
          31.905,
          32.433,
          32.461,
          31.986,
          31.513,
          31.464000000000002,
          31.811999999999998,
          31.480999999999998,
          31.203000000000003,
          31.176,
          31.307,
          31.228,
          30.986,
          31.523000000000003,
          31.109,
          30.926,
          30.778000000000002,
          31.464000000000002,
          31.523000000000003,
          31.688000000000002,
          31.35,
          31.888,
          31.735,
          31.888,
          31.744,
          31.706,
          30.345,
          30.281999999999996,
          30.97,
          30.846,
          30.837,
          30.464000000000002,
          31.101,
          31.464000000000002,
          31.073,
          31.307,
          31.768,
          31.897,
          31.489,
          31.897,
          31.541,
          31.579,
          32.054,
          31.932,
          32.037,
          31.579,
          31.395,
          30.933000000000003,
          31.073,
          30.326999999999998,
          30.188000000000002,
          30.421999999999997,
          29.881,
          29.354,
          29.84,
          29.316999999999997,
          30.003,
          30.396,
          30.43,
          30.758000000000003,
          30.066,
          30.084,
          30.205,
          29.938000000000002,
          30.48,
          31.191,
          31.485,
          31.926,
          32.453,
          31.979,
          31.528000000000002,
          32.463,
          33.512
         ]
        },
        {
         "line": {
          "color": "rgba(55, 128, 191, 1.0)",
          "dash": "solid",
          "shape": "linear",
          "width": 1.3
         },
         "mode": "lines",
         "name": "SMA(14)",
         "text": "",
         "type": "scatter",
         "x": [
          "2015-12-31",
          "2015-12-30",
          "2015-12-29",
          "2015-12-28",
          "2015-12-24",
          "2015-12-23",
          "2015-12-22",
          "2015-12-21",
          "2015-12-18",
          "2015-12-17",
          "2015-12-16",
          "2015-12-15",
          "2015-12-14",
          "2015-12-11",
          "2015-12-10",
          "2015-12-09",
          "2015-12-08",
          "2015-12-07",
          "2015-12-04",
          "2015-12-03",
          "2015-12-02",
          "2015-12-01",
          "2015-11-30",
          "2015-11-27",
          "2015-11-25",
          "2015-11-24",
          "2015-11-23",
          "2015-11-20",
          "2015-11-19",
          "2015-11-18",
          "2015-11-17",
          "2015-11-16",
          "2015-11-13",
          "2015-11-12",
          "2015-11-11",
          "2015-11-10",
          "2015-11-09",
          "2015-11-06",
          "2015-11-05",
          "2015-11-04",
          "2015-11-03",
          "2015-11-02",
          "2015-10-30",
          "2015-10-29",
          "2015-10-28",
          "2015-10-27",
          "2015-10-26",
          "2015-10-23",
          "2015-10-22",
          "2015-10-21",
          "2015-10-20",
          "2015-10-19",
          "2015-10-16",
          "2015-10-15",
          "2015-10-14",
          "2015-10-13",
          "2015-10-12",
          "2015-10-09",
          "2015-10-08",
          "2015-10-07",
          "2015-10-06",
          "2015-10-05",
          "2015-10-02",
          "2015-10-01",
          "2015-09-30",
          "2015-09-29",
          "2015-09-28",
          "2015-09-25",
          "2015-09-24",
          "2015-09-23",
          "2015-09-22",
          "2015-09-21",
          "2015-09-18",
          "2015-09-17",
          "2015-09-16",
          "2015-09-15",
          "2015-09-14",
          "2015-09-11",
          "2015-09-10",
          "2015-09-09",
          "2015-09-08",
          "2015-09-04",
          "2015-09-03",
          "2015-09-02",
          "2015-09-01",
          "2015-08-31",
          "2015-08-28",
          "2015-08-27",
          "2015-08-26",
          "2015-08-25",
          "2015-08-24",
          "2015-08-21",
          "2015-08-20",
          "2015-08-19",
          "2015-08-18",
          "2015-08-17",
          "2015-08-14",
          "2015-08-13",
          "2015-08-12",
          "2015-08-11",
          "2015-08-10",
          "2015-08-07",
          "2015-08-06",
          "2015-08-05",
          "2015-08-04",
          "2015-08-03",
          "2015-07-31",
          "2015-07-30",
          "2015-07-29",
          "2015-07-28",
          "2015-07-27",
          "2015-07-24",
          "2015-07-23",
          "2015-07-22",
          "2015-07-21",
          "2015-07-20",
          "2015-07-17",
          "2015-07-16",
          "2015-07-15",
          "2015-07-14",
          "2015-07-13",
          "2015-07-10",
          "2015-07-09",
          "2015-07-08",
          "2015-07-07",
          "2015-07-06",
          "2015-07-02",
          "2015-07-01",
          "2015-06-30",
          "2015-06-29",
          "2015-06-26",
          "2015-06-25",
          "2015-06-24",
          "2015-06-23",
          "2015-06-22",
          "2015-06-19",
          "2015-06-18",
          "2015-06-17",
          "2015-06-16",
          "2015-06-15",
          "2015-06-12",
          "2015-06-11",
          "2015-06-10",
          "2015-06-09",
          "2015-06-08",
          "2015-06-05",
          "2015-06-04",
          "2015-06-03",
          "2015-06-02",
          "2015-06-01",
          "2015-05-29",
          "2015-05-28",
          "2015-05-27",
          "2015-05-26",
          "2015-05-22",
          "2015-05-21",
          "2015-05-20",
          "2015-05-19",
          "2015-05-18",
          "2015-05-15",
          "2015-05-14",
          "2015-05-13",
          "2015-05-12",
          "2015-05-11",
          "2015-05-08",
          "2015-05-07",
          "2015-05-06",
          "2015-05-05",
          "2015-05-04",
          "2015-05-01",
          "2015-04-30",
          "2015-04-29",
          "2015-04-28",
          "2015-04-27",
          "2015-04-24",
          "2015-04-23",
          "2015-04-22",
          "2015-04-21",
          "2015-04-20",
          "2015-04-17",
          "2015-04-16",
          "2015-04-15",
          "2015-04-14",
          "2015-04-13",
          "2015-04-10",
          "2015-04-09",
          "2015-04-08",
          "2015-04-07",
          "2015-04-06",
          "2015-04-02",
          "2015-04-01",
          "2015-03-31",
          "2015-03-30",
          "2015-03-27",
          "2015-03-26",
          "2015-03-25",
          "2015-03-24",
          "2015-03-23",
          "2015-03-20",
          "2015-03-19",
          "2015-03-18",
          "2015-03-17",
          "2015-03-16",
          "2015-03-13",
          "2015-03-12",
          "2015-03-11",
          "2015-03-10",
          "2015-03-09",
          "2015-03-06",
          "2015-03-05",
          "2015-03-04",
          "2015-03-03",
          "2015-03-02",
          "2015-02-27",
          "2015-02-26",
          "2015-02-25",
          "2015-02-24",
          "2015-02-23",
          "2015-02-20",
          "2015-02-19",
          "2015-02-18",
          "2015-02-17",
          "2015-02-13",
          "2015-02-12",
          "2015-02-11",
          "2015-02-10",
          "2015-02-09",
          "2015-02-06",
          "2015-02-05",
          "2015-02-04",
          "2015-02-03",
          "2015-02-02",
          "2015-01-30",
          "2015-01-29",
          "2015-01-28",
          "2015-01-27",
          "2015-01-26",
          "2015-01-23",
          "2015-01-22",
          "2015-01-21",
          "2015-01-20",
          "2015-01-16",
          "2015-01-15",
          "2015-01-14",
          "2015-01-13",
          "2015-01-12",
          "2015-01-09",
          "2015-01-08",
          "2015-01-07",
          "2015-01-06",
          "2015-01-05",
          "2015-01-02"
         ],
         "y": [
          "",
          "",
          "",
          "",
          "",
          "",
          "",
          "",
          "",
          "",
          "",
          "",
          "",
          28.373500000000003,
          28.47464285714286,
          28.546142857142858,
          28.641214285714288,
          28.798857142857145,
          28.977000000000004,
          29.093214285714286,
          29.260714285714283,
          29.486214285714286,
          29.674928571428573,
          29.762857142857143,
          29.762857142857143,
          29.810000000000002,
          29.92057142857143,
          30.035642857142857,
          30.08264285714286,
          30.138000000000005,
          30.10842857142858,
          30.069071428571437,
          29.981928571428575,
          29.968214285714293,
          29.97657142857144,
          29.974642857142864,
          30.025571428571432,
          30.128000000000007,
          30.144928571428576,
          30.132928571428575,
          30.110928571428577,
          30.084000000000003,
          30.00871428571429,
          29.963928571428575,
          29.95457142857143,
          29.83064285714286,
          29.7345,
          29.623714285714282,
          29.446428571428566,
          29.201071428571424,
          29.012071428571428,
          28.8085,
          28.80257142857143,
          28.806,
          28.7495,
          28.68507142857143,
          28.664714285714286,
          28.60385714285714,
          28.565785714285713,
          28.609428571428573,
          28.597500000000004,
          28.576928571428578,
          28.519571428571435,
          28.520857142857153,
          28.474071428571442,
          28.3922142857143,
          28.213642857142872,
          28.1247142857143,
          28.0892142857143,
          28.071142857142867,
          28.048714285714293,
          28.08757142857144,
          28.09014285714287,
          28.160642857142868,
          28.301785714285725,
          28.444928571428584,
          28.59357142857144,
          28.749142857142868,
          28.897285714285726,
          29.068714285714297,
          29.26750000000001,
          29.330214285714295,
          29.444428571428578,
          29.536214285714294,
          29.578714285714295,
          29.647857142857152,
          29.711857142857152,
          29.727000000000007,
          29.644714285714294,
          29.46842857142858,
          29.371571428571436,
          29.38557142857144,
          29.529285714285724,
          29.75992857142858,
          29.981785714285728,
          30.291214285714297,
          30.556857142857154,
          30.804428571428584,
          31.08250000000001,
          31.299642857142867,
          31.61364285714287,
          31.88114285714287,
          32.23300000000001,
          32.68557142857144,
          33.101857142857156,
          33.386142857142865,
          33.553071428571435,
          33.669071428571435,
          33.760857142857155,
          33.82064285714287,
          33.88628571428573,
          33.99242857142858,
          34.131071428571445,
          34.28492857142859,
          34.337928571428584,
          34.41978571428573,
          34.489500000000014,
          34.53678571428573,
          34.57607142857144,
          34.62585714285716,
          34.64657142857144,
          34.596214285714304,
          34.51285714285716,
          34.42214285714287,
          34.38300000000002,
          34.33635714285715,
          34.277714285714296,
          34.204357142857155,
          34.12407142857144,
          34.01628571428572,
          33.97278571428573,
          33.92985714285715,
          33.926214285714295,
          33.957428571428586,
          33.990285714285726,
          34.03571428571429,
          34.141071428571436,
          34.25228571428572,
          34.32185714285715,
          34.36428571428572,
          34.4022142857143,
          34.43400000000001,
          34.50235714285716,
          34.55350000000002,
          34.527928571428596,
          34.53221428571431,
          34.473571428571454,
          34.39871428571431,
          34.31585714285716,
          34.26657142857145,
          34.16735714285717,
          34.11435714285717,
          34.04478571428574,
          33.936571428571455,
          33.8469285714286,
          33.732928571428594,
          33.635714285714315,
          33.60828571428574,
          33.560785714285736,
          33.471357142857165,
          33.43635714285717,
          33.36007142857145,
          33.31028571428574,
          33.29007142857146,
          33.27071428571431,
          33.196714285714314,
          33.098714285714316,
          33.07721428571431,
          33.06100000000003,
          33.0279285714286,
          32.96457142857146,
          32.889857142857174,
          32.810142857142885,
          32.75085714285718,
          32.69278571428575,
          32.65807142857146,
          32.61614285714289,
          32.51314285714289,
          32.4459285714286,
          32.3874285714286,
          32.397285714285736,
          32.384214285714314,
          32.308571428571454,
          32.223928571428594,
          32.14821428571431,
          32.08614285714288,
          32.02800000000003,
          31.959142857142883,
          31.869357142857165,
          31.78764285714288,
          31.711500000000026,
          31.64585714285717,
          31.60557142857146,
          31.54871428571431,
          31.441071428571455,
          31.320857142857168,
          31.283571428571456,
          31.284285714285744,
          31.300285714285742,
          31.267285714285745,
          31.296357142857172,
          31.33435714285717,
          31.385214285714312,
          31.4164285714286,
          31.450571428571457,
          31.40478571428574,
          31.316142857142882,
          31.306214285714308,
          31.300500000000024,
          31.304714285714308,
          31.233285714285735,
          31.203142857142875,
          31.187142857142877,
          31.16735714285716,
          31.125857142857164,
          31.128214285714307,
          31.128857142857164,
          31.11064285714288,
          31.124285714285737,
          31.209714285714306,
          31.302357142857165,
          31.37978571428573,
          31.45735714285716,
          31.543071428571444,
          31.622714285714302,
          31.643714285714303,
          31.60578571428573,
          31.60578571428573,
          31.53578571428573,
          31.42292857142858,
          31.317571428571444,
          31.202714285714304,
          31.021071428571446,
          30.899571428571445,
          30.738000000000017,
          30.591500000000014,
          30.481785714285728,
          30.367000000000015,
          30.308357142857155,
          30.213428571428583,
          30.152785714285727,
          30.090785714285726,
          30.063000000000013,
          30.08385714285716,
          30.138785714285728,
          30.253357142857162,
          30.437071428571446,
          30.623714285714303,
          30.81385714285716,
          30.922785714285734,
          31.07042857142859,
          31.290571428571447
         ]
        }
       ],
       "layout": {
        "legend": {
         "bgcolor": "#F5F6F9",
         "font": {
          "color": "#4D5663"
         }
        },
        "paper_bgcolor": "#F5F6F9",
        "plot_bgcolor": "#F5F6F9",
        "template": {
         "data": {
          "bar": [
           {
            "error_x": {
             "color": "#2a3f5f"
            },
            "error_y": {
             "color": "#2a3f5f"
            },
            "marker": {
             "line": {
              "color": "#E5ECF6",
              "width": 0.5
             }
            },
            "type": "bar"
           }
          ],
          "barpolar": [
           {
            "marker": {
             "line": {
              "color": "#E5ECF6",
              "width": 0.5
             }
            },
            "type": "barpolar"
           }
          ],
          "carpet": [
           {
            "aaxis": {
             "endlinecolor": "#2a3f5f",
             "gridcolor": "white",
             "linecolor": "white",
             "minorgridcolor": "white",
             "startlinecolor": "#2a3f5f"
            },
            "baxis": {
             "endlinecolor": "#2a3f5f",
             "gridcolor": "white",
             "linecolor": "white",
             "minorgridcolor": "white",
             "startlinecolor": "#2a3f5f"
            },
            "type": "carpet"
           }
          ],
          "choropleth": [
           {
            "colorbar": {
             "outlinewidth": 0,
             "ticks": ""
            },
            "type": "choropleth"
           }
          ],
          "contour": [
           {
            "colorbar": {
             "outlinewidth": 0,
             "ticks": ""
            },
            "colorscale": [
             [
              0,
              "#0d0887"
             ],
             [
              0.1111111111111111,
              "#46039f"
             ],
             [
              0.2222222222222222,
              "#7201a8"
             ],
             [
              0.3333333333333333,
              "#9c179e"
             ],
             [
              0.4444444444444444,
              "#bd3786"
             ],
             [
              0.5555555555555556,
              "#d8576b"
             ],
             [
              0.6666666666666666,
              "#ed7953"
             ],
             [
              0.7777777777777778,
              "#fb9f3a"
             ],
             [
              0.8888888888888888,
              "#fdca26"
             ],
             [
              1,
              "#f0f921"
             ]
            ],
            "type": "contour"
           }
          ],
          "contourcarpet": [
           {
            "colorbar": {
             "outlinewidth": 0,
             "ticks": ""
            },
            "type": "contourcarpet"
           }
          ],
          "heatmap": [
           {
            "colorbar": {
             "outlinewidth": 0,
             "ticks": ""
            },
            "colorscale": [
             [
              0,
              "#0d0887"
             ],
             [
              0.1111111111111111,
              "#46039f"
             ],
             [
              0.2222222222222222,
              "#7201a8"
             ],
             [
              0.3333333333333333,
              "#9c179e"
             ],
             [
              0.4444444444444444,
              "#bd3786"
             ],
             [
              0.5555555555555556,
              "#d8576b"
             ],
             [
              0.6666666666666666,
              "#ed7953"
             ],
             [
              0.7777777777777778,
              "#fb9f3a"
             ],
             [
              0.8888888888888888,
              "#fdca26"
             ],
             [
              1,
              "#f0f921"
             ]
            ],
            "type": "heatmap"
           }
          ],
          "heatmapgl": [
           {
            "colorbar": {
             "outlinewidth": 0,
             "ticks": ""
            },
            "colorscale": [
             [
              0,
              "#0d0887"
             ],
             [
              0.1111111111111111,
              "#46039f"
             ],
             [
              0.2222222222222222,
              "#7201a8"
             ],
             [
              0.3333333333333333,
              "#9c179e"
             ],
             [
              0.4444444444444444,
              "#bd3786"
             ],
             [
              0.5555555555555556,
              "#d8576b"
             ],
             [
              0.6666666666666666,
              "#ed7953"
             ],
             [
              0.7777777777777778,
              "#fb9f3a"
             ],
             [
              0.8888888888888888,
              "#fdca26"
             ],
             [
              1,
              "#f0f921"
             ]
            ],
            "type": "heatmapgl"
           }
          ],
          "histogram": [
           {
            "marker": {
             "colorbar": {
              "outlinewidth": 0,
              "ticks": ""
             }
            },
            "type": "histogram"
           }
          ],
          "histogram2d": [
           {
            "colorbar": {
             "outlinewidth": 0,
             "ticks": ""
            },
            "colorscale": [
             [
              0,
              "#0d0887"
             ],
             [
              0.1111111111111111,
              "#46039f"
             ],
             [
              0.2222222222222222,
              "#7201a8"
             ],
             [
              0.3333333333333333,
              "#9c179e"
             ],
             [
              0.4444444444444444,
              "#bd3786"
             ],
             [
              0.5555555555555556,
              "#d8576b"
             ],
             [
              0.6666666666666666,
              "#ed7953"
             ],
             [
              0.7777777777777778,
              "#fb9f3a"
             ],
             [
              0.8888888888888888,
              "#fdca26"
             ],
             [
              1,
              "#f0f921"
             ]
            ],
            "type": "histogram2d"
           }
          ],
          "histogram2dcontour": [
           {
            "colorbar": {
             "outlinewidth": 0,
             "ticks": ""
            },
            "colorscale": [
             [
              0,
              "#0d0887"
             ],
             [
              0.1111111111111111,
              "#46039f"
             ],
             [
              0.2222222222222222,
              "#7201a8"
             ],
             [
              0.3333333333333333,
              "#9c179e"
             ],
             [
              0.4444444444444444,
              "#bd3786"
             ],
             [
              0.5555555555555556,
              "#d8576b"
             ],
             [
              0.6666666666666666,
              "#ed7953"
             ],
             [
              0.7777777777777778,
              "#fb9f3a"
             ],
             [
              0.8888888888888888,
              "#fdca26"
             ],
             [
              1,
              "#f0f921"
             ]
            ],
            "type": "histogram2dcontour"
           }
          ],
          "mesh3d": [
           {
            "colorbar": {
             "outlinewidth": 0,
             "ticks": ""
            },
            "type": "mesh3d"
           }
          ],
          "parcoords": [
           {
            "line": {
             "colorbar": {
              "outlinewidth": 0,
              "ticks": ""
             }
            },
            "type": "parcoords"
           }
          ],
          "pie": [
           {
            "automargin": true,
            "type": "pie"
           }
          ],
          "scatter": [
           {
            "marker": {
             "colorbar": {
              "outlinewidth": 0,
              "ticks": ""
             }
            },
            "type": "scatter"
           }
          ],
          "scatter3d": [
           {
            "line": {
             "colorbar": {
              "outlinewidth": 0,
              "ticks": ""
             }
            },
            "marker": {
             "colorbar": {
              "outlinewidth": 0,
              "ticks": ""
             }
            },
            "type": "scatter3d"
           }
          ],
          "scattercarpet": [
           {
            "marker": {
             "colorbar": {
              "outlinewidth": 0,
              "ticks": ""
             }
            },
            "type": "scattercarpet"
           }
          ],
          "scattergeo": [
           {
            "marker": {
             "colorbar": {
              "outlinewidth": 0,
              "ticks": ""
             }
            },
            "type": "scattergeo"
           }
          ],
          "scattergl": [
           {
            "marker": {
             "colorbar": {
              "outlinewidth": 0,
              "ticks": ""
             }
            },
            "type": "scattergl"
           }
          ],
          "scattermapbox": [
           {
            "marker": {
             "colorbar": {
              "outlinewidth": 0,
              "ticks": ""
             }
            },
            "type": "scattermapbox"
           }
          ],
          "scatterpolar": [
           {
            "marker": {
             "colorbar": {
              "outlinewidth": 0,
              "ticks": ""
             }
            },
            "type": "scatterpolar"
           }
          ],
          "scatterpolargl": [
           {
            "marker": {
             "colorbar": {
              "outlinewidth": 0,
              "ticks": ""
             }
            },
            "type": "scatterpolargl"
           }
          ],
          "scatterternary": [
           {
            "marker": {
             "colorbar": {
              "outlinewidth": 0,
              "ticks": ""
             }
            },
            "type": "scatterternary"
           }
          ],
          "surface": [
           {
            "colorbar": {
             "outlinewidth": 0,
             "ticks": ""
            },
            "colorscale": [
             [
              0,
              "#0d0887"
             ],
             [
              0.1111111111111111,
              "#46039f"
             ],
             [
              0.2222222222222222,
              "#7201a8"
             ],
             [
              0.3333333333333333,
              "#9c179e"
             ],
             [
              0.4444444444444444,
              "#bd3786"
             ],
             [
              0.5555555555555556,
              "#d8576b"
             ],
             [
              0.6666666666666666,
              "#ed7953"
             ],
             [
              0.7777777777777778,
              "#fb9f3a"
             ],
             [
              0.8888888888888888,
              "#fdca26"
             ],
             [
              1,
              "#f0f921"
             ]
            ],
            "type": "surface"
           }
          ],
          "table": [
           {
            "cells": {
             "fill": {
              "color": "#EBF0F8"
             },
             "line": {
              "color": "white"
             }
            },
            "header": {
             "fill": {
              "color": "#C8D4E3"
             },
             "line": {
              "color": "white"
             }
            },
            "type": "table"
           }
          ]
         },
         "layout": {
          "annotationdefaults": {
           "arrowcolor": "#2a3f5f",
           "arrowhead": 0,
           "arrowwidth": 1
          },
          "autotypenumbers": "strict",
          "coloraxis": {
           "colorbar": {
            "outlinewidth": 0,
            "ticks": ""
           }
          },
          "colorscale": {
           "diverging": [
            [
             0,
             "#8e0152"
            ],
            [
             0.1,
             "#c51b7d"
            ],
            [
             0.2,
             "#de77ae"
            ],
            [
             0.3,
             "#f1b6da"
            ],
            [
             0.4,
             "#fde0ef"
            ],
            [
             0.5,
             "#f7f7f7"
            ],
            [
             0.6,
             "#e6f5d0"
            ],
            [
             0.7,
             "#b8e186"
            ],
            [
             0.8,
             "#7fbc41"
            ],
            [
             0.9,
             "#4d9221"
            ],
            [
             1,
             "#276419"
            ]
           ],
           "sequential": [
            [
             0,
             "#0d0887"
            ],
            [
             0.1111111111111111,
             "#46039f"
            ],
            [
             0.2222222222222222,
             "#7201a8"
            ],
            [
             0.3333333333333333,
             "#9c179e"
            ],
            [
             0.4444444444444444,
             "#bd3786"
            ],
            [
             0.5555555555555556,
             "#d8576b"
            ],
            [
             0.6666666666666666,
             "#ed7953"
            ],
            [
             0.7777777777777778,
             "#fb9f3a"
            ],
            [
             0.8888888888888888,
             "#fdca26"
            ],
            [
             1,
             "#f0f921"
            ]
           ],
           "sequentialminus": [
            [
             0,
             "#0d0887"
            ],
            [
             0.1111111111111111,
             "#46039f"
            ],
            [
             0.2222222222222222,
             "#7201a8"
            ],
            [
             0.3333333333333333,
             "#9c179e"
            ],
            [
             0.4444444444444444,
             "#bd3786"
            ],
            [
             0.5555555555555556,
             "#d8576b"
            ],
            [
             0.6666666666666666,
             "#ed7953"
            ],
            [
             0.7777777777777778,
             "#fb9f3a"
            ],
            [
             0.8888888888888888,
             "#fdca26"
            ],
            [
             1,
             "#f0f921"
            ]
           ]
          },
          "colorway": [
           "#636efa",
           "#EF553B",
           "#00cc96",
           "#ab63fa",
           "#FFA15A",
           "#19d3f3",
           "#FF6692",
           "#B6E880",
           "#FF97FF",
           "#FECB52"
          ],
          "font": {
           "color": "#2a3f5f"
          },
          "geo": {
           "bgcolor": "white",
           "lakecolor": "white",
           "landcolor": "#E5ECF6",
           "showlakes": true,
           "showland": true,
           "subunitcolor": "white"
          },
          "hoverlabel": {
           "align": "left"
          },
          "hovermode": "closest",
          "mapbox": {
           "style": "light"
          },
          "paper_bgcolor": "white",
          "plot_bgcolor": "#E5ECF6",
          "polar": {
           "angularaxis": {
            "gridcolor": "white",
            "linecolor": "white",
            "ticks": ""
           },
           "bgcolor": "#E5ECF6",
           "radialaxis": {
            "gridcolor": "white",
            "linecolor": "white",
            "ticks": ""
           }
          },
          "scene": {
           "xaxis": {
            "backgroundcolor": "#E5ECF6",
            "gridcolor": "white",
            "gridwidth": 2,
            "linecolor": "white",
            "showbackground": true,
            "ticks": "",
            "zerolinecolor": "white"
           },
           "yaxis": {
            "backgroundcolor": "#E5ECF6",
            "gridcolor": "white",
            "gridwidth": 2,
            "linecolor": "white",
            "showbackground": true,
            "ticks": "",
            "zerolinecolor": "white"
           },
           "zaxis": {
            "backgroundcolor": "#E5ECF6",
            "gridcolor": "white",
            "gridwidth": 2,
            "linecolor": "white",
            "showbackground": true,
            "ticks": "",
            "zerolinecolor": "white"
           }
          },
          "shapedefaults": {
           "line": {
            "color": "#2a3f5f"
           }
          },
          "ternary": {
           "aaxis": {
            "gridcolor": "white",
            "linecolor": "white",
            "ticks": ""
           },
           "baxis": {
            "gridcolor": "white",
            "linecolor": "white",
            "ticks": ""
           },
           "bgcolor": "#E5ECF6",
           "caxis": {
            "gridcolor": "white",
            "linecolor": "white",
            "ticks": ""
           }
          },
          "title": {
           "x": 0.05
          },
          "xaxis": {
           "automargin": true,
           "gridcolor": "white",
           "linecolor": "white",
           "ticks": "",
           "title": {
            "standoff": 15
           },
           "zerolinecolor": "white",
           "zerolinewidth": 2
          },
          "yaxis": {
           "automargin": true,
           "gridcolor": "white",
           "linecolor": "white",
           "ticks": "",
           "title": {
            "standoff": 15
           },
           "zerolinecolor": "white",
           "zerolinewidth": 2
          }
         }
        },
        "title": {
         "font": {
          "color": "#4D5663"
         }
        },
        "xaxis": {
         "gridcolor": "#E1E5ED",
         "showgrid": true,
         "tickfont": {
          "color": "#4D5663"
         },
         "title": {
          "font": {
           "color": "#4D5663"
          },
          "text": ""
         },
         "zerolinecolor": "#E1E5ED"
        },
        "yaxis": {
         "gridcolor": "#E1E5ED",
         "showgrid": true,
         "tickfont": {
          "color": "#4D5663"
         },
         "title": {
          "font": {
           "color": "#4D5663"
          },
          "text": ""
         },
         "zerolinecolor": "#E1E5ED"
        }
       }
      },
      "text/html": [
       "<div>                            <div id=\"e6b20bf8-c3f7-43b0-8a61-57b42cf4e57a\" class=\"plotly-graph-div\" style=\"height:525px; width:100%;\"></div>            <script type=\"text/javascript\">                require([\"plotly\"], function(Plotly) {                    window.PLOTLYENV=window.PLOTLYENV || {};\n",
       "                    window.PLOTLYENV.BASE_URL='https://plot.ly';                                    if (document.getElementById(\"e6b20bf8-c3f7-43b0-8a61-57b42cf4e57a\")) {                    Plotly.newPlot(                        \"e6b20bf8-c3f7-43b0-8a61-57b42cf4e57a\",                        [{\"line\": {\"color\": \"rgba(255, 153, 51, 1.0)\", \"dash\": \"solid\", \"shape\": \"linear\", \"width\": 1.3}, \"mode\": \"lines\", \"name\": \"Close\", \"text\": \"\", \"type\": \"scatter\", \"x\": [\"2015-12-31\", \"2015-12-30\", \"2015-12-29\", \"2015-12-28\", \"2015-12-24\", \"2015-12-23\", \"2015-12-22\", \"2015-12-21\", \"2015-12-18\", \"2015-12-17\", \"2015-12-16\", \"2015-12-15\", \"2015-12-14\", \"2015-12-11\", \"2015-12-10\", \"2015-12-09\", \"2015-12-08\", \"2015-12-07\", \"2015-12-04\", \"2015-12-03\", \"2015-12-02\", \"2015-12-01\", \"2015-11-30\", \"2015-11-27\", \"2015-11-25\", \"2015-11-24\", \"2015-11-23\", \"2015-11-20\", \"2015-11-19\", \"2015-11-18\", \"2015-11-17\", \"2015-11-16\", \"2015-11-13\", \"2015-11-12\", \"2015-11-11\", \"2015-11-10\", \"2015-11-09\", \"2015-11-06\", \"2015-11-05\", \"2015-11-04\", \"2015-11-03\", \"2015-11-02\", \"2015-10-30\", \"2015-10-29\", \"2015-10-28\", \"2015-10-27\", \"2015-10-26\", \"2015-10-23\", \"2015-10-22\", \"2015-10-21\", \"2015-10-20\", \"2015-10-19\", \"2015-10-16\", \"2015-10-15\", \"2015-10-14\", \"2015-10-13\", \"2015-10-12\", \"2015-10-09\", \"2015-10-08\", \"2015-10-07\", \"2015-10-06\", \"2015-10-05\", \"2015-10-02\", \"2015-10-01\", \"2015-09-30\", \"2015-09-29\", \"2015-09-28\", \"2015-09-25\", \"2015-09-24\", \"2015-09-23\", \"2015-09-22\", \"2015-09-21\", \"2015-09-18\", \"2015-09-17\", \"2015-09-16\", \"2015-09-15\", \"2015-09-14\", \"2015-09-11\", \"2015-09-10\", \"2015-09-09\", \"2015-09-08\", \"2015-09-04\", \"2015-09-03\", \"2015-09-02\", \"2015-09-01\", \"2015-08-31\", \"2015-08-28\", \"2015-08-27\", \"2015-08-26\", \"2015-08-25\", \"2015-08-24\", \"2015-08-21\", \"2015-08-20\", \"2015-08-19\", \"2015-08-18\", \"2015-08-17\", \"2015-08-14\", \"2015-08-13\", \"2015-08-12\", \"2015-08-11\", \"2015-08-10\", \"2015-08-07\", \"2015-08-06\", \"2015-08-05\", \"2015-08-04\", \"2015-08-03\", \"2015-07-31\", \"2015-07-30\", \"2015-07-29\", \"2015-07-28\", \"2015-07-27\", \"2015-07-24\", \"2015-07-23\", \"2015-07-22\", \"2015-07-21\", \"2015-07-20\", \"2015-07-17\", \"2015-07-16\", \"2015-07-15\", \"2015-07-14\", \"2015-07-13\", \"2015-07-10\", \"2015-07-09\", \"2015-07-08\", \"2015-07-07\", \"2015-07-06\", \"2015-07-02\", \"2015-07-01\", \"2015-06-30\", \"2015-06-29\", \"2015-06-26\", \"2015-06-25\", \"2015-06-24\", \"2015-06-23\", \"2015-06-22\", \"2015-06-19\", \"2015-06-18\", \"2015-06-17\", \"2015-06-16\", \"2015-06-15\", \"2015-06-12\", \"2015-06-11\", \"2015-06-10\", \"2015-06-09\", \"2015-06-08\", \"2015-06-05\", \"2015-06-04\", \"2015-06-03\", \"2015-06-02\", \"2015-06-01\", \"2015-05-29\", \"2015-05-28\", \"2015-05-27\", \"2015-05-26\", \"2015-05-22\", \"2015-05-21\", \"2015-05-20\", \"2015-05-19\", \"2015-05-18\", \"2015-05-15\", \"2015-05-14\", \"2015-05-13\", \"2015-05-12\", \"2015-05-11\", \"2015-05-08\", \"2015-05-07\", \"2015-05-06\", \"2015-05-05\", \"2015-05-04\", \"2015-05-01\", \"2015-04-30\", \"2015-04-29\", \"2015-04-28\", \"2015-04-27\", \"2015-04-24\", \"2015-04-23\", \"2015-04-22\", \"2015-04-21\", \"2015-04-20\", \"2015-04-17\", \"2015-04-16\", \"2015-04-15\", \"2015-04-14\", \"2015-04-13\", \"2015-04-10\", \"2015-04-09\", \"2015-04-08\", \"2015-04-07\", \"2015-04-06\", \"2015-04-02\", \"2015-04-01\", \"2015-03-31\", \"2015-03-30\", \"2015-03-27\", \"2015-03-26\", \"2015-03-25\", \"2015-03-24\", \"2015-03-23\", \"2015-03-20\", \"2015-03-19\", \"2015-03-18\", \"2015-03-17\", \"2015-03-16\", \"2015-03-13\", \"2015-03-12\", \"2015-03-11\", \"2015-03-10\", \"2015-03-09\", \"2015-03-06\", \"2015-03-05\", \"2015-03-04\", \"2015-03-03\", \"2015-03-02\", \"2015-02-27\", \"2015-02-26\", \"2015-02-25\", \"2015-02-24\", \"2015-02-23\", \"2015-02-20\", \"2015-02-19\", \"2015-02-18\", \"2015-02-17\", \"2015-02-13\", \"2015-02-12\", \"2015-02-11\", \"2015-02-10\", \"2015-02-09\", \"2015-02-06\", \"2015-02-05\", \"2015-02-04\", \"2015-02-03\", \"2015-02-02\", \"2015-01-30\", \"2015-01-29\", \"2015-01-28\", \"2015-01-27\", \"2015-01-26\", \"2015-01-23\", \"2015-01-22\", \"2015-01-21\", \"2015-01-20\", \"2015-01-16\", \"2015-01-15\", \"2015-01-14\", \"2015-01-13\", \"2015-01-12\", \"2015-01-09\", \"2015-01-08\", \"2015-01-07\", \"2015-01-06\", \"2015-01-05\", \"2015-01-02\"], \"y\": [27.967, 28.336, 28.616, 28.281999999999996, 28.555999999999997, 28.66, 28.328000000000003, 27.851999999999997, 27.511, 28.467, 29.552, 28.873, 28.026, 28.203000000000003, 29.383000000000003, 29.337, 29.947, 30.489, 31.05, 30.287, 30.673000000000002, 31.009, 30.153000000000002, 29.698, 29.552, 29.533, 29.574, 29.814, 30.041, 30.112, 29.533, 29.938000000000002, 29.83, 30.095, 30.79, 30.982, 30.866, 31.131999999999998, 29.789, 29.365, 29.266, 29.436999999999998, 28.987, 29.485, 29.401999999999997, 28.203000000000003, 28.484, 28.544, 28.308000000000003, 27.546999999999997, 28.22, 28.281999999999996, 29.706, 29.413, 28.475, 28.535, 28.701999999999998, 28.633000000000003, 28.869, 28.814, 28.316999999999997, 28.256, 27.505, 27.565, 27.565, 27.136, 27.206, 28.168000000000003, 27.978, 28.281999999999996, 28.388, 29.177, 28.905, 29.801, 30.293000000000003, 30.26, 29.586, 29.743000000000002, 29.639, 29.535999999999998, 29.989, 29.046, 29.576999999999998, 29.566999999999997, 28.983, 30.145, 29.801, 30.013, 29.141, 27.791999999999998, 28.23, 29.939, 31.651, 32.765, 33.095, 33.378, 33.296, 33.033, 32.876, 33.185, 34.196999999999996, 33.758, 34.067, 34.128, 34.058, 33.919000000000004, 33.988, 34.389, 34.38, 34.215, 34.215, 34.519, 34.817, 35.339, 34.939, 34.904, 35.043, 34.79, 34.608000000000004, 34.616, 34.278, 33.684, 33.213, 32.945, 33.667, 33.866, 33.996, 34.312, 33.815, 33.395, 34.434, 34.189, 34.556999999999995, 35.053000000000004, 34.738, 34.32, 34.688, 34.501999999999995, 34.641, 34.46, 34.527, 34.757, 34.772, 34.111, 34.076, 34.249, 33.736, 34.005, 33.578, 33.63, 33.299, 33.76, 33.667, 32.945, 33.272, 33.161, 33.411, 33.727, 33.411, 32.997, 33.246, 32.937, 32.881, 33.347, 33.028, 32.724000000000004, 32.295, 32.644, 33.045, 32.698, 32.524, 32.681, 32.295, 32.167, 32.433, 32.451, 32.294000000000004, 31.905, 32.086999999999996, 31.905, 32.433, 32.461, 31.986, 31.513, 31.464000000000002, 31.811999999999998, 31.480999999999998, 31.203000000000003, 31.176, 31.307, 31.228, 30.986, 31.523000000000003, 31.109, 30.926, 30.778000000000002, 31.464000000000002, 31.523000000000003, 31.688000000000002, 31.35, 31.888, 31.735, 31.888, 31.744, 31.706, 30.345, 30.281999999999996, 30.97, 30.846, 30.837, 30.464000000000002, 31.101, 31.464000000000002, 31.073, 31.307, 31.768, 31.897, 31.489, 31.897, 31.541, 31.579, 32.054, 31.932, 32.037, 31.579, 31.395, 30.933000000000003, 31.073, 30.326999999999998, 30.188000000000002, 30.421999999999997, 29.881, 29.354, 29.84, 29.316999999999997, 30.003, 30.396, 30.43, 30.758000000000003, 30.066, 30.084, 30.205, 29.938000000000002, 30.48, 31.191, 31.485, 31.926, 32.453, 31.979, 31.528000000000002, 32.463, 33.512]}, {\"line\": {\"color\": \"rgba(55, 128, 191, 1.0)\", \"dash\": \"solid\", \"shape\": \"linear\", \"width\": 1.3}, \"mode\": \"lines\", \"name\": \"SMA(14)\", \"text\": \"\", \"type\": \"scatter\", \"x\": [\"2015-12-31\", \"2015-12-30\", \"2015-12-29\", \"2015-12-28\", \"2015-12-24\", \"2015-12-23\", \"2015-12-22\", \"2015-12-21\", \"2015-12-18\", \"2015-12-17\", \"2015-12-16\", \"2015-12-15\", \"2015-12-14\", \"2015-12-11\", \"2015-12-10\", \"2015-12-09\", \"2015-12-08\", \"2015-12-07\", \"2015-12-04\", \"2015-12-03\", \"2015-12-02\", \"2015-12-01\", \"2015-11-30\", \"2015-11-27\", \"2015-11-25\", \"2015-11-24\", \"2015-11-23\", \"2015-11-20\", \"2015-11-19\", \"2015-11-18\", \"2015-11-17\", \"2015-11-16\", \"2015-11-13\", \"2015-11-12\", \"2015-11-11\", \"2015-11-10\", \"2015-11-09\", \"2015-11-06\", \"2015-11-05\", \"2015-11-04\", \"2015-11-03\", \"2015-11-02\", \"2015-10-30\", \"2015-10-29\", \"2015-10-28\", \"2015-10-27\", \"2015-10-26\", \"2015-10-23\", \"2015-10-22\", \"2015-10-21\", \"2015-10-20\", \"2015-10-19\", \"2015-10-16\", \"2015-10-15\", \"2015-10-14\", \"2015-10-13\", \"2015-10-12\", \"2015-10-09\", \"2015-10-08\", \"2015-10-07\", \"2015-10-06\", \"2015-10-05\", \"2015-10-02\", \"2015-10-01\", \"2015-09-30\", \"2015-09-29\", \"2015-09-28\", \"2015-09-25\", \"2015-09-24\", \"2015-09-23\", \"2015-09-22\", \"2015-09-21\", \"2015-09-18\", \"2015-09-17\", \"2015-09-16\", \"2015-09-15\", \"2015-09-14\", \"2015-09-11\", \"2015-09-10\", \"2015-09-09\", \"2015-09-08\", \"2015-09-04\", \"2015-09-03\", \"2015-09-02\", \"2015-09-01\", \"2015-08-31\", \"2015-08-28\", \"2015-08-27\", \"2015-08-26\", \"2015-08-25\", \"2015-08-24\", \"2015-08-21\", \"2015-08-20\", \"2015-08-19\", \"2015-08-18\", \"2015-08-17\", \"2015-08-14\", \"2015-08-13\", \"2015-08-12\", \"2015-08-11\", \"2015-08-10\", \"2015-08-07\", \"2015-08-06\", \"2015-08-05\", \"2015-08-04\", \"2015-08-03\", \"2015-07-31\", \"2015-07-30\", \"2015-07-29\", \"2015-07-28\", \"2015-07-27\", \"2015-07-24\", \"2015-07-23\", \"2015-07-22\", \"2015-07-21\", \"2015-07-20\", \"2015-07-17\", \"2015-07-16\", \"2015-07-15\", \"2015-07-14\", \"2015-07-13\", \"2015-07-10\", \"2015-07-09\", \"2015-07-08\", \"2015-07-07\", \"2015-07-06\", \"2015-07-02\", \"2015-07-01\", \"2015-06-30\", \"2015-06-29\", \"2015-06-26\", \"2015-06-25\", \"2015-06-24\", \"2015-06-23\", \"2015-06-22\", \"2015-06-19\", \"2015-06-18\", \"2015-06-17\", \"2015-06-16\", \"2015-06-15\", \"2015-06-12\", \"2015-06-11\", \"2015-06-10\", \"2015-06-09\", \"2015-06-08\", \"2015-06-05\", \"2015-06-04\", \"2015-06-03\", \"2015-06-02\", \"2015-06-01\", \"2015-05-29\", \"2015-05-28\", \"2015-05-27\", \"2015-05-26\", \"2015-05-22\", \"2015-05-21\", \"2015-05-20\", \"2015-05-19\", \"2015-05-18\", \"2015-05-15\", \"2015-05-14\", \"2015-05-13\", \"2015-05-12\", \"2015-05-11\", \"2015-05-08\", \"2015-05-07\", \"2015-05-06\", \"2015-05-05\", \"2015-05-04\", \"2015-05-01\", \"2015-04-30\", \"2015-04-29\", \"2015-04-28\", \"2015-04-27\", \"2015-04-24\", \"2015-04-23\", \"2015-04-22\", \"2015-04-21\", \"2015-04-20\", \"2015-04-17\", \"2015-04-16\", \"2015-04-15\", \"2015-04-14\", \"2015-04-13\", \"2015-04-10\", \"2015-04-09\", \"2015-04-08\", \"2015-04-07\", \"2015-04-06\", \"2015-04-02\", \"2015-04-01\", \"2015-03-31\", \"2015-03-30\", \"2015-03-27\", \"2015-03-26\", \"2015-03-25\", \"2015-03-24\", \"2015-03-23\", \"2015-03-20\", \"2015-03-19\", \"2015-03-18\", \"2015-03-17\", \"2015-03-16\", \"2015-03-13\", \"2015-03-12\", \"2015-03-11\", \"2015-03-10\", \"2015-03-09\", \"2015-03-06\", \"2015-03-05\", \"2015-03-04\", \"2015-03-03\", \"2015-03-02\", \"2015-02-27\", \"2015-02-26\", \"2015-02-25\", \"2015-02-24\", \"2015-02-23\", \"2015-02-20\", \"2015-02-19\", \"2015-02-18\", \"2015-02-17\", \"2015-02-13\", \"2015-02-12\", \"2015-02-11\", \"2015-02-10\", \"2015-02-09\", \"2015-02-06\", \"2015-02-05\", \"2015-02-04\", \"2015-02-03\", \"2015-02-02\", \"2015-01-30\", \"2015-01-29\", \"2015-01-28\", \"2015-01-27\", \"2015-01-26\", \"2015-01-23\", \"2015-01-22\", \"2015-01-21\", \"2015-01-20\", \"2015-01-16\", \"2015-01-15\", \"2015-01-14\", \"2015-01-13\", \"2015-01-12\", \"2015-01-09\", \"2015-01-08\", \"2015-01-07\", \"2015-01-06\", \"2015-01-05\", \"2015-01-02\"], \"y\": [\"\", \"\", \"\", \"\", \"\", \"\", \"\", \"\", \"\", \"\", \"\", \"\", \"\", 28.373500000000003, 28.47464285714286, 28.546142857142858, 28.641214285714288, 28.798857142857145, 28.977000000000004, 29.093214285714286, 29.260714285714283, 29.486214285714286, 29.674928571428573, 29.762857142857143, 29.762857142857143, 29.810000000000002, 29.92057142857143, 30.035642857142857, 30.08264285714286, 30.138000000000005, 30.10842857142858, 30.069071428571437, 29.981928571428575, 29.968214285714293, 29.97657142857144, 29.974642857142864, 30.025571428571432, 30.128000000000007, 30.144928571428576, 30.132928571428575, 30.110928571428577, 30.084000000000003, 30.00871428571429, 29.963928571428575, 29.95457142857143, 29.83064285714286, 29.7345, 29.623714285714282, 29.446428571428566, 29.201071428571424, 29.012071428571428, 28.8085, 28.80257142857143, 28.806, 28.7495, 28.68507142857143, 28.664714285714286, 28.60385714285714, 28.565785714285713, 28.609428571428573, 28.597500000000004, 28.576928571428578, 28.519571428571435, 28.520857142857153, 28.474071428571442, 28.3922142857143, 28.213642857142872, 28.1247142857143, 28.0892142857143, 28.071142857142867, 28.048714285714293, 28.08757142857144, 28.09014285714287, 28.160642857142868, 28.301785714285725, 28.444928571428584, 28.59357142857144, 28.749142857142868, 28.897285714285726, 29.068714285714297, 29.26750000000001, 29.330214285714295, 29.444428571428578, 29.536214285714294, 29.578714285714295, 29.647857142857152, 29.711857142857152, 29.727000000000007, 29.644714285714294, 29.46842857142858, 29.371571428571436, 29.38557142857144, 29.529285714285724, 29.75992857142858, 29.981785714285728, 30.291214285714297, 30.556857142857154, 30.804428571428584, 31.08250000000001, 31.299642857142867, 31.61364285714287, 31.88114285714287, 32.23300000000001, 32.68557142857144, 33.101857142857156, 33.386142857142865, 33.553071428571435, 33.669071428571435, 33.760857142857155, 33.82064285714287, 33.88628571428573, 33.99242857142858, 34.131071428571445, 34.28492857142859, 34.337928571428584, 34.41978571428573, 34.489500000000014, 34.53678571428573, 34.57607142857144, 34.62585714285716, 34.64657142857144, 34.596214285714304, 34.51285714285716, 34.42214285714287, 34.38300000000002, 34.33635714285715, 34.277714285714296, 34.204357142857155, 34.12407142857144, 34.01628571428572, 33.97278571428573, 33.92985714285715, 33.926214285714295, 33.957428571428586, 33.990285714285726, 34.03571428571429, 34.141071428571436, 34.25228571428572, 34.32185714285715, 34.36428571428572, 34.4022142857143, 34.43400000000001, 34.50235714285716, 34.55350000000002, 34.527928571428596, 34.53221428571431, 34.473571428571454, 34.39871428571431, 34.31585714285716, 34.26657142857145, 34.16735714285717, 34.11435714285717, 34.04478571428574, 33.936571428571455, 33.8469285714286, 33.732928571428594, 33.635714285714315, 33.60828571428574, 33.560785714285736, 33.471357142857165, 33.43635714285717, 33.36007142857145, 33.31028571428574, 33.29007142857146, 33.27071428571431, 33.196714285714314, 33.098714285714316, 33.07721428571431, 33.06100000000003, 33.0279285714286, 32.96457142857146, 32.889857142857174, 32.810142857142885, 32.75085714285718, 32.69278571428575, 32.65807142857146, 32.61614285714289, 32.51314285714289, 32.4459285714286, 32.3874285714286, 32.397285714285736, 32.384214285714314, 32.308571428571454, 32.223928571428594, 32.14821428571431, 32.08614285714288, 32.02800000000003, 31.959142857142883, 31.869357142857165, 31.78764285714288, 31.711500000000026, 31.64585714285717, 31.60557142857146, 31.54871428571431, 31.441071428571455, 31.320857142857168, 31.283571428571456, 31.284285714285744, 31.300285714285742, 31.267285714285745, 31.296357142857172, 31.33435714285717, 31.385214285714312, 31.4164285714286, 31.450571428571457, 31.40478571428574, 31.316142857142882, 31.306214285714308, 31.300500000000024, 31.304714285714308, 31.233285714285735, 31.203142857142875, 31.187142857142877, 31.16735714285716, 31.125857142857164, 31.128214285714307, 31.128857142857164, 31.11064285714288, 31.124285714285737, 31.209714285714306, 31.302357142857165, 31.37978571428573, 31.45735714285716, 31.543071428571444, 31.622714285714302, 31.643714285714303, 31.60578571428573, 31.60578571428573, 31.53578571428573, 31.42292857142858, 31.317571428571444, 31.202714285714304, 31.021071428571446, 30.899571428571445, 30.738000000000017, 30.591500000000014, 30.481785714285728, 30.367000000000015, 30.308357142857155, 30.213428571428583, 30.152785714285727, 30.090785714285726, 30.063000000000013, 30.08385714285716, 30.138785714285728, 30.253357142857162, 30.437071428571446, 30.623714285714303, 30.81385714285716, 30.922785714285734, 31.07042857142859, 31.290571428571447]}],                        {\"legend\": {\"bgcolor\": \"#F5F6F9\", \"font\": {\"color\": \"#4D5663\"}}, \"paper_bgcolor\": \"#F5F6F9\", \"plot_bgcolor\": \"#F5F6F9\", \"template\": {\"data\": {\"bar\": [{\"error_x\": {\"color\": \"#2a3f5f\"}, \"error_y\": {\"color\": \"#2a3f5f\"}, \"marker\": {\"line\": {\"color\": \"#E5ECF6\", \"width\": 0.5}}, \"type\": \"bar\"}], \"barpolar\": [{\"marker\": {\"line\": {\"color\": \"#E5ECF6\", \"width\": 0.5}}, \"type\": \"barpolar\"}], \"carpet\": [{\"aaxis\": {\"endlinecolor\": \"#2a3f5f\", \"gridcolor\": \"white\", \"linecolor\": \"white\", \"minorgridcolor\": \"white\", \"startlinecolor\": \"#2a3f5f\"}, \"baxis\": {\"endlinecolor\": \"#2a3f5f\", \"gridcolor\": \"white\", \"linecolor\": \"white\", \"minorgridcolor\": \"white\", \"startlinecolor\": \"#2a3f5f\"}, \"type\": \"carpet\"}], \"choropleth\": [{\"colorbar\": {\"outlinewidth\": 0, \"ticks\": \"\"}, \"type\": \"choropleth\"}], \"contour\": [{\"colorbar\": {\"outlinewidth\": 0, \"ticks\": \"\"}, \"colorscale\": [[0.0, \"#0d0887\"], [0.1111111111111111, \"#46039f\"], [0.2222222222222222, \"#7201a8\"], [0.3333333333333333, \"#9c179e\"], [0.4444444444444444, \"#bd3786\"], [0.5555555555555556, \"#d8576b\"], [0.6666666666666666, \"#ed7953\"], [0.7777777777777778, \"#fb9f3a\"], [0.8888888888888888, \"#fdca26\"], [1.0, \"#f0f921\"]], \"type\": \"contour\"}], \"contourcarpet\": [{\"colorbar\": {\"outlinewidth\": 0, \"ticks\": \"\"}, \"type\": \"contourcarpet\"}], \"heatmap\": [{\"colorbar\": {\"outlinewidth\": 0, \"ticks\": \"\"}, \"colorscale\": [[0.0, \"#0d0887\"], [0.1111111111111111, \"#46039f\"], [0.2222222222222222, \"#7201a8\"], [0.3333333333333333, \"#9c179e\"], [0.4444444444444444, \"#bd3786\"], [0.5555555555555556, \"#d8576b\"], [0.6666666666666666, \"#ed7953\"], [0.7777777777777778, \"#fb9f3a\"], [0.8888888888888888, \"#fdca26\"], [1.0, \"#f0f921\"]], \"type\": \"heatmap\"}], \"heatmapgl\": [{\"colorbar\": {\"outlinewidth\": 0, \"ticks\": \"\"}, \"colorscale\": [[0.0, \"#0d0887\"], [0.1111111111111111, \"#46039f\"], [0.2222222222222222, \"#7201a8\"], [0.3333333333333333, \"#9c179e\"], [0.4444444444444444, \"#bd3786\"], [0.5555555555555556, \"#d8576b\"], [0.6666666666666666, \"#ed7953\"], [0.7777777777777778, \"#fb9f3a\"], [0.8888888888888888, \"#fdca26\"], [1.0, \"#f0f921\"]], \"type\": \"heatmapgl\"}], \"histogram\": [{\"marker\": {\"colorbar\": {\"outlinewidth\": 0, \"ticks\": \"\"}}, \"type\": \"histogram\"}], \"histogram2d\": [{\"colorbar\": {\"outlinewidth\": 0, \"ticks\": \"\"}, \"colorscale\": [[0.0, \"#0d0887\"], [0.1111111111111111, \"#46039f\"], [0.2222222222222222, \"#7201a8\"], [0.3333333333333333, \"#9c179e\"], [0.4444444444444444, \"#bd3786\"], [0.5555555555555556, \"#d8576b\"], [0.6666666666666666, \"#ed7953\"], [0.7777777777777778, \"#fb9f3a\"], [0.8888888888888888, \"#fdca26\"], [1.0, \"#f0f921\"]], \"type\": \"histogram2d\"}], \"histogram2dcontour\": [{\"colorbar\": {\"outlinewidth\": 0, \"ticks\": \"\"}, \"colorscale\": [[0.0, \"#0d0887\"], [0.1111111111111111, \"#46039f\"], [0.2222222222222222, \"#7201a8\"], [0.3333333333333333, \"#9c179e\"], [0.4444444444444444, \"#bd3786\"], [0.5555555555555556, \"#d8576b\"], [0.6666666666666666, \"#ed7953\"], [0.7777777777777778, \"#fb9f3a\"], [0.8888888888888888, \"#fdca26\"], [1.0, \"#f0f921\"]], \"type\": \"histogram2dcontour\"}], \"mesh3d\": [{\"colorbar\": {\"outlinewidth\": 0, \"ticks\": \"\"}, \"type\": \"mesh3d\"}], \"parcoords\": [{\"line\": {\"colorbar\": {\"outlinewidth\": 0, \"ticks\": \"\"}}, \"type\": \"parcoords\"}], \"pie\": [{\"automargin\": true, \"type\": \"pie\"}], \"scatter\": [{\"marker\": {\"colorbar\": {\"outlinewidth\": 0, \"ticks\": \"\"}}, \"type\": \"scatter\"}], \"scatter3d\": [{\"line\": {\"colorbar\": {\"outlinewidth\": 0, \"ticks\": \"\"}}, \"marker\": {\"colorbar\": {\"outlinewidth\": 0, \"ticks\": \"\"}}, \"type\": \"scatter3d\"}], \"scattercarpet\": [{\"marker\": {\"colorbar\": {\"outlinewidth\": 0, \"ticks\": \"\"}}, \"type\": \"scattercarpet\"}], \"scattergeo\": [{\"marker\": {\"colorbar\": {\"outlinewidth\": 0, \"ticks\": \"\"}}, \"type\": \"scattergeo\"}], \"scattergl\": [{\"marker\": {\"colorbar\": {\"outlinewidth\": 0, \"ticks\": \"\"}}, \"type\": \"scattergl\"}], \"scattermapbox\": [{\"marker\": {\"colorbar\": {\"outlinewidth\": 0, \"ticks\": \"\"}}, \"type\": \"scattermapbox\"}], \"scatterpolar\": [{\"marker\": {\"colorbar\": {\"outlinewidth\": 0, \"ticks\": \"\"}}, \"type\": \"scatterpolar\"}], \"scatterpolargl\": [{\"marker\": {\"colorbar\": {\"outlinewidth\": 0, \"ticks\": \"\"}}, \"type\": \"scatterpolargl\"}], \"scatterternary\": [{\"marker\": {\"colorbar\": {\"outlinewidth\": 0, \"ticks\": \"\"}}, \"type\": \"scatterternary\"}], \"surface\": [{\"colorbar\": {\"outlinewidth\": 0, \"ticks\": \"\"}, \"colorscale\": [[0.0, \"#0d0887\"], [0.1111111111111111, \"#46039f\"], [0.2222222222222222, \"#7201a8\"], [0.3333333333333333, \"#9c179e\"], [0.4444444444444444, \"#bd3786\"], [0.5555555555555556, \"#d8576b\"], [0.6666666666666666, \"#ed7953\"], [0.7777777777777778, \"#fb9f3a\"], [0.8888888888888888, \"#fdca26\"], [1.0, \"#f0f921\"]], \"type\": \"surface\"}], \"table\": [{\"cells\": {\"fill\": {\"color\": \"#EBF0F8\"}, \"line\": {\"color\": \"white\"}}, \"header\": {\"fill\": {\"color\": \"#C8D4E3\"}, \"line\": {\"color\": \"white\"}}, \"type\": \"table\"}]}, \"layout\": {\"annotationdefaults\": {\"arrowcolor\": \"#2a3f5f\", \"arrowhead\": 0, \"arrowwidth\": 1}, \"autotypenumbers\": \"strict\", \"coloraxis\": {\"colorbar\": {\"outlinewidth\": 0, \"ticks\": \"\"}}, \"colorscale\": {\"diverging\": [[0, \"#8e0152\"], [0.1, \"#c51b7d\"], [0.2, \"#de77ae\"], [0.3, \"#f1b6da\"], [0.4, \"#fde0ef\"], [0.5, \"#f7f7f7\"], [0.6, \"#e6f5d0\"], [0.7, \"#b8e186\"], [0.8, \"#7fbc41\"], [0.9, \"#4d9221\"], [1, \"#276419\"]], \"sequential\": [[0.0, \"#0d0887\"], [0.1111111111111111, \"#46039f\"], [0.2222222222222222, \"#7201a8\"], [0.3333333333333333, \"#9c179e\"], [0.4444444444444444, \"#bd3786\"], [0.5555555555555556, \"#d8576b\"], [0.6666666666666666, \"#ed7953\"], [0.7777777777777778, \"#fb9f3a\"], [0.8888888888888888, \"#fdca26\"], [1.0, \"#f0f921\"]], \"sequentialminus\": [[0.0, \"#0d0887\"], [0.1111111111111111, \"#46039f\"], [0.2222222222222222, \"#7201a8\"], [0.3333333333333333, \"#9c179e\"], [0.4444444444444444, \"#bd3786\"], [0.5555555555555556, \"#d8576b\"], [0.6666666666666666, \"#ed7953\"], [0.7777777777777778, \"#fb9f3a\"], [0.8888888888888888, \"#fdca26\"], [1.0, \"#f0f921\"]]}, \"colorway\": [\"#636efa\", \"#EF553B\", \"#00cc96\", \"#ab63fa\", \"#FFA15A\", \"#19d3f3\", \"#FF6692\", \"#B6E880\", \"#FF97FF\", \"#FECB52\"], \"font\": {\"color\": \"#2a3f5f\"}, \"geo\": {\"bgcolor\": \"white\", \"lakecolor\": \"white\", \"landcolor\": \"#E5ECF6\", \"showlakes\": true, \"showland\": true, \"subunitcolor\": \"white\"}, \"hoverlabel\": {\"align\": \"left\"}, \"hovermode\": \"closest\", \"mapbox\": {\"style\": \"light\"}, \"paper_bgcolor\": \"white\", \"plot_bgcolor\": \"#E5ECF6\", \"polar\": {\"angularaxis\": {\"gridcolor\": \"white\", \"linecolor\": \"white\", \"ticks\": \"\"}, \"bgcolor\": \"#E5ECF6\", \"radialaxis\": {\"gridcolor\": \"white\", \"linecolor\": \"white\", \"ticks\": \"\"}}, \"scene\": {\"xaxis\": {\"backgroundcolor\": \"#E5ECF6\", \"gridcolor\": \"white\", \"gridwidth\": 2, \"linecolor\": \"white\", \"showbackground\": true, \"ticks\": \"\", \"zerolinecolor\": \"white\"}, \"yaxis\": {\"backgroundcolor\": \"#E5ECF6\", \"gridcolor\": \"white\", \"gridwidth\": 2, \"linecolor\": \"white\", \"showbackground\": true, \"ticks\": \"\", \"zerolinecolor\": \"white\"}, \"zaxis\": {\"backgroundcolor\": \"#E5ECF6\", \"gridcolor\": \"white\", \"gridwidth\": 2, \"linecolor\": \"white\", \"showbackground\": true, \"ticks\": \"\", \"zerolinecolor\": \"white\"}}, \"shapedefaults\": {\"line\": {\"color\": \"#2a3f5f\"}}, \"ternary\": {\"aaxis\": {\"gridcolor\": \"white\", \"linecolor\": \"white\", \"ticks\": \"\"}, \"baxis\": {\"gridcolor\": \"white\", \"linecolor\": \"white\", \"ticks\": \"\"}, \"bgcolor\": \"#E5ECF6\", \"caxis\": {\"gridcolor\": \"white\", \"linecolor\": \"white\", \"ticks\": \"\"}}, \"title\": {\"x\": 0.05}, \"xaxis\": {\"automargin\": true, \"gridcolor\": \"white\", \"linecolor\": \"white\", \"ticks\": \"\", \"title\": {\"standoff\": 15}, \"zerolinecolor\": \"white\", \"zerolinewidth\": 2}, \"yaxis\": {\"automargin\": true, \"gridcolor\": \"white\", \"linecolor\": \"white\", \"ticks\": \"\", \"title\": {\"standoff\": 15}, \"zerolinecolor\": \"white\", \"zerolinewidth\": 2}}}, \"title\": {\"font\": {\"color\": \"#4D5663\"}}, \"xaxis\": {\"gridcolor\": \"#E1E5ED\", \"showgrid\": true, \"tickfont\": {\"color\": \"#4D5663\"}, \"title\": {\"font\": {\"color\": \"#4D5663\"}, \"text\": \"\"}, \"zerolinecolor\": \"#E1E5ED\"}, \"yaxis\": {\"gridcolor\": \"#E1E5ED\", \"showgrid\": true, \"tickfont\": {\"color\": \"#4D5663\"}, \"title\": {\"font\": {\"color\": \"#4D5663\"}, \"text\": \"\"}, \"zerolinecolor\": \"#E1E5ED\"}},                        {\"showLink\": true, \"linkText\": \"Export to plot.ly\", \"plotlyServerURL\": \"https://plot.ly\", \"responsive\": true}                    ).then(function(){\n",
       "                            \n",
       "var gd = document.getElementById('e6b20bf8-c3f7-43b0-8a61-57b42cf4e57a');\n",
       "var x = new MutationObserver(function (mutations, observer) {{\n",
       "        var display = window.getComputedStyle(gd).display;\n",
       "        if (!display || display === 'none') {{\n",
       "            console.log([gd, 'removed!']);\n",
       "            Plotly.purge(gd);\n",
       "            observer.disconnect();\n",
       "        }}\n",
       "}});\n",
       "\n",
       "// Listen for the removal of the full notebook cells\n",
       "var notebookContainer = gd.closest('#notebook-container');\n",
       "if (notebookContainer) {{\n",
       "    x.observe(notebookContainer, {childList: true});\n",
       "}}\n",
       "\n",
       "// Listen for the clearing of the current output cell\n",
       "var outputEl = gd.closest('.output');\n",
       "if (outputEl) {{\n",
       "    x.observe(outputEl, {childList: true});\n",
       "}}\n",
       "\n",
       "                        })                };                });            </script>        </div>"
      ]
     },
     "metadata": {},
     "output_type": "display_data"
    }
   ],
   "source": [
    "MS['Close'].loc['2016-01-01':'2015-01-01'].ta_plot(study='sma')"
   ]
  },
  {
   "cell_type": "markdown",
   "metadata": {},
   "source": [
    "**Use .ta_plot(study='boll') to create a Bollinger Band Plot for Bank of America for the year 2015.**"
   ]
  },
  {
   "cell_type": "code",
   "execution_count": 32,
   "metadata": {},
   "outputs": [
    {
     "data": {
      "application/vnd.plotly.v1+json": {
       "config": {
        "linkText": "Export to plot.ly",
        "plotlyServerURL": "https://plot.ly",
        "showLink": true
       },
       "data": [
        {
         "line": {
          "color": "rgba(255, 153, 51, 1.0)",
          "dash": "solid",
          "shape": "linear",
          "width": 1.3
         },
         "mode": "lines",
         "name": "Close",
         "text": "",
         "type": "scatter",
         "x": [
          "2015-12-31",
          "2015-12-30",
          "2015-12-29",
          "2015-12-28",
          "2015-12-24",
          "2015-12-23",
          "2015-12-22",
          "2015-12-21",
          "2015-12-18",
          "2015-12-17",
          "2015-12-16",
          "2015-12-15",
          "2015-12-14",
          "2015-12-11",
          "2015-12-10",
          "2015-12-09",
          "2015-12-08",
          "2015-12-07",
          "2015-12-04",
          "2015-12-03",
          "2015-12-02",
          "2015-12-01",
          "2015-11-30",
          "2015-11-27",
          "2015-11-25",
          "2015-11-24",
          "2015-11-23",
          "2015-11-20",
          "2015-11-19",
          "2015-11-18",
          "2015-11-17",
          "2015-11-16",
          "2015-11-13",
          "2015-11-12",
          "2015-11-11",
          "2015-11-10",
          "2015-11-09",
          "2015-11-06",
          "2015-11-05",
          "2015-11-04",
          "2015-11-03",
          "2015-11-02",
          "2015-10-30",
          "2015-10-29",
          "2015-10-28",
          "2015-10-27",
          "2015-10-26",
          "2015-10-23",
          "2015-10-22",
          "2015-10-21",
          "2015-10-20",
          "2015-10-19",
          "2015-10-16",
          "2015-10-15",
          "2015-10-14",
          "2015-10-13",
          "2015-10-12",
          "2015-10-09",
          "2015-10-08",
          "2015-10-07",
          "2015-10-06",
          "2015-10-05",
          "2015-10-02",
          "2015-10-01",
          "2015-09-30",
          "2015-09-29",
          "2015-09-28",
          "2015-09-25",
          "2015-09-24",
          "2015-09-23",
          "2015-09-22",
          "2015-09-21",
          "2015-09-18",
          "2015-09-17",
          "2015-09-16",
          "2015-09-15",
          "2015-09-14",
          "2015-09-11",
          "2015-09-10",
          "2015-09-09",
          "2015-09-08",
          "2015-09-04",
          "2015-09-03",
          "2015-09-02",
          "2015-09-01",
          "2015-08-31",
          "2015-08-28",
          "2015-08-27",
          "2015-08-26",
          "2015-08-25",
          "2015-08-24",
          "2015-08-21",
          "2015-08-20",
          "2015-08-19",
          "2015-08-18",
          "2015-08-17",
          "2015-08-14",
          "2015-08-13",
          "2015-08-12",
          "2015-08-11",
          "2015-08-10",
          "2015-08-07",
          "2015-08-06",
          "2015-08-05",
          "2015-08-04",
          "2015-08-03",
          "2015-07-31",
          "2015-07-30",
          "2015-07-29",
          "2015-07-28",
          "2015-07-27",
          "2015-07-24",
          "2015-07-23",
          "2015-07-22",
          "2015-07-21",
          "2015-07-20",
          "2015-07-17",
          "2015-07-16",
          "2015-07-15",
          "2015-07-14",
          "2015-07-13",
          "2015-07-10",
          "2015-07-09",
          "2015-07-08",
          "2015-07-07",
          "2015-07-06",
          "2015-07-02",
          "2015-07-01",
          "2015-06-30",
          "2015-06-29",
          "2015-06-26",
          "2015-06-25",
          "2015-06-24",
          "2015-06-23",
          "2015-06-22",
          "2015-06-19",
          "2015-06-18",
          "2015-06-17",
          "2015-06-16",
          "2015-06-15",
          "2015-06-12",
          "2015-06-11",
          "2015-06-10",
          "2015-06-09",
          "2015-06-08",
          "2015-06-05",
          "2015-06-04",
          "2015-06-03",
          "2015-06-02",
          "2015-06-01",
          "2015-05-29",
          "2015-05-28",
          "2015-05-27",
          "2015-05-26",
          "2015-05-22",
          "2015-05-21",
          "2015-05-20",
          "2015-05-19",
          "2015-05-18",
          "2015-05-15",
          "2015-05-14",
          "2015-05-13",
          "2015-05-12",
          "2015-05-11",
          "2015-05-08",
          "2015-05-07",
          "2015-05-06",
          "2015-05-05",
          "2015-05-04",
          "2015-05-01",
          "2015-04-30",
          "2015-04-29",
          "2015-04-28",
          "2015-04-27",
          "2015-04-24",
          "2015-04-23",
          "2015-04-22",
          "2015-04-21",
          "2015-04-20",
          "2015-04-17",
          "2015-04-16",
          "2015-04-15",
          "2015-04-14",
          "2015-04-13",
          "2015-04-10",
          "2015-04-09",
          "2015-04-08",
          "2015-04-07",
          "2015-04-06",
          "2015-04-02",
          "2015-04-01",
          "2015-03-31",
          "2015-03-30",
          "2015-03-27",
          "2015-03-26",
          "2015-03-25",
          "2015-03-24",
          "2015-03-23",
          "2015-03-20",
          "2015-03-19",
          "2015-03-18",
          "2015-03-17",
          "2015-03-16",
          "2015-03-13",
          "2015-03-12",
          "2015-03-11",
          "2015-03-10",
          "2015-03-09",
          "2015-03-06",
          "2015-03-05",
          "2015-03-04",
          "2015-03-03",
          "2015-03-02",
          "2015-02-27",
          "2015-02-26",
          "2015-02-25",
          "2015-02-24",
          "2015-02-23",
          "2015-02-20",
          "2015-02-19",
          "2015-02-18",
          "2015-02-17",
          "2015-02-13",
          "2015-02-12",
          "2015-02-11",
          "2015-02-10",
          "2015-02-09",
          "2015-02-06",
          "2015-02-05",
          "2015-02-04",
          "2015-02-03",
          "2015-02-02",
          "2015-01-30",
          "2015-01-29",
          "2015-01-28",
          "2015-01-27",
          "2015-01-26",
          "2015-01-23",
          "2015-01-22",
          "2015-01-21",
          "2015-01-20",
          "2015-01-16",
          "2015-01-15",
          "2015-01-14",
          "2015-01-13",
          "2015-01-12",
          "2015-01-09",
          "2015-01-08",
          "2015-01-07",
          "2015-01-06",
          "2015-01-05",
          "2015-01-02"
         ],
         "y": [
          15.177,
          15.377,
          15.581,
          15.447000000000001,
          15.574000000000002,
          15.638,
          15.402000000000001,
          15.304,
          15.116,
          15.6,
          16.008,
          15.708,
          15.15,
          15.088,
          15.513,
          15.419,
          15.504000000000001,
          15.82,
          16.052,
          15.6,
          15.887,
          16.017,
          15.675999999999998,
          15.719000000000001,
          15.683,
          15.709000000000001,
          15.709000000000001,
          15.87,
          15.907,
          16.044,
          15.667,
          15.675999999999998,
          15.469000000000001,
          15.619000000000002,
          15.963,
          16.052,
          15.897,
          16.142,
          15.565999999999999,
          15.297,
          15.449000000000002,
          15.343,
          15.091,
          15.369000000000002,
          15.54,
          14.749,
          14.845999999999998,
          14.856,
          14.534,
          14.298,
          14.571,
          14.515999999999998,
          14.495999999999999,
          14.561,
          14.065,
          13.957,
          13.957,
          14.01,
          14.162,
          14.162,
          14.112,
          14.112,
          13.831,
          13.984000000000002,
          14.01,
          13.806,
          13.912,
          14.29,
          13.984000000000002,
          14.136,
          14.001,
          14.119000000000002,
          13.992,
          14.265,
          14.686,
          14.665999999999999,
          14.350999999999999,
          14.425,
          14.425,
          14.298,
          14.534,
          14.075,
          14.332,
          14.257,
          13.966,
          14.645,
          14.664000000000001,
          14.737,
          14.397,
          13.679,
          13.705,
          14.433,
          14.989,
          15.652999999999999,
          15.855,
          15.929,
          15.864,
          15.797,
          15.704,
          15.948,
          16.172,
          15.91,
          15.966,
          16.02,
          15.956,
          15.929,
          16.029,
          16.252,
          16.277,
          16.029,
          15.84,
          16.046,
          16.296,
          16.538,
          16.206,
          16.242,
          16.223,
          16.09,
          15.847999999999999,
          15.355,
          15.257,
          14.970999999999998,
          14.773,
          14.569,
          14.960999999999999,
          15.185,
          15.265,
          15.434000000000001,
          15.257,
          15.14,
          15.604000000000001,
          15.57,
          15.679,
          15.84,
          15.663,
          15.392999999999999,
          15.577,
          15.57,
          15.73,
          15.663,
          15.679,
          15.679,
          15.769,
          15.517000000000001,
          15.309000000000001,
          15.407,
          15.04,
          15.177,
          14.944,
          14.794,
          14.747,
          14.899000000000001,
          14.960999999999999,
          14.747,
          14.970999999999998,
          14.952,
          14.960999999999999,
          14.989,
          14.755999999999998,
          14.610999999999999,
          14.765,
          14.719000000000001,
          14.684000000000001,
          14.738,
          14.700999999999999,
          14.515,
          14.56,
          14.610999999999999,
          14.693,
          14.399000000000001,
          14.238,
          14.283,
          13.985999999999999,
          13.905999999999999,
          13.978,
          14.020999999999999,
          14.068,
          13.853,
          13.915,
          13.905999999999999,
          14.113,
          13.978,
          14.138,
          14.120999999999999,
          14.05,
          14.04,
          13.95,
          13.818,
          13.862,
          13.889000000000001,
          13.773,
          13.754000000000001,
          13.87,
          13.681,
          13.783,
          13.773,
          13.95,
          14.05,
          14.155,
          13.95,
          14.283,
          14.382,
          14.415,
          14.382,
          14.352,
          14.328,
          14.113,
          14.45,
          14.495,
          14.299000000000001,
          14.155,
          14.290999999999999,
          14.265999999999998,
          14.087,
          14.290999999999999,
          14.692,
          14.595,
          14.434000000000001,
          14.595,
          14.442,
          14.522,
          14.815999999999999,
          14.799000000000001,
          14.850999999999999,
          14.575999999999999,
          14.628,
          14.569,
          14.692,
          14.228,
          14.069,
          14.155,
          13.775,
          13.498,
          13.745999999999999,
          13.544,
          13.925,
          14.122,
          14.014000000000001,
          14.333,
          13.729000000000001,
          13.595,
          13.700999999999999,
          13.544,
          14.290999999999999,
          14.655,
          14.859000000000002,
          15.129000000000001,
          15.402999999999999,
          15.094000000000001,
          15.017999999999999,
          15.488,
          15.949000000000002
         ]
        },
        {
         "line": {
          "color": "rgba(55, 128, 191, 1.0)",
          "dash": "solid",
          "shape": "linear",
          "width": 1.3
         },
         "mode": "lines",
         "name": "SMA(14)",
         "text": "",
         "type": "scatter",
         "x": [
          "2015-12-31",
          "2015-12-30",
          "2015-12-29",
          "2015-12-28",
          "2015-12-24",
          "2015-12-23",
          "2015-12-22",
          "2015-12-21",
          "2015-12-18",
          "2015-12-17",
          "2015-12-16",
          "2015-12-15",
          "2015-12-14",
          "2015-12-11",
          "2015-12-10",
          "2015-12-09",
          "2015-12-08",
          "2015-12-07",
          "2015-12-04",
          "2015-12-03",
          "2015-12-02",
          "2015-12-01",
          "2015-11-30",
          "2015-11-27",
          "2015-11-25",
          "2015-11-24",
          "2015-11-23",
          "2015-11-20",
          "2015-11-19",
          "2015-11-18",
          "2015-11-17",
          "2015-11-16",
          "2015-11-13",
          "2015-11-12",
          "2015-11-11",
          "2015-11-10",
          "2015-11-09",
          "2015-11-06",
          "2015-11-05",
          "2015-11-04",
          "2015-11-03",
          "2015-11-02",
          "2015-10-30",
          "2015-10-29",
          "2015-10-28",
          "2015-10-27",
          "2015-10-26",
          "2015-10-23",
          "2015-10-22",
          "2015-10-21",
          "2015-10-20",
          "2015-10-19",
          "2015-10-16",
          "2015-10-15",
          "2015-10-14",
          "2015-10-13",
          "2015-10-12",
          "2015-10-09",
          "2015-10-08",
          "2015-10-07",
          "2015-10-06",
          "2015-10-05",
          "2015-10-02",
          "2015-10-01",
          "2015-09-30",
          "2015-09-29",
          "2015-09-28",
          "2015-09-25",
          "2015-09-24",
          "2015-09-23",
          "2015-09-22",
          "2015-09-21",
          "2015-09-18",
          "2015-09-17",
          "2015-09-16",
          "2015-09-15",
          "2015-09-14",
          "2015-09-11",
          "2015-09-10",
          "2015-09-09",
          "2015-09-08",
          "2015-09-04",
          "2015-09-03",
          "2015-09-02",
          "2015-09-01",
          "2015-08-31",
          "2015-08-28",
          "2015-08-27",
          "2015-08-26",
          "2015-08-25",
          "2015-08-24",
          "2015-08-21",
          "2015-08-20",
          "2015-08-19",
          "2015-08-18",
          "2015-08-17",
          "2015-08-14",
          "2015-08-13",
          "2015-08-12",
          "2015-08-11",
          "2015-08-10",
          "2015-08-07",
          "2015-08-06",
          "2015-08-05",
          "2015-08-04",
          "2015-08-03",
          "2015-07-31",
          "2015-07-30",
          "2015-07-29",
          "2015-07-28",
          "2015-07-27",
          "2015-07-24",
          "2015-07-23",
          "2015-07-22",
          "2015-07-21",
          "2015-07-20",
          "2015-07-17",
          "2015-07-16",
          "2015-07-15",
          "2015-07-14",
          "2015-07-13",
          "2015-07-10",
          "2015-07-09",
          "2015-07-08",
          "2015-07-07",
          "2015-07-06",
          "2015-07-02",
          "2015-07-01",
          "2015-06-30",
          "2015-06-29",
          "2015-06-26",
          "2015-06-25",
          "2015-06-24",
          "2015-06-23",
          "2015-06-22",
          "2015-06-19",
          "2015-06-18",
          "2015-06-17",
          "2015-06-16",
          "2015-06-15",
          "2015-06-12",
          "2015-06-11",
          "2015-06-10",
          "2015-06-09",
          "2015-06-08",
          "2015-06-05",
          "2015-06-04",
          "2015-06-03",
          "2015-06-02",
          "2015-06-01",
          "2015-05-29",
          "2015-05-28",
          "2015-05-27",
          "2015-05-26",
          "2015-05-22",
          "2015-05-21",
          "2015-05-20",
          "2015-05-19",
          "2015-05-18",
          "2015-05-15",
          "2015-05-14",
          "2015-05-13",
          "2015-05-12",
          "2015-05-11",
          "2015-05-08",
          "2015-05-07",
          "2015-05-06",
          "2015-05-05",
          "2015-05-04",
          "2015-05-01",
          "2015-04-30",
          "2015-04-29",
          "2015-04-28",
          "2015-04-27",
          "2015-04-24",
          "2015-04-23",
          "2015-04-22",
          "2015-04-21",
          "2015-04-20",
          "2015-04-17",
          "2015-04-16",
          "2015-04-15",
          "2015-04-14",
          "2015-04-13",
          "2015-04-10",
          "2015-04-09",
          "2015-04-08",
          "2015-04-07",
          "2015-04-06",
          "2015-04-02",
          "2015-04-01",
          "2015-03-31",
          "2015-03-30",
          "2015-03-27",
          "2015-03-26",
          "2015-03-25",
          "2015-03-24",
          "2015-03-23",
          "2015-03-20",
          "2015-03-19",
          "2015-03-18",
          "2015-03-17",
          "2015-03-16",
          "2015-03-13",
          "2015-03-12",
          "2015-03-11",
          "2015-03-10",
          "2015-03-09",
          "2015-03-06",
          "2015-03-05",
          "2015-03-04",
          "2015-03-03",
          "2015-03-02",
          "2015-02-27",
          "2015-02-26",
          "2015-02-25",
          "2015-02-24",
          "2015-02-23",
          "2015-02-20",
          "2015-02-19",
          "2015-02-18",
          "2015-02-17",
          "2015-02-13",
          "2015-02-12",
          "2015-02-11",
          "2015-02-10",
          "2015-02-09",
          "2015-02-06",
          "2015-02-05",
          "2015-02-04",
          "2015-02-03",
          "2015-02-02",
          "2015-01-30",
          "2015-01-29",
          "2015-01-28",
          "2015-01-27",
          "2015-01-26",
          "2015-01-23",
          "2015-01-22",
          "2015-01-21",
          "2015-01-20",
          "2015-01-16",
          "2015-01-15",
          "2015-01-14",
          "2015-01-13",
          "2015-01-12",
          "2015-01-09",
          "2015-01-08",
          "2015-01-07",
          "2015-01-06",
          "2015-01-05",
          "2015-01-02"
         ],
         "y": [
          "",
          "",
          "",
          "",
          "",
          "",
          "",
          "",
          "",
          "",
          "",
          "",
          "",
          15.440714285714288,
          15.464714285714289,
          15.467714285714289,
          15.462214285714287,
          15.488857142857144,
          15.523,
          15.520285714285714,
          15.554928571428572,
          15.605857142857143,
          15.64585714285714,
          15.65435714285714,
          15.631142857142853,
          15.631214285714282,
          15.671142857142854,
          15.726999999999999,
          15.755142857142856,
          15.799785714285713,
          15.81142857142857,
          15.801142857142855,
          15.7595,
          15.760857142857143,
          15.766285714285713,
          15.768785714285713,
          15.784571428571427,
          15.814785714285714,
          15.80642857142857,
          15.777,
          15.75842857142857,
          15.720785714285713,
          15.662499999999998,
          15.614285714285712,
          15.605214285714283,
          15.538999999999998,
          15.494499999999999,
          15.439999999999998,
          15.337928571428568,
          15.212642857142855,
          15.11792857142857,
          15.001785714285713,
          14.925357142857141,
          14.872785714285714,
          14.77392857142857,
          14.67492857142857,
          14.593928571428568,
          14.49685714285714,
          14.39842857142857,
          14.356499999999999,
          14.304071428571428,
          14.25092857142857,
          14.200714285714284,
          14.178285714285712,
          14.138214285714284,
          14.0875,
          14.045785714285714,
          14.02642857142857,
          14.020642857142857,
          14.033428571428571,
          14.03657142857143,
          14.044357142857143,
          14.032214285714286,
          14.03957142857143,
          14.08057142857143,
          14.120142857142858,
          14.157285714285717,
          14.188785714285716,
          14.218428571428575,
          14.253571428571432,
          14.298000000000002,
          14.282642857142859,
          14.307500000000001,
          14.316142857142859,
          14.313642857142858,
          14.351214285714288,
          14.399214285714288,
          14.432928571428574,
          14.412285714285716,
          14.341785714285717,
          14.29564285714286,
          14.296214285714287,
          14.336500000000001,
          14.433285714285715,
          14.527642857142856,
          14.66007142857143,
          14.769500000000003,
          14.879500000000002,
          15.003642857142859,
          15.096714285714286,
          15.204428571428574,
          15.288214285714288,
          15.400285714285717,
          15.567500000000004,
          15.728285714285716,
          15.83514285714286,
          15.909428571428574,
          15.95221428571429,
          15.982357142857149,
          15.989500000000005,
          15.98778571428572,
          16.005571428571432,
          16.047857142857147,
          16.090000000000003,
          16.092428571428574,
          16.116142857142858,
          16.134500000000003,
          16.1395,
          16.13178571428572,
          16.09078571428572,
          16.03564285714286,
          15.944142857142861,
          15.83671428571429,
          15.732428571428574,
          15.66964285714286,
          15.60814285714286,
          15.534500000000005,
          15.45564285714286,
          15.387857142857147,
          15.309142857142861,
          15.264928571428575,
          15.227785714285718,
          15.215714285714288,
          15.250357142857146,
          15.279357142857148,
          15.309500000000003,
          15.366928571428575,
          15.438428571428576,
          15.493357142857146,
          15.527500000000003,
          15.557071428571431,
          15.574571428571431,
          15.61114285714286,
          15.638071428571433,
          15.617000000000003,
          15.605357142857146,
          15.55971428571429,
          15.512357142857145,
          15.461,
          15.418214285714287,
          15.358928571428574,
          15.311000000000003,
          15.256071428571433,
          15.19064285714286,
          15.140071428571432,
          15.08814285714286,
          15.030428571428574,
          14.992714285714289,
          14.95321428571429,
          14.896357142857145,
          14.876714285714288,
          14.844000000000003,
          14.825428571428574,
          14.821428571428573,
          14.818142857142858,
          14.790714285714285,
          14.762071428571428,
          14.75235714285714,
          14.732499999999998,
          14.692999999999998,
          14.641357142857142,
          14.590928571428568,
          14.535928571428569,
          14.485571428571427,
          14.42935714285714,
          14.379499999999997,
          14.335499999999998,
          14.272285714285713,
          14.216142857142856,
          14.172642857142856,
          14.140714285714283,
          14.0955,
          14.05585714285714,
          14.036,
          14.022571428571428,
          14.005214285714287,
          14.002642857142858,
          13.996357142857144,
          13.988071428571429,
          13.978642857142859,
          13.957571428571429,
          13.9505,
          13.947285714285714,
          13.931214285714287,
          13.907642857142857,
          13.892999999999999,
          13.879571428571426,
          13.874499999999998,
          13.881999999999996,
          13.875571428571424,
          13.89935714285714,
          13.939642857142854,
          13.979142857142852,
          14.014357142857138,
          14.055714285714282,
          14.096714285714283,
          14.114071428571425,
          14.168999999999995,
          14.219857142857139,
          14.257428571428568,
          14.272071428571426,
          14.289285714285711,
          14.297214285714281,
          14.306999999999997,
          14.307571428571425,
          14.329714285714283,
          14.342571428571427,
          14.346285714285711,
          14.363642857142853,
          14.37178571428571,
          14.400999999999996,
          14.427142857142854,
          14.44885714285714,
          14.48828571428571,
          14.51835714285714,
          14.542428571428568,
          14.564071428571424,
          14.60728571428571,
          14.602785714285712,
          14.558285714285711,
          14.52685714285714,
          14.479785714285711,
          14.401428571428568,
          14.351714285714282,
          14.28185714285714,
          14.218214285714284,
          14.16985714285714,
          14.110071428571427,
          14.092714285714283,
          14.0285,
          13.958928571428572,
          13.888142857142856,
          13.839285714285714,
          13.855142857142857,
          13.890857142857143,
          13.968285714285715,
          14.084785714285715,
          14.203142857142856,
          14.313857142857142,
          14.391928571428569,
          14.489499999999996,
          14.627714285714282
         ]
        },
        {
         "line": {
          "color": "rgba(55, 128, 191, 0.8999999999999999)",
          "dash": "solid",
          "shape": "linear",
          "width": 1.3
         },
         "mode": "lines",
         "name": "UPPER(14)",
         "text": "",
         "type": "scatter",
         "x": [
          "2015-12-31",
          "2015-12-30",
          "2015-12-29",
          "2015-12-28",
          "2015-12-24",
          "2015-12-23",
          "2015-12-22",
          "2015-12-21",
          "2015-12-18",
          "2015-12-17",
          "2015-12-16",
          "2015-12-15",
          "2015-12-14",
          "2015-12-11",
          "2015-12-10",
          "2015-12-09",
          "2015-12-08",
          "2015-12-07",
          "2015-12-04",
          "2015-12-03",
          "2015-12-02",
          "2015-12-01",
          "2015-11-30",
          "2015-11-27",
          "2015-11-25",
          "2015-11-24",
          "2015-11-23",
          "2015-11-20",
          "2015-11-19",
          "2015-11-18",
          "2015-11-17",
          "2015-11-16",
          "2015-11-13",
          "2015-11-12",
          "2015-11-11",
          "2015-11-10",
          "2015-11-09",
          "2015-11-06",
          "2015-11-05",
          "2015-11-04",
          "2015-11-03",
          "2015-11-02",
          "2015-10-30",
          "2015-10-29",
          "2015-10-28",
          "2015-10-27",
          "2015-10-26",
          "2015-10-23",
          "2015-10-22",
          "2015-10-21",
          "2015-10-20",
          "2015-10-19",
          "2015-10-16",
          "2015-10-15",
          "2015-10-14",
          "2015-10-13",
          "2015-10-12",
          "2015-10-09",
          "2015-10-08",
          "2015-10-07",
          "2015-10-06",
          "2015-10-05",
          "2015-10-02",
          "2015-10-01",
          "2015-09-30",
          "2015-09-29",
          "2015-09-28",
          "2015-09-25",
          "2015-09-24",
          "2015-09-23",
          "2015-09-22",
          "2015-09-21",
          "2015-09-18",
          "2015-09-17",
          "2015-09-16",
          "2015-09-15",
          "2015-09-14",
          "2015-09-11",
          "2015-09-10",
          "2015-09-09",
          "2015-09-08",
          "2015-09-04",
          "2015-09-03",
          "2015-09-02",
          "2015-09-01",
          "2015-08-31",
          "2015-08-28",
          "2015-08-27",
          "2015-08-26",
          "2015-08-25",
          "2015-08-24",
          "2015-08-21",
          "2015-08-20",
          "2015-08-19",
          "2015-08-18",
          "2015-08-17",
          "2015-08-14",
          "2015-08-13",
          "2015-08-12",
          "2015-08-11",
          "2015-08-10",
          "2015-08-07",
          "2015-08-06",
          "2015-08-05",
          "2015-08-04",
          "2015-08-03",
          "2015-07-31",
          "2015-07-30",
          "2015-07-29",
          "2015-07-28",
          "2015-07-27",
          "2015-07-24",
          "2015-07-23",
          "2015-07-22",
          "2015-07-21",
          "2015-07-20",
          "2015-07-17",
          "2015-07-16",
          "2015-07-15",
          "2015-07-14",
          "2015-07-13",
          "2015-07-10",
          "2015-07-09",
          "2015-07-08",
          "2015-07-07",
          "2015-07-06",
          "2015-07-02",
          "2015-07-01",
          "2015-06-30",
          "2015-06-29",
          "2015-06-26",
          "2015-06-25",
          "2015-06-24",
          "2015-06-23",
          "2015-06-22",
          "2015-06-19",
          "2015-06-18",
          "2015-06-17",
          "2015-06-16",
          "2015-06-15",
          "2015-06-12",
          "2015-06-11",
          "2015-06-10",
          "2015-06-09",
          "2015-06-08",
          "2015-06-05",
          "2015-06-04",
          "2015-06-03",
          "2015-06-02",
          "2015-06-01",
          "2015-05-29",
          "2015-05-28",
          "2015-05-27",
          "2015-05-26",
          "2015-05-22",
          "2015-05-21",
          "2015-05-20",
          "2015-05-19",
          "2015-05-18",
          "2015-05-15",
          "2015-05-14",
          "2015-05-13",
          "2015-05-12",
          "2015-05-11",
          "2015-05-08",
          "2015-05-07",
          "2015-05-06",
          "2015-05-05",
          "2015-05-04",
          "2015-05-01",
          "2015-04-30",
          "2015-04-29",
          "2015-04-28",
          "2015-04-27",
          "2015-04-24",
          "2015-04-23",
          "2015-04-22",
          "2015-04-21",
          "2015-04-20",
          "2015-04-17",
          "2015-04-16",
          "2015-04-15",
          "2015-04-14",
          "2015-04-13",
          "2015-04-10",
          "2015-04-09",
          "2015-04-08",
          "2015-04-07",
          "2015-04-06",
          "2015-04-02",
          "2015-04-01",
          "2015-03-31",
          "2015-03-30",
          "2015-03-27",
          "2015-03-26",
          "2015-03-25",
          "2015-03-24",
          "2015-03-23",
          "2015-03-20",
          "2015-03-19",
          "2015-03-18",
          "2015-03-17",
          "2015-03-16",
          "2015-03-13",
          "2015-03-12",
          "2015-03-11",
          "2015-03-10",
          "2015-03-09",
          "2015-03-06",
          "2015-03-05",
          "2015-03-04",
          "2015-03-03",
          "2015-03-02",
          "2015-02-27",
          "2015-02-26",
          "2015-02-25",
          "2015-02-24",
          "2015-02-23",
          "2015-02-20",
          "2015-02-19",
          "2015-02-18",
          "2015-02-17",
          "2015-02-13",
          "2015-02-12",
          "2015-02-11",
          "2015-02-10",
          "2015-02-09",
          "2015-02-06",
          "2015-02-05",
          "2015-02-04",
          "2015-02-03",
          "2015-02-02",
          "2015-01-30",
          "2015-01-29",
          "2015-01-28",
          "2015-01-27",
          "2015-01-26",
          "2015-01-23",
          "2015-01-22",
          "2015-01-21",
          "2015-01-20",
          "2015-01-16",
          "2015-01-15",
          "2015-01-14",
          "2015-01-13",
          "2015-01-12",
          "2015-01-09",
          "2015-01-08",
          "2015-01-07",
          "2015-01-06",
          "2015-01-05",
          "2015-01-02"
         ],
         "y": [
          "",
          "",
          "",
          "",
          "",
          "",
          "",
          "",
          "",
          "",
          "",
          "",
          "",
          15.967880543868453,
          15.970315179440025,
          15.971568616660432,
          15.962409434444448,
          16.024071180354355,
          16.13682432966795,
          16.13225274636477,
          16.19242920275771,
          16.270353647284068,
          16.247806722725166,
          16.25687780047573,
          16.199017088691654,
          16.199130410925324,
          16.167400145959142,
          16.10165471283056,
          16.11960482700051,
          16.13912913332305,
          16.116511374096156,
          16.114576306973152,
          16.08407949127115,
          16.08271124945524,
          16.099662312210565,
          16.11067744575044,
          16.12841102828278,
          16.20501576759464,
          16.213465681273856,
          16.26575288706603,
          16.277151686712305,
          16.279571308820266,
          16.30201363731173,
          16.23128412025369,
          16.22260840174187,
          16.304713744464294,
          16.34541037221229,
          16.35209918488995,
          16.315398292159113,
          16.243998233377404,
          16.121732862585493,
          15.861038047089398,
          15.758373019386186,
          15.697625159202184,
          15.632343376765697,
          15.569555769861427,
          15.530635557642494,
          15.366858330174756,
          15.042521118188121,
          14.978324981560167,
          14.869308731649706,
          14.725215381304173,
          14.69436344706827,
          14.68133758717079,
          14.59363103725337,
          14.519205562053225,
          14.415928454794894,
          14.294881362620801,
          14.289006109405221,
          14.305757235176806,
          14.306101748584952,
          14.316861886237572,
          14.29718357690616,
          14.324994422939936,
          14.529109370906617,
          14.667492194132766,
          14.69050492368718,
          14.7299526463424,
          14.762863756119707,
          14.744183425844355,
          14.76756936081412,
          14.767164259158275,
          14.760718066039528,
          14.75978641270926,
          14.765259172950083,
          14.820259258838593,
          14.846962277040054,
          14.907424880426593,
          14.86395164159273,
          14.914702772893637,
          14.961829066797536,
          14.96289200906582,
          15.098105086440674,
          15.468910068092535,
          15.81332318758581,
          16.115624078420794,
          16.344274953396884,
          16.514071456423316,
          16.60296821628514,
          16.756640035410786,
          16.937497297357005,
          17.03728211279712,
          17.10383990453646,
          16.9775286412803,
          16.653435990169058,
          16.385484768848855,
          16.17470835323893,
          16.232150738471706,
          16.304847077958613,
          16.311328191144554,
          16.312734163282606,
          16.312282732855792,
          16.33826996005982,
          16.474110561006743,
          16.479193229972875,
          16.4953629938549,
          16.507237688750916,
          16.507468853196933,
          16.520281969942488,
          16.653542761780887,
          16.75420364399084,
          16.846705655177203,
          16.91041713203527,
          16.99302567397364,
          16.993150227066323,
          16.936324461301844,
          16.811743365762602,
          16.594862457002012,
          16.444704954371765,
          16.249706307631737,
          16.068685313919012,
          15.905472357811412,
          15.850471866853042,
          15.965686268673853,
          16.02799019753039,
          16.038372152976475,
          16.038122439689566,
          15.933669127917192,
          15.927280643483181,
          15.931066980428602,
          15.937807124730355,
          15.953457012507053,
          15.955225903596904,
          15.860998066087541,
          15.901158135821941,
          15.910400501331647,
          15.984868323733345,
          15.950524379734206,
          15.983532295652576,
          16.051160110870253,
          16.077500858584212,
          16.05788028079881,
          15.983056123907378,
          15.92470997088143,
          15.825125705718367,
          15.7039344588258,
          15.507071778925223,
          15.37838646900857,
          15.311658941733201,
          15.191705289071862,
          15.167452792143727,
          15.088595741833377,
          15.07670802271201,
          15.076615639205098,
          15.07858846007724,
          15.092135972006055,
          15.069930001781337,
          15.070669623235737,
          15.02575625444169,
          15.00712687294727,
          15.000226827491256,
          14.937570008239318,
          14.995647859881597,
          15.05194543617016,
          15.031364353211478,
          14.993666978046688,
          14.943930894881316,
          14.884461369606111,
          14.802578167834747,
          14.75390864152022,
          14.67774797815183,
          14.56421460892029,
          14.377775295037493,
          14.29486022364305,
          14.254383971254022,
          14.183158405847614,
          14.182809629700895,
          14.196122554728502,
          14.200347684405948,
          14.196277140560234,
          14.194229850756487,
          14.20580042634555,
          14.205626489317199,
          14.226037495917684,
          14.192456001980728,
          14.183258240457969,
          14.136482924000155,
          14.113027211800121,
          14.149180146659774,
          14.13042186952191,
          14.23384697909938,
          14.357411734830919,
          14.464408118238559,
          14.541212900167334,
          14.591776525826974,
          14.621046199719018,
          14.621902693271133,
          14.640073406005966,
          14.66440625385369,
          14.620787867472979,
          14.596499886287045,
          14.587469373303783,
          14.585764165227241,
          14.550620133056935,
          14.550986508422309,
          14.647372475085557,
          14.68841951819867,
          14.695062414787763,
          14.736966892217943,
          14.746730369542197,
          14.752060809985394,
          14.842538021843954,
          14.908913899986224,
          14.986086062631408,
          14.978899035810153,
          14.98672210869043,
          14.978902229508991,
          14.922001144790336,
          14.938109372925936,
          14.993179461571735,
          15.011115088833938,
          15.109264218138778,
          15.215244167356621,
          15.236769843664884,
          15.258647131195776,
          15.160587453208507,
          15.051363845006348,
          14.901510415688929,
          14.850060026725929,
          14.741487107446215,
          14.633786716880948,
          14.42569964177421,
          14.368045324387154,
          14.425274748573495,
          14.589958481232763,
          14.832685703098328,
          15.102238999116569,
          15.417319591748264,
          15.551569886253098,
          15.66145991179624,
          15.874394941863786,
          16.183831826968063
         ]
        },
        {
         "line": {
          "color": "rgba(55, 128, 191, 0.7999999999999998)",
          "dash": "solid",
          "shape": "linear",
          "width": 1.3
         },
         "mode": "lines",
         "name": "LOWER(14)",
         "text": "",
         "type": "scatter",
         "x": [
          "2015-12-31",
          "2015-12-30",
          "2015-12-29",
          "2015-12-28",
          "2015-12-24",
          "2015-12-23",
          "2015-12-22",
          "2015-12-21",
          "2015-12-18",
          "2015-12-17",
          "2015-12-16",
          "2015-12-15",
          "2015-12-14",
          "2015-12-11",
          "2015-12-10",
          "2015-12-09",
          "2015-12-08",
          "2015-12-07",
          "2015-12-04",
          "2015-12-03",
          "2015-12-02",
          "2015-12-01",
          "2015-11-30",
          "2015-11-27",
          "2015-11-25",
          "2015-11-24",
          "2015-11-23",
          "2015-11-20",
          "2015-11-19",
          "2015-11-18",
          "2015-11-17",
          "2015-11-16",
          "2015-11-13",
          "2015-11-12",
          "2015-11-11",
          "2015-11-10",
          "2015-11-09",
          "2015-11-06",
          "2015-11-05",
          "2015-11-04",
          "2015-11-03",
          "2015-11-02",
          "2015-10-30",
          "2015-10-29",
          "2015-10-28",
          "2015-10-27",
          "2015-10-26",
          "2015-10-23",
          "2015-10-22",
          "2015-10-21",
          "2015-10-20",
          "2015-10-19",
          "2015-10-16",
          "2015-10-15",
          "2015-10-14",
          "2015-10-13",
          "2015-10-12",
          "2015-10-09",
          "2015-10-08",
          "2015-10-07",
          "2015-10-06",
          "2015-10-05",
          "2015-10-02",
          "2015-10-01",
          "2015-09-30",
          "2015-09-29",
          "2015-09-28",
          "2015-09-25",
          "2015-09-24",
          "2015-09-23",
          "2015-09-22",
          "2015-09-21",
          "2015-09-18",
          "2015-09-17",
          "2015-09-16",
          "2015-09-15",
          "2015-09-14",
          "2015-09-11",
          "2015-09-10",
          "2015-09-09",
          "2015-09-08",
          "2015-09-04",
          "2015-09-03",
          "2015-09-02",
          "2015-09-01",
          "2015-08-31",
          "2015-08-28",
          "2015-08-27",
          "2015-08-26",
          "2015-08-25",
          "2015-08-24",
          "2015-08-21",
          "2015-08-20",
          "2015-08-19",
          "2015-08-18",
          "2015-08-17",
          "2015-08-14",
          "2015-08-13",
          "2015-08-12",
          "2015-08-11",
          "2015-08-10",
          "2015-08-07",
          "2015-08-06",
          "2015-08-05",
          "2015-08-04",
          "2015-08-03",
          "2015-07-31",
          "2015-07-30",
          "2015-07-29",
          "2015-07-28",
          "2015-07-27",
          "2015-07-24",
          "2015-07-23",
          "2015-07-22",
          "2015-07-21",
          "2015-07-20",
          "2015-07-17",
          "2015-07-16",
          "2015-07-15",
          "2015-07-14",
          "2015-07-13",
          "2015-07-10",
          "2015-07-09",
          "2015-07-08",
          "2015-07-07",
          "2015-07-06",
          "2015-07-02",
          "2015-07-01",
          "2015-06-30",
          "2015-06-29",
          "2015-06-26",
          "2015-06-25",
          "2015-06-24",
          "2015-06-23",
          "2015-06-22",
          "2015-06-19",
          "2015-06-18",
          "2015-06-17",
          "2015-06-16",
          "2015-06-15",
          "2015-06-12",
          "2015-06-11",
          "2015-06-10",
          "2015-06-09",
          "2015-06-08",
          "2015-06-05",
          "2015-06-04",
          "2015-06-03",
          "2015-06-02",
          "2015-06-01",
          "2015-05-29",
          "2015-05-28",
          "2015-05-27",
          "2015-05-26",
          "2015-05-22",
          "2015-05-21",
          "2015-05-20",
          "2015-05-19",
          "2015-05-18",
          "2015-05-15",
          "2015-05-14",
          "2015-05-13",
          "2015-05-12",
          "2015-05-11",
          "2015-05-08",
          "2015-05-07",
          "2015-05-06",
          "2015-05-05",
          "2015-05-04",
          "2015-05-01",
          "2015-04-30",
          "2015-04-29",
          "2015-04-28",
          "2015-04-27",
          "2015-04-24",
          "2015-04-23",
          "2015-04-22",
          "2015-04-21",
          "2015-04-20",
          "2015-04-17",
          "2015-04-16",
          "2015-04-15",
          "2015-04-14",
          "2015-04-13",
          "2015-04-10",
          "2015-04-09",
          "2015-04-08",
          "2015-04-07",
          "2015-04-06",
          "2015-04-02",
          "2015-04-01",
          "2015-03-31",
          "2015-03-30",
          "2015-03-27",
          "2015-03-26",
          "2015-03-25",
          "2015-03-24",
          "2015-03-23",
          "2015-03-20",
          "2015-03-19",
          "2015-03-18",
          "2015-03-17",
          "2015-03-16",
          "2015-03-13",
          "2015-03-12",
          "2015-03-11",
          "2015-03-10",
          "2015-03-09",
          "2015-03-06",
          "2015-03-05",
          "2015-03-04",
          "2015-03-03",
          "2015-03-02",
          "2015-02-27",
          "2015-02-26",
          "2015-02-25",
          "2015-02-24",
          "2015-02-23",
          "2015-02-20",
          "2015-02-19",
          "2015-02-18",
          "2015-02-17",
          "2015-02-13",
          "2015-02-12",
          "2015-02-11",
          "2015-02-10",
          "2015-02-09",
          "2015-02-06",
          "2015-02-05",
          "2015-02-04",
          "2015-02-03",
          "2015-02-02",
          "2015-01-30",
          "2015-01-29",
          "2015-01-28",
          "2015-01-27",
          "2015-01-26",
          "2015-01-23",
          "2015-01-22",
          "2015-01-21",
          "2015-01-20",
          "2015-01-16",
          "2015-01-15",
          "2015-01-14",
          "2015-01-13",
          "2015-01-12",
          "2015-01-09",
          "2015-01-08",
          "2015-01-07",
          "2015-01-06",
          "2015-01-05",
          "2015-01-02"
         ],
         "y": [
          "",
          "",
          "",
          "",
          "",
          "",
          "",
          "",
          "",
          "",
          "",
          "",
          "",
          14.913548027560122,
          14.959113391988552,
          14.963859954768145,
          14.962019136984127,
          14.953643105359934,
          14.90917567033205,
          14.90831868220666,
          14.917427940099431,
          14.941360638430218,
          15.043907562989114,
          15.05183648523855,
          15.063268625594054,
          15.06329816050324,
          15.174885568326566,
          15.35234528716944,
          15.390680887285201,
          15.460442295248377,
          15.506345768760983,
          15.487709407312558,
          15.434920508728847,
          15.439003036259045,
          15.43290911636086,
          15.426893982820985,
          15.440731828860073,
          15.424555660976788,
          15.399391461583287,
          15.288247112933972,
          15.239705456144836,
          15.162000119751161,
          15.022986362688263,
          14.997287308317734,
          14.987820169686694,
          14.773286255535703,
          14.64358962778771,
          14.527900815110044,
          14.360458850698022,
          14.181287480908304,
          14.114124280271646,
          14.142533381482028,
          14.092341266328097,
          14.047946269369243,
          13.915513766091443,
          13.780301372995712,
          13.657221585214643,
          13.626855955539524,
          13.754336024669017,
          13.73467501843983,
          13.738834125493149,
          13.776641761552968,
          13.707065124360298,
          13.675233841400635,
          13.682797534175197,
          13.655794437946776,
          13.675642973776533,
          13.757975780236338,
          13.752279604880492,
          13.761099907680336,
          13.767041108557907,
          13.771852399476714,
          13.767244994522411,
          13.754148434202923,
          13.632033486236242,
          13.572793520152949,
          13.624066504884253,
          13.647618782229031,
          13.673993386737443,
          13.762959431298508,
          13.828430639185884,
          13.798121455127443,
          13.854281933960474,
          13.872499301576457,
          13.862026541335633,
          13.882169312589983,
          13.951466294388522,
          13.958432262430556,
          13.960619786978702,
          13.768868655677796,
          13.629456647488185,
          13.629536562362754,
          13.574894913559328,
          13.397661360478894,
          13.241962526699902,
          13.204518778722063,
          13.194725046603123,
          13.244928543576687,
          13.404317498000575,
          13.436788536017787,
          13.47135984550014,
          13.539146458631457,
          13.696731524034972,
          14.157471358719707,
          14.803135438402375,
          15.284800945436865,
          15.644148789618217,
          15.672277832956873,
          15.659867207755685,
          15.667671808855456,
          15.662837265288832,
          15.698860124287073,
          15.757444325654475,
          15.705889438993266,
          15.705663912884274,
          15.736922720430815,
          15.761762311249088,
          15.771531146803069,
          15.74328945862895,
          15.528028666790549,
          15.317082070294882,
          15.041580059108517,
          14.76301143939331,
          14.471831468883506,
          14.346135487219398,
          14.279961252983878,
          14.257256634237407,
          14.31642325728371,
          14.331009331342527,
          14.368579406653984,
          14.461171828938138,
          14.550099070760023,
          14.580956704575534,
          14.535028017040439,
          14.530724088183906,
          14.580627847023534,
          14.695734703167586,
          14.94318801493996,
          15.059433642231111,
          15.123933019571405,
          15.176335732412507,
          15.19568584463581,
          15.267059810688817,
          15.415144791055324,
          15.332841864178064,
          15.300313784382645,
          15.134560247695234,
          15.074189905980083,
          14.938467704347424,
          14.785268460558319,
          14.640356284272938,
          14.564119719201198,
          14.529086733235488,
          14.45657574340429,
          14.455017151424496,
          14.472351255459918,
          14.553785363931926,
          14.607042102420008,
          14.59476962969538,
          14.601008996642427,
          14.585975779284848,
          14.59940425816663,
          14.574149120145139,
          14.566241503652048,
          14.557697254208476,
          14.489292599422516,
          14.454212855361519,
          14.434044662478541,
          14.439243745558306,
          14.378873127052726,
          14.282487458223029,
          14.244287134617819,
          14.07620928297554,
          13.919197420972695,
          13.827349932502804,
          13.765333021953305,
          13.72706910511868,
          13.660110058965316,
          13.629707546450964,
          13.591377072765493,
          13.603680593276737,
          13.626785391079709,
          13.733938990676789,
          13.777139776356949,
          13.790758885888835,
          13.82727016558096,
          13.822476084584821,
          13.796591730985787,
          13.77579517273691,
          13.761008573725483,
          13.72091300638637,
          13.695199573654449,
          13.68894493925423,
          13.63639107551089,
          13.622829712304986,
          13.60274175954203,
          13.622659933142696,
          13.635972788199874,
          13.614819853340219,
          13.620720987620938,
          13.5648673066149,
          13.521873979454789,
          13.493877596047145,
          13.487501385546942,
          13.51965204560159,
          13.572382371709548,
          13.606240163871716,
          13.697926593994024,
          13.775308031860588,
          13.894069275384156,
          13.947642970855807,
          13.991102055267639,
          14.008664406201321,
          14.063379866943059,
          14.064156348720541,
          14.01205609634301,
          13.996723338944184,
          13.99750901378366,
          13.990318822067763,
          13.996841059029224,
          14.049939190014598,
          14.011747692441755,
          13.988800385728055,
          13.990485365940014,
          14.057815249904126,
          14.098135034166706,
          14.149240627633857,
          14.292570283781085,
          14.267462055645488,
          14.123391966999687,
          14.04259919688034,
          13.850307210432645,
          13.587612975500514,
          13.46665872776368,
          13.305067154518504,
          13.275841118220061,
          13.288350440707932,
          13.318632441453925,
          13.335368544702638,
          13.315512892553784,
          13.284070425976196,
          13.350586072511502,
          13.310526104184273,
          13.28501096571222,
          13.191755804481524,
          13.103885725473102,
          13.067332429454861,
          12.988966122537448,
          13.076144399461185,
          13.122397231060898,
          13.104605058136206,
          13.071596744460502
         ]
        }
       ],
       "layout": {
        "legend": {
         "bgcolor": "#F5F6F9",
         "font": {
          "color": "#4D5663"
         }
        },
        "paper_bgcolor": "#F5F6F9",
        "plot_bgcolor": "#F5F6F9",
        "template": {
         "data": {
          "bar": [
           {
            "error_x": {
             "color": "#2a3f5f"
            },
            "error_y": {
             "color": "#2a3f5f"
            },
            "marker": {
             "line": {
              "color": "#E5ECF6",
              "width": 0.5
             }
            },
            "type": "bar"
           }
          ],
          "barpolar": [
           {
            "marker": {
             "line": {
              "color": "#E5ECF6",
              "width": 0.5
             }
            },
            "type": "barpolar"
           }
          ],
          "carpet": [
           {
            "aaxis": {
             "endlinecolor": "#2a3f5f",
             "gridcolor": "white",
             "linecolor": "white",
             "minorgridcolor": "white",
             "startlinecolor": "#2a3f5f"
            },
            "baxis": {
             "endlinecolor": "#2a3f5f",
             "gridcolor": "white",
             "linecolor": "white",
             "minorgridcolor": "white",
             "startlinecolor": "#2a3f5f"
            },
            "type": "carpet"
           }
          ],
          "choropleth": [
           {
            "colorbar": {
             "outlinewidth": 0,
             "ticks": ""
            },
            "type": "choropleth"
           }
          ],
          "contour": [
           {
            "colorbar": {
             "outlinewidth": 0,
             "ticks": ""
            },
            "colorscale": [
             [
              0,
              "#0d0887"
             ],
             [
              0.1111111111111111,
              "#46039f"
             ],
             [
              0.2222222222222222,
              "#7201a8"
             ],
             [
              0.3333333333333333,
              "#9c179e"
             ],
             [
              0.4444444444444444,
              "#bd3786"
             ],
             [
              0.5555555555555556,
              "#d8576b"
             ],
             [
              0.6666666666666666,
              "#ed7953"
             ],
             [
              0.7777777777777778,
              "#fb9f3a"
             ],
             [
              0.8888888888888888,
              "#fdca26"
             ],
             [
              1,
              "#f0f921"
             ]
            ],
            "type": "contour"
           }
          ],
          "contourcarpet": [
           {
            "colorbar": {
             "outlinewidth": 0,
             "ticks": ""
            },
            "type": "contourcarpet"
           }
          ],
          "heatmap": [
           {
            "colorbar": {
             "outlinewidth": 0,
             "ticks": ""
            },
            "colorscale": [
             [
              0,
              "#0d0887"
             ],
             [
              0.1111111111111111,
              "#46039f"
             ],
             [
              0.2222222222222222,
              "#7201a8"
             ],
             [
              0.3333333333333333,
              "#9c179e"
             ],
             [
              0.4444444444444444,
              "#bd3786"
             ],
             [
              0.5555555555555556,
              "#d8576b"
             ],
             [
              0.6666666666666666,
              "#ed7953"
             ],
             [
              0.7777777777777778,
              "#fb9f3a"
             ],
             [
              0.8888888888888888,
              "#fdca26"
             ],
             [
              1,
              "#f0f921"
             ]
            ],
            "type": "heatmap"
           }
          ],
          "heatmapgl": [
           {
            "colorbar": {
             "outlinewidth": 0,
             "ticks": ""
            },
            "colorscale": [
             [
              0,
              "#0d0887"
             ],
             [
              0.1111111111111111,
              "#46039f"
             ],
             [
              0.2222222222222222,
              "#7201a8"
             ],
             [
              0.3333333333333333,
              "#9c179e"
             ],
             [
              0.4444444444444444,
              "#bd3786"
             ],
             [
              0.5555555555555556,
              "#d8576b"
             ],
             [
              0.6666666666666666,
              "#ed7953"
             ],
             [
              0.7777777777777778,
              "#fb9f3a"
             ],
             [
              0.8888888888888888,
              "#fdca26"
             ],
             [
              1,
              "#f0f921"
             ]
            ],
            "type": "heatmapgl"
           }
          ],
          "histogram": [
           {
            "marker": {
             "colorbar": {
              "outlinewidth": 0,
              "ticks": ""
             }
            },
            "type": "histogram"
           }
          ],
          "histogram2d": [
           {
            "colorbar": {
             "outlinewidth": 0,
             "ticks": ""
            },
            "colorscale": [
             [
              0,
              "#0d0887"
             ],
             [
              0.1111111111111111,
              "#46039f"
             ],
             [
              0.2222222222222222,
              "#7201a8"
             ],
             [
              0.3333333333333333,
              "#9c179e"
             ],
             [
              0.4444444444444444,
              "#bd3786"
             ],
             [
              0.5555555555555556,
              "#d8576b"
             ],
             [
              0.6666666666666666,
              "#ed7953"
             ],
             [
              0.7777777777777778,
              "#fb9f3a"
             ],
             [
              0.8888888888888888,
              "#fdca26"
             ],
             [
              1,
              "#f0f921"
             ]
            ],
            "type": "histogram2d"
           }
          ],
          "histogram2dcontour": [
           {
            "colorbar": {
             "outlinewidth": 0,
             "ticks": ""
            },
            "colorscale": [
             [
              0,
              "#0d0887"
             ],
             [
              0.1111111111111111,
              "#46039f"
             ],
             [
              0.2222222222222222,
              "#7201a8"
             ],
             [
              0.3333333333333333,
              "#9c179e"
             ],
             [
              0.4444444444444444,
              "#bd3786"
             ],
             [
              0.5555555555555556,
              "#d8576b"
             ],
             [
              0.6666666666666666,
              "#ed7953"
             ],
             [
              0.7777777777777778,
              "#fb9f3a"
             ],
             [
              0.8888888888888888,
              "#fdca26"
             ],
             [
              1,
              "#f0f921"
             ]
            ],
            "type": "histogram2dcontour"
           }
          ],
          "mesh3d": [
           {
            "colorbar": {
             "outlinewidth": 0,
             "ticks": ""
            },
            "type": "mesh3d"
           }
          ],
          "parcoords": [
           {
            "line": {
             "colorbar": {
              "outlinewidth": 0,
              "ticks": ""
             }
            },
            "type": "parcoords"
           }
          ],
          "pie": [
           {
            "automargin": true,
            "type": "pie"
           }
          ],
          "scatter": [
           {
            "marker": {
             "colorbar": {
              "outlinewidth": 0,
              "ticks": ""
             }
            },
            "type": "scatter"
           }
          ],
          "scatter3d": [
           {
            "line": {
             "colorbar": {
              "outlinewidth": 0,
              "ticks": ""
             }
            },
            "marker": {
             "colorbar": {
              "outlinewidth": 0,
              "ticks": ""
             }
            },
            "type": "scatter3d"
           }
          ],
          "scattercarpet": [
           {
            "marker": {
             "colorbar": {
              "outlinewidth": 0,
              "ticks": ""
             }
            },
            "type": "scattercarpet"
           }
          ],
          "scattergeo": [
           {
            "marker": {
             "colorbar": {
              "outlinewidth": 0,
              "ticks": ""
             }
            },
            "type": "scattergeo"
           }
          ],
          "scattergl": [
           {
            "marker": {
             "colorbar": {
              "outlinewidth": 0,
              "ticks": ""
             }
            },
            "type": "scattergl"
           }
          ],
          "scattermapbox": [
           {
            "marker": {
             "colorbar": {
              "outlinewidth": 0,
              "ticks": ""
             }
            },
            "type": "scattermapbox"
           }
          ],
          "scatterpolar": [
           {
            "marker": {
             "colorbar": {
              "outlinewidth": 0,
              "ticks": ""
             }
            },
            "type": "scatterpolar"
           }
          ],
          "scatterpolargl": [
           {
            "marker": {
             "colorbar": {
              "outlinewidth": 0,
              "ticks": ""
             }
            },
            "type": "scatterpolargl"
           }
          ],
          "scatterternary": [
           {
            "marker": {
             "colorbar": {
              "outlinewidth": 0,
              "ticks": ""
             }
            },
            "type": "scatterternary"
           }
          ],
          "surface": [
           {
            "colorbar": {
             "outlinewidth": 0,
             "ticks": ""
            },
            "colorscale": [
             [
              0,
              "#0d0887"
             ],
             [
              0.1111111111111111,
              "#46039f"
             ],
             [
              0.2222222222222222,
              "#7201a8"
             ],
             [
              0.3333333333333333,
              "#9c179e"
             ],
             [
              0.4444444444444444,
              "#bd3786"
             ],
             [
              0.5555555555555556,
              "#d8576b"
             ],
             [
              0.6666666666666666,
              "#ed7953"
             ],
             [
              0.7777777777777778,
              "#fb9f3a"
             ],
             [
              0.8888888888888888,
              "#fdca26"
             ],
             [
              1,
              "#f0f921"
             ]
            ],
            "type": "surface"
           }
          ],
          "table": [
           {
            "cells": {
             "fill": {
              "color": "#EBF0F8"
             },
             "line": {
              "color": "white"
             }
            },
            "header": {
             "fill": {
              "color": "#C8D4E3"
             },
             "line": {
              "color": "white"
             }
            },
            "type": "table"
           }
          ]
         },
         "layout": {
          "annotationdefaults": {
           "arrowcolor": "#2a3f5f",
           "arrowhead": 0,
           "arrowwidth": 1
          },
          "autotypenumbers": "strict",
          "coloraxis": {
           "colorbar": {
            "outlinewidth": 0,
            "ticks": ""
           }
          },
          "colorscale": {
           "diverging": [
            [
             0,
             "#8e0152"
            ],
            [
             0.1,
             "#c51b7d"
            ],
            [
             0.2,
             "#de77ae"
            ],
            [
             0.3,
             "#f1b6da"
            ],
            [
             0.4,
             "#fde0ef"
            ],
            [
             0.5,
             "#f7f7f7"
            ],
            [
             0.6,
             "#e6f5d0"
            ],
            [
             0.7,
             "#b8e186"
            ],
            [
             0.8,
             "#7fbc41"
            ],
            [
             0.9,
             "#4d9221"
            ],
            [
             1,
             "#276419"
            ]
           ],
           "sequential": [
            [
             0,
             "#0d0887"
            ],
            [
             0.1111111111111111,
             "#46039f"
            ],
            [
             0.2222222222222222,
             "#7201a8"
            ],
            [
             0.3333333333333333,
             "#9c179e"
            ],
            [
             0.4444444444444444,
             "#bd3786"
            ],
            [
             0.5555555555555556,
             "#d8576b"
            ],
            [
             0.6666666666666666,
             "#ed7953"
            ],
            [
             0.7777777777777778,
             "#fb9f3a"
            ],
            [
             0.8888888888888888,
             "#fdca26"
            ],
            [
             1,
             "#f0f921"
            ]
           ],
           "sequentialminus": [
            [
             0,
             "#0d0887"
            ],
            [
             0.1111111111111111,
             "#46039f"
            ],
            [
             0.2222222222222222,
             "#7201a8"
            ],
            [
             0.3333333333333333,
             "#9c179e"
            ],
            [
             0.4444444444444444,
             "#bd3786"
            ],
            [
             0.5555555555555556,
             "#d8576b"
            ],
            [
             0.6666666666666666,
             "#ed7953"
            ],
            [
             0.7777777777777778,
             "#fb9f3a"
            ],
            [
             0.8888888888888888,
             "#fdca26"
            ],
            [
             1,
             "#f0f921"
            ]
           ]
          },
          "colorway": [
           "#636efa",
           "#EF553B",
           "#00cc96",
           "#ab63fa",
           "#FFA15A",
           "#19d3f3",
           "#FF6692",
           "#B6E880",
           "#FF97FF",
           "#FECB52"
          ],
          "font": {
           "color": "#2a3f5f"
          },
          "geo": {
           "bgcolor": "white",
           "lakecolor": "white",
           "landcolor": "#E5ECF6",
           "showlakes": true,
           "showland": true,
           "subunitcolor": "white"
          },
          "hoverlabel": {
           "align": "left"
          },
          "hovermode": "closest",
          "mapbox": {
           "style": "light"
          },
          "paper_bgcolor": "white",
          "plot_bgcolor": "#E5ECF6",
          "polar": {
           "angularaxis": {
            "gridcolor": "white",
            "linecolor": "white",
            "ticks": ""
           },
           "bgcolor": "#E5ECF6",
           "radialaxis": {
            "gridcolor": "white",
            "linecolor": "white",
            "ticks": ""
           }
          },
          "scene": {
           "xaxis": {
            "backgroundcolor": "#E5ECF6",
            "gridcolor": "white",
            "gridwidth": 2,
            "linecolor": "white",
            "showbackground": true,
            "ticks": "",
            "zerolinecolor": "white"
           },
           "yaxis": {
            "backgroundcolor": "#E5ECF6",
            "gridcolor": "white",
            "gridwidth": 2,
            "linecolor": "white",
            "showbackground": true,
            "ticks": "",
            "zerolinecolor": "white"
           },
           "zaxis": {
            "backgroundcolor": "#E5ECF6",
            "gridcolor": "white",
            "gridwidth": 2,
            "linecolor": "white",
            "showbackground": true,
            "ticks": "",
            "zerolinecolor": "white"
           }
          },
          "shapedefaults": {
           "line": {
            "color": "#2a3f5f"
           }
          },
          "ternary": {
           "aaxis": {
            "gridcolor": "white",
            "linecolor": "white",
            "ticks": ""
           },
           "baxis": {
            "gridcolor": "white",
            "linecolor": "white",
            "ticks": ""
           },
           "bgcolor": "#E5ECF6",
           "caxis": {
            "gridcolor": "white",
            "linecolor": "white",
            "ticks": ""
           }
          },
          "title": {
           "x": 0.05
          },
          "xaxis": {
           "automargin": true,
           "gridcolor": "white",
           "linecolor": "white",
           "ticks": "",
           "title": {
            "standoff": 15
           },
           "zerolinecolor": "white",
           "zerolinewidth": 2
          },
          "yaxis": {
           "automargin": true,
           "gridcolor": "white",
           "linecolor": "white",
           "ticks": "",
           "title": {
            "standoff": 15
           },
           "zerolinecolor": "white",
           "zerolinewidth": 2
          }
         }
        },
        "title": {
         "font": {
          "color": "#4D5663"
         }
        },
        "xaxis": {
         "gridcolor": "#E1E5ED",
         "showgrid": true,
         "tickfont": {
          "color": "#4D5663"
         },
         "title": {
          "font": {
           "color": "#4D5663"
          },
          "text": ""
         },
         "zerolinecolor": "#E1E5ED"
        },
        "yaxis": {
         "gridcolor": "#E1E5ED",
         "showgrid": true,
         "tickfont": {
          "color": "#4D5663"
         },
         "title": {
          "font": {
           "color": "#4D5663"
          },
          "text": ""
         },
         "zerolinecolor": "#E1E5ED"
        }
       }
      },
      "text/html": [
       "<div>                            <div id=\"cf8f6212-fc7e-466a-89cf-3c8b10392279\" class=\"plotly-graph-div\" style=\"height:525px; width:100%;\"></div>            <script type=\"text/javascript\">                require([\"plotly\"], function(Plotly) {                    window.PLOTLYENV=window.PLOTLYENV || {};\n",
       "                    window.PLOTLYENV.BASE_URL='https://plot.ly';                                    if (document.getElementById(\"cf8f6212-fc7e-466a-89cf-3c8b10392279\")) {                    Plotly.newPlot(                        \"cf8f6212-fc7e-466a-89cf-3c8b10392279\",                        [{\"line\": {\"color\": \"rgba(255, 153, 51, 1.0)\", \"dash\": \"solid\", \"shape\": \"linear\", \"width\": 1.3}, \"mode\": \"lines\", \"name\": \"Close\", \"text\": \"\", \"type\": \"scatter\", \"x\": [\"2015-12-31\", \"2015-12-30\", \"2015-12-29\", \"2015-12-28\", \"2015-12-24\", \"2015-12-23\", \"2015-12-22\", \"2015-12-21\", \"2015-12-18\", \"2015-12-17\", \"2015-12-16\", \"2015-12-15\", \"2015-12-14\", \"2015-12-11\", \"2015-12-10\", \"2015-12-09\", \"2015-12-08\", \"2015-12-07\", \"2015-12-04\", \"2015-12-03\", \"2015-12-02\", \"2015-12-01\", \"2015-11-30\", \"2015-11-27\", \"2015-11-25\", \"2015-11-24\", \"2015-11-23\", \"2015-11-20\", \"2015-11-19\", \"2015-11-18\", \"2015-11-17\", \"2015-11-16\", \"2015-11-13\", \"2015-11-12\", \"2015-11-11\", \"2015-11-10\", \"2015-11-09\", \"2015-11-06\", \"2015-11-05\", \"2015-11-04\", \"2015-11-03\", \"2015-11-02\", \"2015-10-30\", \"2015-10-29\", \"2015-10-28\", \"2015-10-27\", \"2015-10-26\", \"2015-10-23\", \"2015-10-22\", \"2015-10-21\", \"2015-10-20\", \"2015-10-19\", \"2015-10-16\", \"2015-10-15\", \"2015-10-14\", \"2015-10-13\", \"2015-10-12\", \"2015-10-09\", \"2015-10-08\", \"2015-10-07\", \"2015-10-06\", \"2015-10-05\", \"2015-10-02\", \"2015-10-01\", \"2015-09-30\", \"2015-09-29\", \"2015-09-28\", \"2015-09-25\", \"2015-09-24\", \"2015-09-23\", \"2015-09-22\", \"2015-09-21\", \"2015-09-18\", \"2015-09-17\", \"2015-09-16\", \"2015-09-15\", \"2015-09-14\", \"2015-09-11\", \"2015-09-10\", \"2015-09-09\", \"2015-09-08\", \"2015-09-04\", \"2015-09-03\", \"2015-09-02\", \"2015-09-01\", \"2015-08-31\", \"2015-08-28\", \"2015-08-27\", \"2015-08-26\", \"2015-08-25\", \"2015-08-24\", \"2015-08-21\", \"2015-08-20\", \"2015-08-19\", \"2015-08-18\", \"2015-08-17\", \"2015-08-14\", \"2015-08-13\", \"2015-08-12\", \"2015-08-11\", \"2015-08-10\", \"2015-08-07\", \"2015-08-06\", \"2015-08-05\", \"2015-08-04\", \"2015-08-03\", \"2015-07-31\", \"2015-07-30\", \"2015-07-29\", \"2015-07-28\", \"2015-07-27\", \"2015-07-24\", \"2015-07-23\", \"2015-07-22\", \"2015-07-21\", \"2015-07-20\", \"2015-07-17\", \"2015-07-16\", \"2015-07-15\", \"2015-07-14\", \"2015-07-13\", \"2015-07-10\", \"2015-07-09\", \"2015-07-08\", \"2015-07-07\", \"2015-07-06\", \"2015-07-02\", \"2015-07-01\", \"2015-06-30\", \"2015-06-29\", \"2015-06-26\", \"2015-06-25\", \"2015-06-24\", \"2015-06-23\", \"2015-06-22\", \"2015-06-19\", \"2015-06-18\", \"2015-06-17\", \"2015-06-16\", \"2015-06-15\", \"2015-06-12\", \"2015-06-11\", \"2015-06-10\", \"2015-06-09\", \"2015-06-08\", \"2015-06-05\", \"2015-06-04\", \"2015-06-03\", \"2015-06-02\", \"2015-06-01\", \"2015-05-29\", \"2015-05-28\", \"2015-05-27\", \"2015-05-26\", \"2015-05-22\", \"2015-05-21\", \"2015-05-20\", \"2015-05-19\", \"2015-05-18\", \"2015-05-15\", \"2015-05-14\", \"2015-05-13\", \"2015-05-12\", \"2015-05-11\", \"2015-05-08\", \"2015-05-07\", \"2015-05-06\", \"2015-05-05\", \"2015-05-04\", \"2015-05-01\", \"2015-04-30\", \"2015-04-29\", \"2015-04-28\", \"2015-04-27\", \"2015-04-24\", \"2015-04-23\", \"2015-04-22\", \"2015-04-21\", \"2015-04-20\", \"2015-04-17\", \"2015-04-16\", \"2015-04-15\", \"2015-04-14\", \"2015-04-13\", \"2015-04-10\", \"2015-04-09\", \"2015-04-08\", \"2015-04-07\", \"2015-04-06\", \"2015-04-02\", \"2015-04-01\", \"2015-03-31\", \"2015-03-30\", \"2015-03-27\", \"2015-03-26\", \"2015-03-25\", \"2015-03-24\", \"2015-03-23\", \"2015-03-20\", \"2015-03-19\", \"2015-03-18\", \"2015-03-17\", \"2015-03-16\", \"2015-03-13\", \"2015-03-12\", \"2015-03-11\", \"2015-03-10\", \"2015-03-09\", \"2015-03-06\", \"2015-03-05\", \"2015-03-04\", \"2015-03-03\", \"2015-03-02\", \"2015-02-27\", \"2015-02-26\", \"2015-02-25\", \"2015-02-24\", \"2015-02-23\", \"2015-02-20\", \"2015-02-19\", \"2015-02-18\", \"2015-02-17\", \"2015-02-13\", \"2015-02-12\", \"2015-02-11\", \"2015-02-10\", \"2015-02-09\", \"2015-02-06\", \"2015-02-05\", \"2015-02-04\", \"2015-02-03\", \"2015-02-02\", \"2015-01-30\", \"2015-01-29\", \"2015-01-28\", \"2015-01-27\", \"2015-01-26\", \"2015-01-23\", \"2015-01-22\", \"2015-01-21\", \"2015-01-20\", \"2015-01-16\", \"2015-01-15\", \"2015-01-14\", \"2015-01-13\", \"2015-01-12\", \"2015-01-09\", \"2015-01-08\", \"2015-01-07\", \"2015-01-06\", \"2015-01-05\", \"2015-01-02\"], \"y\": [15.177, 15.377, 15.581, 15.447000000000001, 15.574000000000002, 15.638, 15.402000000000001, 15.304, 15.116, 15.6, 16.008, 15.708, 15.15, 15.088, 15.513, 15.419, 15.504000000000001, 15.82, 16.052, 15.6, 15.887, 16.017, 15.675999999999998, 15.719000000000001, 15.683, 15.709000000000001, 15.709000000000001, 15.87, 15.907, 16.044, 15.667, 15.675999999999998, 15.469000000000001, 15.619000000000002, 15.963, 16.052, 15.897, 16.142, 15.565999999999999, 15.297, 15.449000000000002, 15.343, 15.091, 15.369000000000002, 15.54, 14.749, 14.845999999999998, 14.856, 14.534, 14.298, 14.571, 14.515999999999998, 14.495999999999999, 14.561, 14.065, 13.957, 13.957, 14.01, 14.162, 14.162, 14.112, 14.112, 13.831, 13.984000000000002, 14.01, 13.806, 13.912, 14.29, 13.984000000000002, 14.136, 14.001, 14.119000000000002, 13.992, 14.265, 14.686, 14.665999999999999, 14.350999999999999, 14.425, 14.425, 14.298, 14.534, 14.075, 14.332, 14.257, 13.966, 14.645, 14.664000000000001, 14.737, 14.397, 13.679, 13.705, 14.433, 14.989, 15.652999999999999, 15.855, 15.929, 15.864, 15.797, 15.704, 15.948, 16.172, 15.91, 15.966, 16.02, 15.956, 15.929, 16.029, 16.252, 16.277, 16.029, 15.84, 16.046, 16.296, 16.538, 16.206, 16.242, 16.223, 16.09, 15.847999999999999, 15.355, 15.257, 14.970999999999998, 14.773, 14.569, 14.960999999999999, 15.185, 15.265, 15.434000000000001, 15.257, 15.14, 15.604000000000001, 15.57, 15.679, 15.84, 15.663, 15.392999999999999, 15.577, 15.57, 15.73, 15.663, 15.679, 15.679, 15.769, 15.517000000000001, 15.309000000000001, 15.407, 15.04, 15.177, 14.944, 14.794, 14.747, 14.899000000000001, 14.960999999999999, 14.747, 14.970999999999998, 14.952, 14.960999999999999, 14.989, 14.755999999999998, 14.610999999999999, 14.765, 14.719000000000001, 14.684000000000001, 14.738, 14.700999999999999, 14.515, 14.56, 14.610999999999999, 14.693, 14.399000000000001, 14.238, 14.283, 13.985999999999999, 13.905999999999999, 13.978, 14.020999999999999, 14.068, 13.853, 13.915, 13.905999999999999, 14.113, 13.978, 14.138, 14.120999999999999, 14.05, 14.04, 13.95, 13.818, 13.862, 13.889000000000001, 13.773, 13.754000000000001, 13.87, 13.681, 13.783, 13.773, 13.95, 14.05, 14.155, 13.95, 14.283, 14.382, 14.415, 14.382, 14.352, 14.328, 14.113, 14.45, 14.495, 14.299000000000001, 14.155, 14.290999999999999, 14.265999999999998, 14.087, 14.290999999999999, 14.692, 14.595, 14.434000000000001, 14.595, 14.442, 14.522, 14.815999999999999, 14.799000000000001, 14.850999999999999, 14.575999999999999, 14.628, 14.569, 14.692, 14.228, 14.069, 14.155, 13.775, 13.498, 13.745999999999999, 13.544, 13.925, 14.122, 14.014000000000001, 14.333, 13.729000000000001, 13.595, 13.700999999999999, 13.544, 14.290999999999999, 14.655, 14.859000000000002, 15.129000000000001, 15.402999999999999, 15.094000000000001, 15.017999999999999, 15.488, 15.949000000000002]}, {\"line\": {\"color\": \"rgba(55, 128, 191, 1.0)\", \"dash\": \"solid\", \"shape\": \"linear\", \"width\": 1.3}, \"mode\": \"lines\", \"name\": \"SMA(14)\", \"text\": \"\", \"type\": \"scatter\", \"x\": [\"2015-12-31\", \"2015-12-30\", \"2015-12-29\", \"2015-12-28\", \"2015-12-24\", \"2015-12-23\", \"2015-12-22\", \"2015-12-21\", \"2015-12-18\", \"2015-12-17\", \"2015-12-16\", \"2015-12-15\", \"2015-12-14\", \"2015-12-11\", \"2015-12-10\", \"2015-12-09\", \"2015-12-08\", \"2015-12-07\", \"2015-12-04\", \"2015-12-03\", \"2015-12-02\", \"2015-12-01\", \"2015-11-30\", \"2015-11-27\", \"2015-11-25\", \"2015-11-24\", \"2015-11-23\", \"2015-11-20\", \"2015-11-19\", \"2015-11-18\", \"2015-11-17\", \"2015-11-16\", \"2015-11-13\", \"2015-11-12\", \"2015-11-11\", \"2015-11-10\", \"2015-11-09\", \"2015-11-06\", \"2015-11-05\", \"2015-11-04\", \"2015-11-03\", \"2015-11-02\", \"2015-10-30\", \"2015-10-29\", \"2015-10-28\", \"2015-10-27\", \"2015-10-26\", \"2015-10-23\", \"2015-10-22\", \"2015-10-21\", \"2015-10-20\", \"2015-10-19\", \"2015-10-16\", \"2015-10-15\", \"2015-10-14\", \"2015-10-13\", \"2015-10-12\", \"2015-10-09\", \"2015-10-08\", \"2015-10-07\", \"2015-10-06\", \"2015-10-05\", \"2015-10-02\", \"2015-10-01\", \"2015-09-30\", \"2015-09-29\", \"2015-09-28\", \"2015-09-25\", \"2015-09-24\", \"2015-09-23\", \"2015-09-22\", \"2015-09-21\", \"2015-09-18\", \"2015-09-17\", \"2015-09-16\", \"2015-09-15\", \"2015-09-14\", \"2015-09-11\", \"2015-09-10\", \"2015-09-09\", \"2015-09-08\", \"2015-09-04\", \"2015-09-03\", \"2015-09-02\", \"2015-09-01\", \"2015-08-31\", \"2015-08-28\", \"2015-08-27\", \"2015-08-26\", \"2015-08-25\", \"2015-08-24\", \"2015-08-21\", \"2015-08-20\", \"2015-08-19\", \"2015-08-18\", \"2015-08-17\", \"2015-08-14\", \"2015-08-13\", \"2015-08-12\", \"2015-08-11\", \"2015-08-10\", \"2015-08-07\", \"2015-08-06\", \"2015-08-05\", \"2015-08-04\", \"2015-08-03\", \"2015-07-31\", \"2015-07-30\", \"2015-07-29\", \"2015-07-28\", \"2015-07-27\", \"2015-07-24\", \"2015-07-23\", \"2015-07-22\", \"2015-07-21\", \"2015-07-20\", \"2015-07-17\", \"2015-07-16\", \"2015-07-15\", \"2015-07-14\", \"2015-07-13\", \"2015-07-10\", \"2015-07-09\", \"2015-07-08\", \"2015-07-07\", \"2015-07-06\", \"2015-07-02\", \"2015-07-01\", \"2015-06-30\", \"2015-06-29\", \"2015-06-26\", \"2015-06-25\", \"2015-06-24\", \"2015-06-23\", \"2015-06-22\", \"2015-06-19\", \"2015-06-18\", \"2015-06-17\", \"2015-06-16\", \"2015-06-15\", \"2015-06-12\", \"2015-06-11\", \"2015-06-10\", \"2015-06-09\", \"2015-06-08\", \"2015-06-05\", \"2015-06-04\", \"2015-06-03\", \"2015-06-02\", \"2015-06-01\", \"2015-05-29\", \"2015-05-28\", \"2015-05-27\", \"2015-05-26\", \"2015-05-22\", \"2015-05-21\", \"2015-05-20\", \"2015-05-19\", \"2015-05-18\", \"2015-05-15\", \"2015-05-14\", \"2015-05-13\", \"2015-05-12\", \"2015-05-11\", \"2015-05-08\", \"2015-05-07\", \"2015-05-06\", \"2015-05-05\", \"2015-05-04\", \"2015-05-01\", \"2015-04-30\", \"2015-04-29\", \"2015-04-28\", \"2015-04-27\", \"2015-04-24\", \"2015-04-23\", \"2015-04-22\", \"2015-04-21\", \"2015-04-20\", \"2015-04-17\", \"2015-04-16\", \"2015-04-15\", \"2015-04-14\", \"2015-04-13\", \"2015-04-10\", \"2015-04-09\", \"2015-04-08\", \"2015-04-07\", \"2015-04-06\", \"2015-04-02\", \"2015-04-01\", \"2015-03-31\", \"2015-03-30\", \"2015-03-27\", \"2015-03-26\", \"2015-03-25\", \"2015-03-24\", \"2015-03-23\", \"2015-03-20\", \"2015-03-19\", \"2015-03-18\", \"2015-03-17\", \"2015-03-16\", \"2015-03-13\", \"2015-03-12\", \"2015-03-11\", \"2015-03-10\", \"2015-03-09\", \"2015-03-06\", \"2015-03-05\", \"2015-03-04\", \"2015-03-03\", \"2015-03-02\", \"2015-02-27\", \"2015-02-26\", \"2015-02-25\", \"2015-02-24\", \"2015-02-23\", \"2015-02-20\", \"2015-02-19\", \"2015-02-18\", \"2015-02-17\", \"2015-02-13\", \"2015-02-12\", \"2015-02-11\", \"2015-02-10\", \"2015-02-09\", \"2015-02-06\", \"2015-02-05\", \"2015-02-04\", \"2015-02-03\", \"2015-02-02\", \"2015-01-30\", \"2015-01-29\", \"2015-01-28\", \"2015-01-27\", \"2015-01-26\", \"2015-01-23\", \"2015-01-22\", \"2015-01-21\", \"2015-01-20\", \"2015-01-16\", \"2015-01-15\", \"2015-01-14\", \"2015-01-13\", \"2015-01-12\", \"2015-01-09\", \"2015-01-08\", \"2015-01-07\", \"2015-01-06\", \"2015-01-05\", \"2015-01-02\"], \"y\": [\"\", \"\", \"\", \"\", \"\", \"\", \"\", \"\", \"\", \"\", \"\", \"\", \"\", 15.440714285714288, 15.464714285714289, 15.467714285714289, 15.462214285714287, 15.488857142857144, 15.523, 15.520285714285714, 15.554928571428572, 15.605857142857143, 15.64585714285714, 15.65435714285714, 15.631142857142853, 15.631214285714282, 15.671142857142854, 15.726999999999999, 15.755142857142856, 15.799785714285713, 15.81142857142857, 15.801142857142855, 15.7595, 15.760857142857143, 15.766285714285713, 15.768785714285713, 15.784571428571427, 15.814785714285714, 15.80642857142857, 15.777, 15.75842857142857, 15.720785714285713, 15.662499999999998, 15.614285714285712, 15.605214285714283, 15.538999999999998, 15.494499999999999, 15.439999999999998, 15.337928571428568, 15.212642857142855, 15.11792857142857, 15.001785714285713, 14.925357142857141, 14.872785714285714, 14.77392857142857, 14.67492857142857, 14.593928571428568, 14.49685714285714, 14.39842857142857, 14.356499999999999, 14.304071428571428, 14.25092857142857, 14.200714285714284, 14.178285714285712, 14.138214285714284, 14.0875, 14.045785714285714, 14.02642857142857, 14.020642857142857, 14.033428571428571, 14.03657142857143, 14.044357142857143, 14.032214285714286, 14.03957142857143, 14.08057142857143, 14.120142857142858, 14.157285714285717, 14.188785714285716, 14.218428571428575, 14.253571428571432, 14.298000000000002, 14.282642857142859, 14.307500000000001, 14.316142857142859, 14.313642857142858, 14.351214285714288, 14.399214285714288, 14.432928571428574, 14.412285714285716, 14.341785714285717, 14.29564285714286, 14.296214285714287, 14.336500000000001, 14.433285714285715, 14.527642857142856, 14.66007142857143, 14.769500000000003, 14.879500000000002, 15.003642857142859, 15.096714285714286, 15.204428571428574, 15.288214285714288, 15.400285714285717, 15.567500000000004, 15.728285714285716, 15.83514285714286, 15.909428571428574, 15.95221428571429, 15.982357142857149, 15.989500000000005, 15.98778571428572, 16.005571428571432, 16.047857142857147, 16.090000000000003, 16.092428571428574, 16.116142857142858, 16.134500000000003, 16.1395, 16.13178571428572, 16.09078571428572, 16.03564285714286, 15.944142857142861, 15.83671428571429, 15.732428571428574, 15.66964285714286, 15.60814285714286, 15.534500000000005, 15.45564285714286, 15.387857142857147, 15.309142857142861, 15.264928571428575, 15.227785714285718, 15.215714285714288, 15.250357142857146, 15.279357142857148, 15.309500000000003, 15.366928571428575, 15.438428571428576, 15.493357142857146, 15.527500000000003, 15.557071428571431, 15.574571428571431, 15.61114285714286, 15.638071428571433, 15.617000000000003, 15.605357142857146, 15.55971428571429, 15.512357142857145, 15.461, 15.418214285714287, 15.358928571428574, 15.311000000000003, 15.256071428571433, 15.19064285714286, 15.140071428571432, 15.08814285714286, 15.030428571428574, 14.992714285714289, 14.95321428571429, 14.896357142857145, 14.876714285714288, 14.844000000000003, 14.825428571428574, 14.821428571428573, 14.818142857142858, 14.790714285714285, 14.762071428571428, 14.75235714285714, 14.732499999999998, 14.692999999999998, 14.641357142857142, 14.590928571428568, 14.535928571428569, 14.485571428571427, 14.42935714285714, 14.379499999999997, 14.335499999999998, 14.272285714285713, 14.216142857142856, 14.172642857142856, 14.140714285714283, 14.0955, 14.05585714285714, 14.036, 14.022571428571428, 14.005214285714287, 14.002642857142858, 13.996357142857144, 13.988071428571429, 13.978642857142859, 13.957571428571429, 13.9505, 13.947285714285714, 13.931214285714287, 13.907642857142857, 13.892999999999999, 13.879571428571426, 13.874499999999998, 13.881999999999996, 13.875571428571424, 13.89935714285714, 13.939642857142854, 13.979142857142852, 14.014357142857138, 14.055714285714282, 14.096714285714283, 14.114071428571425, 14.168999999999995, 14.219857142857139, 14.257428571428568, 14.272071428571426, 14.289285714285711, 14.297214285714281, 14.306999999999997, 14.307571428571425, 14.329714285714283, 14.342571428571427, 14.346285714285711, 14.363642857142853, 14.37178571428571, 14.400999999999996, 14.427142857142854, 14.44885714285714, 14.48828571428571, 14.51835714285714, 14.542428571428568, 14.564071428571424, 14.60728571428571, 14.602785714285712, 14.558285714285711, 14.52685714285714, 14.479785714285711, 14.401428571428568, 14.351714285714282, 14.28185714285714, 14.218214285714284, 14.16985714285714, 14.110071428571427, 14.092714285714283, 14.0285, 13.958928571428572, 13.888142857142856, 13.839285714285714, 13.855142857142857, 13.890857142857143, 13.968285714285715, 14.084785714285715, 14.203142857142856, 14.313857142857142, 14.391928571428569, 14.489499999999996, 14.627714285714282]}, {\"line\": {\"color\": \"rgba(55, 128, 191, 0.8999999999999999)\", \"dash\": \"solid\", \"shape\": \"linear\", \"width\": 1.3}, \"mode\": \"lines\", \"name\": \"UPPER(14)\", \"text\": \"\", \"type\": \"scatter\", \"x\": [\"2015-12-31\", \"2015-12-30\", \"2015-12-29\", \"2015-12-28\", \"2015-12-24\", \"2015-12-23\", \"2015-12-22\", \"2015-12-21\", \"2015-12-18\", \"2015-12-17\", \"2015-12-16\", \"2015-12-15\", \"2015-12-14\", \"2015-12-11\", \"2015-12-10\", \"2015-12-09\", \"2015-12-08\", \"2015-12-07\", \"2015-12-04\", \"2015-12-03\", \"2015-12-02\", \"2015-12-01\", \"2015-11-30\", \"2015-11-27\", \"2015-11-25\", \"2015-11-24\", \"2015-11-23\", \"2015-11-20\", \"2015-11-19\", \"2015-11-18\", \"2015-11-17\", \"2015-11-16\", \"2015-11-13\", \"2015-11-12\", \"2015-11-11\", \"2015-11-10\", \"2015-11-09\", \"2015-11-06\", \"2015-11-05\", \"2015-11-04\", \"2015-11-03\", \"2015-11-02\", \"2015-10-30\", \"2015-10-29\", \"2015-10-28\", \"2015-10-27\", \"2015-10-26\", \"2015-10-23\", \"2015-10-22\", \"2015-10-21\", \"2015-10-20\", \"2015-10-19\", \"2015-10-16\", \"2015-10-15\", \"2015-10-14\", \"2015-10-13\", \"2015-10-12\", \"2015-10-09\", \"2015-10-08\", \"2015-10-07\", \"2015-10-06\", \"2015-10-05\", \"2015-10-02\", \"2015-10-01\", \"2015-09-30\", \"2015-09-29\", \"2015-09-28\", \"2015-09-25\", \"2015-09-24\", \"2015-09-23\", \"2015-09-22\", \"2015-09-21\", \"2015-09-18\", \"2015-09-17\", \"2015-09-16\", \"2015-09-15\", \"2015-09-14\", \"2015-09-11\", \"2015-09-10\", \"2015-09-09\", \"2015-09-08\", \"2015-09-04\", \"2015-09-03\", \"2015-09-02\", \"2015-09-01\", \"2015-08-31\", \"2015-08-28\", \"2015-08-27\", \"2015-08-26\", \"2015-08-25\", \"2015-08-24\", \"2015-08-21\", \"2015-08-20\", \"2015-08-19\", \"2015-08-18\", \"2015-08-17\", \"2015-08-14\", \"2015-08-13\", \"2015-08-12\", \"2015-08-11\", \"2015-08-10\", \"2015-08-07\", \"2015-08-06\", \"2015-08-05\", \"2015-08-04\", \"2015-08-03\", \"2015-07-31\", \"2015-07-30\", \"2015-07-29\", \"2015-07-28\", \"2015-07-27\", \"2015-07-24\", \"2015-07-23\", \"2015-07-22\", \"2015-07-21\", \"2015-07-20\", \"2015-07-17\", \"2015-07-16\", \"2015-07-15\", \"2015-07-14\", \"2015-07-13\", \"2015-07-10\", \"2015-07-09\", \"2015-07-08\", \"2015-07-07\", \"2015-07-06\", \"2015-07-02\", \"2015-07-01\", \"2015-06-30\", \"2015-06-29\", \"2015-06-26\", \"2015-06-25\", \"2015-06-24\", \"2015-06-23\", \"2015-06-22\", \"2015-06-19\", \"2015-06-18\", \"2015-06-17\", \"2015-06-16\", \"2015-06-15\", \"2015-06-12\", \"2015-06-11\", \"2015-06-10\", \"2015-06-09\", \"2015-06-08\", \"2015-06-05\", \"2015-06-04\", \"2015-06-03\", \"2015-06-02\", \"2015-06-01\", \"2015-05-29\", \"2015-05-28\", \"2015-05-27\", \"2015-05-26\", \"2015-05-22\", \"2015-05-21\", \"2015-05-20\", \"2015-05-19\", \"2015-05-18\", \"2015-05-15\", \"2015-05-14\", \"2015-05-13\", \"2015-05-12\", \"2015-05-11\", \"2015-05-08\", \"2015-05-07\", \"2015-05-06\", \"2015-05-05\", \"2015-05-04\", \"2015-05-01\", \"2015-04-30\", \"2015-04-29\", \"2015-04-28\", \"2015-04-27\", \"2015-04-24\", \"2015-04-23\", \"2015-04-22\", \"2015-04-21\", \"2015-04-20\", \"2015-04-17\", \"2015-04-16\", \"2015-04-15\", \"2015-04-14\", \"2015-04-13\", \"2015-04-10\", \"2015-04-09\", \"2015-04-08\", \"2015-04-07\", \"2015-04-06\", \"2015-04-02\", \"2015-04-01\", \"2015-03-31\", \"2015-03-30\", \"2015-03-27\", \"2015-03-26\", \"2015-03-25\", \"2015-03-24\", \"2015-03-23\", \"2015-03-20\", \"2015-03-19\", \"2015-03-18\", \"2015-03-17\", \"2015-03-16\", \"2015-03-13\", \"2015-03-12\", \"2015-03-11\", \"2015-03-10\", \"2015-03-09\", \"2015-03-06\", \"2015-03-05\", \"2015-03-04\", \"2015-03-03\", \"2015-03-02\", \"2015-02-27\", \"2015-02-26\", \"2015-02-25\", \"2015-02-24\", \"2015-02-23\", \"2015-02-20\", \"2015-02-19\", \"2015-02-18\", \"2015-02-17\", \"2015-02-13\", \"2015-02-12\", \"2015-02-11\", \"2015-02-10\", \"2015-02-09\", \"2015-02-06\", \"2015-02-05\", \"2015-02-04\", \"2015-02-03\", \"2015-02-02\", \"2015-01-30\", \"2015-01-29\", \"2015-01-28\", \"2015-01-27\", \"2015-01-26\", \"2015-01-23\", \"2015-01-22\", \"2015-01-21\", \"2015-01-20\", \"2015-01-16\", \"2015-01-15\", \"2015-01-14\", \"2015-01-13\", \"2015-01-12\", \"2015-01-09\", \"2015-01-08\", \"2015-01-07\", \"2015-01-06\", \"2015-01-05\", \"2015-01-02\"], \"y\": [\"\", \"\", \"\", \"\", \"\", \"\", \"\", \"\", \"\", \"\", \"\", \"\", \"\", 15.967880543868453, 15.970315179440025, 15.971568616660432, 15.962409434444448, 16.024071180354355, 16.13682432966795, 16.13225274636477, 16.19242920275771, 16.270353647284068, 16.247806722725166, 16.25687780047573, 16.199017088691654, 16.199130410925324, 16.167400145959142, 16.10165471283056, 16.11960482700051, 16.13912913332305, 16.116511374096156, 16.114576306973152, 16.08407949127115, 16.08271124945524, 16.099662312210565, 16.11067744575044, 16.12841102828278, 16.20501576759464, 16.213465681273856, 16.26575288706603, 16.277151686712305, 16.279571308820266, 16.30201363731173, 16.23128412025369, 16.22260840174187, 16.304713744464294, 16.34541037221229, 16.35209918488995, 16.315398292159113, 16.243998233377404, 16.121732862585493, 15.861038047089398, 15.758373019386186, 15.697625159202184, 15.632343376765697, 15.569555769861427, 15.530635557642494, 15.366858330174756, 15.042521118188121, 14.978324981560167, 14.869308731649706, 14.725215381304173, 14.69436344706827, 14.68133758717079, 14.59363103725337, 14.519205562053225, 14.415928454794894, 14.294881362620801, 14.289006109405221, 14.305757235176806, 14.306101748584952, 14.316861886237572, 14.29718357690616, 14.324994422939936, 14.529109370906617, 14.667492194132766, 14.69050492368718, 14.7299526463424, 14.762863756119707, 14.744183425844355, 14.76756936081412, 14.767164259158275, 14.760718066039528, 14.75978641270926, 14.765259172950083, 14.820259258838593, 14.846962277040054, 14.907424880426593, 14.86395164159273, 14.914702772893637, 14.961829066797536, 14.96289200906582, 15.098105086440674, 15.468910068092535, 15.81332318758581, 16.115624078420794, 16.344274953396884, 16.514071456423316, 16.60296821628514, 16.756640035410786, 16.937497297357005, 17.03728211279712, 17.10383990453646, 16.9775286412803, 16.653435990169058, 16.385484768848855, 16.17470835323893, 16.232150738471706, 16.304847077958613, 16.311328191144554, 16.312734163282606, 16.312282732855792, 16.33826996005982, 16.474110561006743, 16.479193229972875, 16.4953629938549, 16.507237688750916, 16.507468853196933, 16.520281969942488, 16.653542761780887, 16.75420364399084, 16.846705655177203, 16.91041713203527, 16.99302567397364, 16.993150227066323, 16.936324461301844, 16.811743365762602, 16.594862457002012, 16.444704954371765, 16.249706307631737, 16.068685313919012, 15.905472357811412, 15.850471866853042, 15.965686268673853, 16.02799019753039, 16.038372152976475, 16.038122439689566, 15.933669127917192, 15.927280643483181, 15.931066980428602, 15.937807124730355, 15.953457012507053, 15.955225903596904, 15.860998066087541, 15.901158135821941, 15.910400501331647, 15.984868323733345, 15.950524379734206, 15.983532295652576, 16.051160110870253, 16.077500858584212, 16.05788028079881, 15.983056123907378, 15.92470997088143, 15.825125705718367, 15.7039344588258, 15.507071778925223, 15.37838646900857, 15.311658941733201, 15.191705289071862, 15.167452792143727, 15.088595741833377, 15.07670802271201, 15.076615639205098, 15.07858846007724, 15.092135972006055, 15.069930001781337, 15.070669623235737, 15.02575625444169, 15.00712687294727, 15.000226827491256, 14.937570008239318, 14.995647859881597, 15.05194543617016, 15.031364353211478, 14.993666978046688, 14.943930894881316, 14.884461369606111, 14.802578167834747, 14.75390864152022, 14.67774797815183, 14.56421460892029, 14.377775295037493, 14.29486022364305, 14.254383971254022, 14.183158405847614, 14.182809629700895, 14.196122554728502, 14.200347684405948, 14.196277140560234, 14.194229850756487, 14.20580042634555, 14.205626489317199, 14.226037495917684, 14.192456001980728, 14.183258240457969, 14.136482924000155, 14.113027211800121, 14.149180146659774, 14.13042186952191, 14.23384697909938, 14.357411734830919, 14.464408118238559, 14.541212900167334, 14.591776525826974, 14.621046199719018, 14.621902693271133, 14.640073406005966, 14.66440625385369, 14.620787867472979, 14.596499886287045, 14.587469373303783, 14.585764165227241, 14.550620133056935, 14.550986508422309, 14.647372475085557, 14.68841951819867, 14.695062414787763, 14.736966892217943, 14.746730369542197, 14.752060809985394, 14.842538021843954, 14.908913899986224, 14.986086062631408, 14.978899035810153, 14.98672210869043, 14.978902229508991, 14.922001144790336, 14.938109372925936, 14.993179461571735, 15.011115088833938, 15.109264218138778, 15.215244167356621, 15.236769843664884, 15.258647131195776, 15.160587453208507, 15.051363845006348, 14.901510415688929, 14.850060026725929, 14.741487107446215, 14.633786716880948, 14.42569964177421, 14.368045324387154, 14.425274748573495, 14.589958481232763, 14.832685703098328, 15.102238999116569, 15.417319591748264, 15.551569886253098, 15.66145991179624, 15.874394941863786, 16.183831826968063]}, {\"line\": {\"color\": \"rgba(55, 128, 191, 0.7999999999999998)\", \"dash\": \"solid\", \"shape\": \"linear\", \"width\": 1.3}, \"mode\": \"lines\", \"name\": \"LOWER(14)\", \"text\": \"\", \"type\": \"scatter\", \"x\": [\"2015-12-31\", \"2015-12-30\", \"2015-12-29\", \"2015-12-28\", \"2015-12-24\", \"2015-12-23\", \"2015-12-22\", \"2015-12-21\", \"2015-12-18\", \"2015-12-17\", \"2015-12-16\", \"2015-12-15\", \"2015-12-14\", \"2015-12-11\", \"2015-12-10\", \"2015-12-09\", \"2015-12-08\", \"2015-12-07\", \"2015-12-04\", \"2015-12-03\", \"2015-12-02\", \"2015-12-01\", \"2015-11-30\", \"2015-11-27\", \"2015-11-25\", \"2015-11-24\", \"2015-11-23\", \"2015-11-20\", \"2015-11-19\", \"2015-11-18\", \"2015-11-17\", \"2015-11-16\", \"2015-11-13\", \"2015-11-12\", \"2015-11-11\", \"2015-11-10\", \"2015-11-09\", \"2015-11-06\", \"2015-11-05\", \"2015-11-04\", \"2015-11-03\", \"2015-11-02\", \"2015-10-30\", \"2015-10-29\", \"2015-10-28\", \"2015-10-27\", \"2015-10-26\", \"2015-10-23\", \"2015-10-22\", \"2015-10-21\", \"2015-10-20\", \"2015-10-19\", \"2015-10-16\", \"2015-10-15\", \"2015-10-14\", \"2015-10-13\", \"2015-10-12\", \"2015-10-09\", \"2015-10-08\", \"2015-10-07\", \"2015-10-06\", \"2015-10-05\", \"2015-10-02\", \"2015-10-01\", \"2015-09-30\", \"2015-09-29\", \"2015-09-28\", \"2015-09-25\", \"2015-09-24\", \"2015-09-23\", \"2015-09-22\", \"2015-09-21\", \"2015-09-18\", \"2015-09-17\", \"2015-09-16\", \"2015-09-15\", \"2015-09-14\", \"2015-09-11\", \"2015-09-10\", \"2015-09-09\", \"2015-09-08\", \"2015-09-04\", \"2015-09-03\", \"2015-09-02\", \"2015-09-01\", \"2015-08-31\", \"2015-08-28\", \"2015-08-27\", \"2015-08-26\", \"2015-08-25\", \"2015-08-24\", \"2015-08-21\", \"2015-08-20\", \"2015-08-19\", \"2015-08-18\", \"2015-08-17\", \"2015-08-14\", \"2015-08-13\", \"2015-08-12\", \"2015-08-11\", \"2015-08-10\", \"2015-08-07\", \"2015-08-06\", \"2015-08-05\", \"2015-08-04\", \"2015-08-03\", \"2015-07-31\", \"2015-07-30\", \"2015-07-29\", \"2015-07-28\", \"2015-07-27\", \"2015-07-24\", \"2015-07-23\", \"2015-07-22\", \"2015-07-21\", \"2015-07-20\", \"2015-07-17\", \"2015-07-16\", \"2015-07-15\", \"2015-07-14\", \"2015-07-13\", \"2015-07-10\", \"2015-07-09\", \"2015-07-08\", \"2015-07-07\", \"2015-07-06\", \"2015-07-02\", \"2015-07-01\", \"2015-06-30\", \"2015-06-29\", \"2015-06-26\", \"2015-06-25\", \"2015-06-24\", \"2015-06-23\", \"2015-06-22\", \"2015-06-19\", \"2015-06-18\", \"2015-06-17\", \"2015-06-16\", \"2015-06-15\", \"2015-06-12\", \"2015-06-11\", \"2015-06-10\", \"2015-06-09\", \"2015-06-08\", \"2015-06-05\", \"2015-06-04\", \"2015-06-03\", \"2015-06-02\", \"2015-06-01\", \"2015-05-29\", \"2015-05-28\", \"2015-05-27\", \"2015-05-26\", \"2015-05-22\", \"2015-05-21\", \"2015-05-20\", \"2015-05-19\", \"2015-05-18\", \"2015-05-15\", \"2015-05-14\", \"2015-05-13\", \"2015-05-12\", \"2015-05-11\", \"2015-05-08\", \"2015-05-07\", \"2015-05-06\", \"2015-05-05\", \"2015-05-04\", \"2015-05-01\", \"2015-04-30\", \"2015-04-29\", \"2015-04-28\", \"2015-04-27\", \"2015-04-24\", \"2015-04-23\", \"2015-04-22\", \"2015-04-21\", \"2015-04-20\", \"2015-04-17\", \"2015-04-16\", \"2015-04-15\", \"2015-04-14\", \"2015-04-13\", \"2015-04-10\", \"2015-04-09\", \"2015-04-08\", \"2015-04-07\", \"2015-04-06\", \"2015-04-02\", \"2015-04-01\", \"2015-03-31\", \"2015-03-30\", \"2015-03-27\", \"2015-03-26\", \"2015-03-25\", \"2015-03-24\", \"2015-03-23\", \"2015-03-20\", \"2015-03-19\", \"2015-03-18\", \"2015-03-17\", \"2015-03-16\", \"2015-03-13\", \"2015-03-12\", \"2015-03-11\", \"2015-03-10\", \"2015-03-09\", \"2015-03-06\", \"2015-03-05\", \"2015-03-04\", \"2015-03-03\", \"2015-03-02\", \"2015-02-27\", \"2015-02-26\", \"2015-02-25\", \"2015-02-24\", \"2015-02-23\", \"2015-02-20\", \"2015-02-19\", \"2015-02-18\", \"2015-02-17\", \"2015-02-13\", \"2015-02-12\", \"2015-02-11\", \"2015-02-10\", \"2015-02-09\", \"2015-02-06\", \"2015-02-05\", \"2015-02-04\", \"2015-02-03\", \"2015-02-02\", \"2015-01-30\", \"2015-01-29\", \"2015-01-28\", \"2015-01-27\", \"2015-01-26\", \"2015-01-23\", \"2015-01-22\", \"2015-01-21\", \"2015-01-20\", \"2015-01-16\", \"2015-01-15\", \"2015-01-14\", \"2015-01-13\", \"2015-01-12\", \"2015-01-09\", \"2015-01-08\", \"2015-01-07\", \"2015-01-06\", \"2015-01-05\", \"2015-01-02\"], \"y\": [\"\", \"\", \"\", \"\", \"\", \"\", \"\", \"\", \"\", \"\", \"\", \"\", \"\", 14.913548027560122, 14.959113391988552, 14.963859954768145, 14.962019136984127, 14.953643105359934, 14.90917567033205, 14.90831868220666, 14.917427940099431, 14.941360638430218, 15.043907562989114, 15.05183648523855, 15.063268625594054, 15.06329816050324, 15.174885568326566, 15.35234528716944, 15.390680887285201, 15.460442295248377, 15.506345768760983, 15.487709407312558, 15.434920508728847, 15.439003036259045, 15.43290911636086, 15.426893982820985, 15.440731828860073, 15.424555660976788, 15.399391461583287, 15.288247112933972, 15.239705456144836, 15.162000119751161, 15.022986362688263, 14.997287308317734, 14.987820169686694, 14.773286255535703, 14.64358962778771, 14.527900815110044, 14.360458850698022, 14.181287480908304, 14.114124280271646, 14.142533381482028, 14.092341266328097, 14.047946269369243, 13.915513766091443, 13.780301372995712, 13.657221585214643, 13.626855955539524, 13.754336024669017, 13.73467501843983, 13.738834125493149, 13.776641761552968, 13.707065124360298, 13.675233841400635, 13.682797534175197, 13.655794437946776, 13.675642973776533, 13.757975780236338, 13.752279604880492, 13.761099907680336, 13.767041108557907, 13.771852399476714, 13.767244994522411, 13.754148434202923, 13.632033486236242, 13.572793520152949, 13.624066504884253, 13.647618782229031, 13.673993386737443, 13.762959431298508, 13.828430639185884, 13.798121455127443, 13.854281933960474, 13.872499301576457, 13.862026541335633, 13.882169312589983, 13.951466294388522, 13.958432262430556, 13.960619786978702, 13.768868655677796, 13.629456647488185, 13.629536562362754, 13.574894913559328, 13.397661360478894, 13.241962526699902, 13.204518778722063, 13.194725046603123, 13.244928543576687, 13.404317498000575, 13.436788536017787, 13.47135984550014, 13.539146458631457, 13.696731524034972, 14.157471358719707, 14.803135438402375, 15.284800945436865, 15.644148789618217, 15.672277832956873, 15.659867207755685, 15.667671808855456, 15.662837265288832, 15.698860124287073, 15.757444325654475, 15.705889438993266, 15.705663912884274, 15.736922720430815, 15.761762311249088, 15.771531146803069, 15.74328945862895, 15.528028666790549, 15.317082070294882, 15.041580059108517, 14.76301143939331, 14.471831468883506, 14.346135487219398, 14.279961252983878, 14.257256634237407, 14.31642325728371, 14.331009331342527, 14.368579406653984, 14.461171828938138, 14.550099070760023, 14.580956704575534, 14.535028017040439, 14.530724088183906, 14.580627847023534, 14.695734703167586, 14.94318801493996, 15.059433642231111, 15.123933019571405, 15.176335732412507, 15.19568584463581, 15.267059810688817, 15.415144791055324, 15.332841864178064, 15.300313784382645, 15.134560247695234, 15.074189905980083, 14.938467704347424, 14.785268460558319, 14.640356284272938, 14.564119719201198, 14.529086733235488, 14.45657574340429, 14.455017151424496, 14.472351255459918, 14.553785363931926, 14.607042102420008, 14.59476962969538, 14.601008996642427, 14.585975779284848, 14.59940425816663, 14.574149120145139, 14.566241503652048, 14.557697254208476, 14.489292599422516, 14.454212855361519, 14.434044662478541, 14.439243745558306, 14.378873127052726, 14.282487458223029, 14.244287134617819, 14.07620928297554, 13.919197420972695, 13.827349932502804, 13.765333021953305, 13.72706910511868, 13.660110058965316, 13.629707546450964, 13.591377072765493, 13.603680593276737, 13.626785391079709, 13.733938990676789, 13.777139776356949, 13.790758885888835, 13.82727016558096, 13.822476084584821, 13.796591730985787, 13.77579517273691, 13.761008573725483, 13.72091300638637, 13.695199573654449, 13.68894493925423, 13.63639107551089, 13.622829712304986, 13.60274175954203, 13.622659933142696, 13.635972788199874, 13.614819853340219, 13.620720987620938, 13.5648673066149, 13.521873979454789, 13.493877596047145, 13.487501385546942, 13.51965204560159, 13.572382371709548, 13.606240163871716, 13.697926593994024, 13.775308031860588, 13.894069275384156, 13.947642970855807, 13.991102055267639, 14.008664406201321, 14.063379866943059, 14.064156348720541, 14.01205609634301, 13.996723338944184, 13.99750901378366, 13.990318822067763, 13.996841059029224, 14.049939190014598, 14.011747692441755, 13.988800385728055, 13.990485365940014, 14.057815249904126, 14.098135034166706, 14.149240627633857, 14.292570283781085, 14.267462055645488, 14.123391966999687, 14.04259919688034, 13.850307210432645, 13.587612975500514, 13.46665872776368, 13.305067154518504, 13.275841118220061, 13.288350440707932, 13.318632441453925, 13.335368544702638, 13.315512892553784, 13.284070425976196, 13.350586072511502, 13.310526104184273, 13.28501096571222, 13.191755804481524, 13.103885725473102, 13.067332429454861, 12.988966122537448, 13.076144399461185, 13.122397231060898, 13.104605058136206, 13.071596744460502]}],                        {\"legend\": {\"bgcolor\": \"#F5F6F9\", \"font\": {\"color\": \"#4D5663\"}}, \"paper_bgcolor\": \"#F5F6F9\", \"plot_bgcolor\": \"#F5F6F9\", \"template\": {\"data\": {\"bar\": [{\"error_x\": {\"color\": \"#2a3f5f\"}, \"error_y\": {\"color\": \"#2a3f5f\"}, \"marker\": {\"line\": {\"color\": \"#E5ECF6\", \"width\": 0.5}}, \"type\": \"bar\"}], \"barpolar\": [{\"marker\": {\"line\": {\"color\": \"#E5ECF6\", \"width\": 0.5}}, \"type\": \"barpolar\"}], \"carpet\": [{\"aaxis\": {\"endlinecolor\": \"#2a3f5f\", \"gridcolor\": \"white\", \"linecolor\": \"white\", \"minorgridcolor\": \"white\", \"startlinecolor\": \"#2a3f5f\"}, \"baxis\": {\"endlinecolor\": \"#2a3f5f\", \"gridcolor\": \"white\", \"linecolor\": \"white\", \"minorgridcolor\": \"white\", \"startlinecolor\": \"#2a3f5f\"}, \"type\": \"carpet\"}], \"choropleth\": [{\"colorbar\": {\"outlinewidth\": 0, \"ticks\": \"\"}, \"type\": \"choropleth\"}], \"contour\": [{\"colorbar\": {\"outlinewidth\": 0, \"ticks\": \"\"}, \"colorscale\": [[0.0, \"#0d0887\"], [0.1111111111111111, \"#46039f\"], [0.2222222222222222, \"#7201a8\"], [0.3333333333333333, \"#9c179e\"], [0.4444444444444444, \"#bd3786\"], [0.5555555555555556, \"#d8576b\"], [0.6666666666666666, \"#ed7953\"], [0.7777777777777778, \"#fb9f3a\"], [0.8888888888888888, \"#fdca26\"], [1.0, \"#f0f921\"]], \"type\": \"contour\"}], \"contourcarpet\": [{\"colorbar\": {\"outlinewidth\": 0, \"ticks\": \"\"}, \"type\": \"contourcarpet\"}], \"heatmap\": [{\"colorbar\": {\"outlinewidth\": 0, \"ticks\": \"\"}, \"colorscale\": [[0.0, \"#0d0887\"], [0.1111111111111111, \"#46039f\"], [0.2222222222222222, \"#7201a8\"], [0.3333333333333333, \"#9c179e\"], [0.4444444444444444, \"#bd3786\"], [0.5555555555555556, \"#d8576b\"], [0.6666666666666666, \"#ed7953\"], [0.7777777777777778, \"#fb9f3a\"], [0.8888888888888888, \"#fdca26\"], [1.0, \"#f0f921\"]], \"type\": \"heatmap\"}], \"heatmapgl\": [{\"colorbar\": {\"outlinewidth\": 0, \"ticks\": \"\"}, \"colorscale\": [[0.0, \"#0d0887\"], [0.1111111111111111, \"#46039f\"], [0.2222222222222222, \"#7201a8\"], [0.3333333333333333, \"#9c179e\"], [0.4444444444444444, \"#bd3786\"], [0.5555555555555556, \"#d8576b\"], [0.6666666666666666, \"#ed7953\"], [0.7777777777777778, \"#fb9f3a\"], [0.8888888888888888, \"#fdca26\"], [1.0, \"#f0f921\"]], \"type\": \"heatmapgl\"}], \"histogram\": [{\"marker\": {\"colorbar\": {\"outlinewidth\": 0, \"ticks\": \"\"}}, \"type\": \"histogram\"}], \"histogram2d\": [{\"colorbar\": {\"outlinewidth\": 0, \"ticks\": \"\"}, \"colorscale\": [[0.0, \"#0d0887\"], [0.1111111111111111, \"#46039f\"], [0.2222222222222222, \"#7201a8\"], [0.3333333333333333, \"#9c179e\"], [0.4444444444444444, \"#bd3786\"], [0.5555555555555556, \"#d8576b\"], [0.6666666666666666, \"#ed7953\"], [0.7777777777777778, \"#fb9f3a\"], [0.8888888888888888, \"#fdca26\"], [1.0, \"#f0f921\"]], \"type\": \"histogram2d\"}], \"histogram2dcontour\": [{\"colorbar\": {\"outlinewidth\": 0, \"ticks\": \"\"}, \"colorscale\": [[0.0, \"#0d0887\"], [0.1111111111111111, \"#46039f\"], [0.2222222222222222, \"#7201a8\"], [0.3333333333333333, \"#9c179e\"], [0.4444444444444444, \"#bd3786\"], [0.5555555555555556, \"#d8576b\"], [0.6666666666666666, \"#ed7953\"], [0.7777777777777778, \"#fb9f3a\"], [0.8888888888888888, \"#fdca26\"], [1.0, \"#f0f921\"]], \"type\": \"histogram2dcontour\"}], \"mesh3d\": [{\"colorbar\": {\"outlinewidth\": 0, \"ticks\": \"\"}, \"type\": \"mesh3d\"}], \"parcoords\": [{\"line\": {\"colorbar\": {\"outlinewidth\": 0, \"ticks\": \"\"}}, \"type\": \"parcoords\"}], \"pie\": [{\"automargin\": true, \"type\": \"pie\"}], \"scatter\": [{\"marker\": {\"colorbar\": {\"outlinewidth\": 0, \"ticks\": \"\"}}, \"type\": \"scatter\"}], \"scatter3d\": [{\"line\": {\"colorbar\": {\"outlinewidth\": 0, \"ticks\": \"\"}}, \"marker\": {\"colorbar\": {\"outlinewidth\": 0, \"ticks\": \"\"}}, \"type\": \"scatter3d\"}], \"scattercarpet\": [{\"marker\": {\"colorbar\": {\"outlinewidth\": 0, \"ticks\": \"\"}}, \"type\": \"scattercarpet\"}], \"scattergeo\": [{\"marker\": {\"colorbar\": {\"outlinewidth\": 0, \"ticks\": \"\"}}, \"type\": \"scattergeo\"}], \"scattergl\": [{\"marker\": {\"colorbar\": {\"outlinewidth\": 0, \"ticks\": \"\"}}, \"type\": \"scattergl\"}], \"scattermapbox\": [{\"marker\": {\"colorbar\": {\"outlinewidth\": 0, \"ticks\": \"\"}}, \"type\": \"scattermapbox\"}], \"scatterpolar\": [{\"marker\": {\"colorbar\": {\"outlinewidth\": 0, \"ticks\": \"\"}}, \"type\": \"scatterpolar\"}], \"scatterpolargl\": [{\"marker\": {\"colorbar\": {\"outlinewidth\": 0, \"ticks\": \"\"}}, \"type\": \"scatterpolargl\"}], \"scatterternary\": [{\"marker\": {\"colorbar\": {\"outlinewidth\": 0, \"ticks\": \"\"}}, \"type\": \"scatterternary\"}], \"surface\": [{\"colorbar\": {\"outlinewidth\": 0, \"ticks\": \"\"}, \"colorscale\": [[0.0, \"#0d0887\"], [0.1111111111111111, \"#46039f\"], [0.2222222222222222, \"#7201a8\"], [0.3333333333333333, \"#9c179e\"], [0.4444444444444444, \"#bd3786\"], [0.5555555555555556, \"#d8576b\"], [0.6666666666666666, \"#ed7953\"], [0.7777777777777778, \"#fb9f3a\"], [0.8888888888888888, \"#fdca26\"], [1.0, \"#f0f921\"]], \"type\": \"surface\"}], \"table\": [{\"cells\": {\"fill\": {\"color\": \"#EBF0F8\"}, \"line\": {\"color\": \"white\"}}, \"header\": {\"fill\": {\"color\": \"#C8D4E3\"}, \"line\": {\"color\": \"white\"}}, \"type\": \"table\"}]}, \"layout\": {\"annotationdefaults\": {\"arrowcolor\": \"#2a3f5f\", \"arrowhead\": 0, \"arrowwidth\": 1}, \"autotypenumbers\": \"strict\", \"coloraxis\": {\"colorbar\": {\"outlinewidth\": 0, \"ticks\": \"\"}}, \"colorscale\": {\"diverging\": [[0, \"#8e0152\"], [0.1, \"#c51b7d\"], [0.2, \"#de77ae\"], [0.3, \"#f1b6da\"], [0.4, \"#fde0ef\"], [0.5, \"#f7f7f7\"], [0.6, \"#e6f5d0\"], [0.7, \"#b8e186\"], [0.8, \"#7fbc41\"], [0.9, \"#4d9221\"], [1, \"#276419\"]], \"sequential\": [[0.0, \"#0d0887\"], [0.1111111111111111, \"#46039f\"], [0.2222222222222222, \"#7201a8\"], [0.3333333333333333, \"#9c179e\"], [0.4444444444444444, \"#bd3786\"], [0.5555555555555556, \"#d8576b\"], [0.6666666666666666, \"#ed7953\"], [0.7777777777777778, \"#fb9f3a\"], [0.8888888888888888, \"#fdca26\"], [1.0, \"#f0f921\"]], \"sequentialminus\": [[0.0, \"#0d0887\"], [0.1111111111111111, \"#46039f\"], [0.2222222222222222, \"#7201a8\"], [0.3333333333333333, \"#9c179e\"], [0.4444444444444444, \"#bd3786\"], [0.5555555555555556, \"#d8576b\"], [0.6666666666666666, \"#ed7953\"], [0.7777777777777778, \"#fb9f3a\"], [0.8888888888888888, \"#fdca26\"], [1.0, \"#f0f921\"]]}, \"colorway\": [\"#636efa\", \"#EF553B\", \"#00cc96\", \"#ab63fa\", \"#FFA15A\", \"#19d3f3\", \"#FF6692\", \"#B6E880\", \"#FF97FF\", \"#FECB52\"], \"font\": {\"color\": \"#2a3f5f\"}, \"geo\": {\"bgcolor\": \"white\", \"lakecolor\": \"white\", \"landcolor\": \"#E5ECF6\", \"showlakes\": true, \"showland\": true, \"subunitcolor\": \"white\"}, \"hoverlabel\": {\"align\": \"left\"}, \"hovermode\": \"closest\", \"mapbox\": {\"style\": \"light\"}, \"paper_bgcolor\": \"white\", \"plot_bgcolor\": \"#E5ECF6\", \"polar\": {\"angularaxis\": {\"gridcolor\": \"white\", \"linecolor\": \"white\", \"ticks\": \"\"}, \"bgcolor\": \"#E5ECF6\", \"radialaxis\": {\"gridcolor\": \"white\", \"linecolor\": \"white\", \"ticks\": \"\"}}, \"scene\": {\"xaxis\": {\"backgroundcolor\": \"#E5ECF6\", \"gridcolor\": \"white\", \"gridwidth\": 2, \"linecolor\": \"white\", \"showbackground\": true, \"ticks\": \"\", \"zerolinecolor\": \"white\"}, \"yaxis\": {\"backgroundcolor\": \"#E5ECF6\", \"gridcolor\": \"white\", \"gridwidth\": 2, \"linecolor\": \"white\", \"showbackground\": true, \"ticks\": \"\", \"zerolinecolor\": \"white\"}, \"zaxis\": {\"backgroundcolor\": \"#E5ECF6\", \"gridcolor\": \"white\", \"gridwidth\": 2, \"linecolor\": \"white\", \"showbackground\": true, \"ticks\": \"\", \"zerolinecolor\": \"white\"}}, \"shapedefaults\": {\"line\": {\"color\": \"#2a3f5f\"}}, \"ternary\": {\"aaxis\": {\"gridcolor\": \"white\", \"linecolor\": \"white\", \"ticks\": \"\"}, \"baxis\": {\"gridcolor\": \"white\", \"linecolor\": \"white\", \"ticks\": \"\"}, \"bgcolor\": \"#E5ECF6\", \"caxis\": {\"gridcolor\": \"white\", \"linecolor\": \"white\", \"ticks\": \"\"}}, \"title\": {\"x\": 0.05}, \"xaxis\": {\"automargin\": true, \"gridcolor\": \"white\", \"linecolor\": \"white\", \"ticks\": \"\", \"title\": {\"standoff\": 15}, \"zerolinecolor\": \"white\", \"zerolinewidth\": 2}, \"yaxis\": {\"automargin\": true, \"gridcolor\": \"white\", \"linecolor\": \"white\", \"ticks\": \"\", \"title\": {\"standoff\": 15}, \"zerolinecolor\": \"white\", \"zerolinewidth\": 2}}}, \"title\": {\"font\": {\"color\": \"#4D5663\"}}, \"xaxis\": {\"gridcolor\": \"#E1E5ED\", \"showgrid\": true, \"tickfont\": {\"color\": \"#4D5663\"}, \"title\": {\"font\": {\"color\": \"#4D5663\"}, \"text\": \"\"}, \"zerolinecolor\": \"#E1E5ED\"}, \"yaxis\": {\"gridcolor\": \"#E1E5ED\", \"showgrid\": true, \"tickfont\": {\"color\": \"#4D5663\"}, \"title\": {\"font\": {\"color\": \"#4D5663\"}, \"text\": \"\"}, \"zerolinecolor\": \"#E1E5ED\"}},                        {\"showLink\": true, \"linkText\": \"Export to plot.ly\", \"plotlyServerURL\": \"https://plot.ly\", \"responsive\": true}                    ).then(function(){\n",
       "                            \n",
       "var gd = document.getElementById('cf8f6212-fc7e-466a-89cf-3c8b10392279');\n",
       "var x = new MutationObserver(function (mutations, observer) {{\n",
       "        var display = window.getComputedStyle(gd).display;\n",
       "        if (!display || display === 'none') {{\n",
       "            console.log([gd, 'removed!']);\n",
       "            Plotly.purge(gd);\n",
       "            observer.disconnect();\n",
       "        }}\n",
       "}});\n",
       "\n",
       "// Listen for the removal of the full notebook cells\n",
       "var notebookContainer = gd.closest('#notebook-container');\n",
       "if (notebookContainer) {{\n",
       "    x.observe(notebookContainer, {childList: true});\n",
       "}}\n",
       "\n",
       "// Listen for the clearing of the current output cell\n",
       "var outputEl = gd.closest('.output');\n",
       "if (outputEl) {{\n",
       "    x.observe(outputEl, {childList: true});\n",
       "}}\n",
       "\n",
       "                        })                };                });            </script>        </div>"
      ]
     },
     "metadata": {},
     "output_type": "display_data"
    }
   ],
   "source": [
    "BAC['Close'].loc['2016-01-01':'2015-01-01'].ta_plot(study='boll')"
   ]
  }
 ],
 "metadata": {
  "kernelspec": {
   "display_name": "Python 3",
   "language": "python",
   "name": "python3"
  },
  "language_info": {
   "codemirror_mode": {
    "name": "ipython",
    "version": 3
   },
   "file_extension": ".py",
   "mimetype": "text/x-python",
   "name": "python",
   "nbconvert_exporter": "python",
   "pygments_lexer": "ipython3",
   "version": "3.8.5"
  }
 },
 "nbformat": 4,
 "nbformat_minor": 1
}
